{
 "cells": [
  {
   "cell_type": "markdown",
   "metadata": {},
   "source": [
    "# Copy Trading"
   ]
  },
  {
   "cell_type": "markdown",
   "metadata": {},
   "source": [
    "## Import libraries"
   ]
  },
  {
   "cell_type": "code",
   "execution_count": 1,
   "metadata": {},
   "outputs": [],
   "source": [
    "import pandas as pd\n",
    "import datetime\n",
    "\n",
    "from matplotlib import pyplot as plt\n",
    "import seaborn as sns\n",
    "\n",
    "import numpy as np\n",
    "\n",
    "sns.set()"
   ]
  },
  {
   "cell_type": "markdown",
   "metadata": {},
   "source": [
    "## Input"
   ]
  },
  {
   "cell_type": "markdown",
   "metadata": {},
   "source": [
    "### Load data"
   ]
  },
  {
   "cell_type": "code",
   "execution_count": 2,
   "metadata": {},
   "outputs": [],
   "source": [
    "df = pd.read_csv(\"Statistics.csv\")"
   ]
  },
  {
   "cell_type": "code",
   "execution_count": 3,
   "metadata": {},
   "outputs": [
    {
     "data": {
      "text/plain": [
       "Index(['Name', 'ID', 'Hotforex url', 'Location', 'Last updated', 'Message',\n",
       "       'Active since', 'Gain', 'Max Drawdown', 'Followers', 'Performance Fee',\n",
       "       'Stability Score', 'Performance', 'Balance', 'Equity',\n",
       "       'Initial Deposit', 'Total Deposits', 'Total Withdrawals', 'Profit',\n",
       "       'Number of Closed Trades', 'Number of Open Trades',\n",
       "       'Positive Closed Trades', 'Negative Closed Trades', 'Profitability',\n",
       "       'Average Profit', 'Average Loss', 'Average Lot Size',\n",
       "       'Average Trade Length', 'Activity'],\n",
       "      dtype='object')"
      ]
     },
     "execution_count": 3,
     "metadata": {},
     "output_type": "execute_result"
    }
   ],
   "source": [
    "df.columns"
   ]
  },
  {
   "cell_type": "markdown",
   "metadata": {},
   "source": [
    "Description:\n",
    "\n",
    "- **Gain**: A time-weighted return method of calculating investment return. To apply the time-weighted return method, combine the return over sub-periods, by compounding them together, resulting in the overall period return. The rate of return over each different sub-period is weighted according to the duration of the sub-period.\n",
    "\n",
    "- **Max Drawdown**: Worst losing sequence leading to the largest drop in balance (from the date of account opening).\n",
    "\n",
    "- **Performance Fee**: The percentage of any profit made on the Follower’s account which is then payable to the Strategy Provider as his reward. Performance fees are paid every other Saturday or at time of withdrawal or unfollowing.\n",
    "\n",
    "- **Stability Score**: Risk Score is determined by comparing certain performance elements between individual Strategy Providers and all other active Strategy Providers. The elements taken into account are daily volatility on return, trading allocation capital and length of overall trading activity within HFcopy system. Strategy Providers are scored 1 to 5 based on the weighted elements where 5 is the highest divergent performance across all other participating Strategy Providers, making it less stable across the board regardless of market conditions and 1 being less unstable overall.\n",
    "\n",
    "- **Performace**: Show the results of the trading account. It measures in (%).\n",
    "\n",
    "- **Profitability**: Percentage of trades closed with positive profits.\n",
    "\n",
    "- **Average Profit**: Average profit for all profitable closed trades. Sometimes the units in USD or USC (USD cent).\n",
    "\n",
    "- **Average Loss**: Average loss for all unprofitable closed trades. Sometimes the units in USD or USC (USD cent).\n",
    "\n",
    "- **Gain**: A time-weighted return method of calculating investment return. To apply the time-weighted return method, combine the return over sub-periods, by compounding them together, resulting in the overall period return. The rate of return over each different sub-period is weighted according to the duration of the sub-period. In order to understand how hotforex makes this calculations, please check this [section](#performance_example)."
   ]
  },
  {
   "cell_type": "markdown",
   "metadata": {},
   "source": [
    "### Bounds"
   ]
  },
  {
   "cell_type": "markdown",
   "metadata": {},
   "source": [
    "The objective is to define parameters to bound the analysis."
   ]
  },
  {
   "cell_type": "code",
   "execution_count": 4,
   "metadata": {},
   "outputs": [],
   "source": [
    "max_drawdown_limit = 40\n",
    "num_days_limit = 90"
   ]
  },
  {
   "cell_type": "markdown",
   "metadata": {},
   "source": [
    "## Exploratory Data Analysis"
   ]
  },
  {
   "cell_type": "markdown",
   "metadata": {},
   "source": [
    "### \"ID\" numbers"
   ]
  },
  {
   "cell_type": "markdown",
   "metadata": {},
   "source": [
    "Extract only ID numbers."
   ]
  },
  {
   "cell_type": "code",
   "execution_count": 5,
   "metadata": {},
   "outputs": [
    {
     "data": {
      "text/html": [
       "<div>\n",
       "<style scoped>\n",
       "    .dataframe tbody tr th:only-of-type {\n",
       "        vertical-align: middle;\n",
       "    }\n",
       "\n",
       "    .dataframe tbody tr th {\n",
       "        vertical-align: top;\n",
       "    }\n",
       "\n",
       "    .dataframe thead th {\n",
       "        text-align: right;\n",
       "    }\n",
       "</style>\n",
       "<table border=\"1\" class=\"dataframe\">\n",
       "  <thead>\n",
       "    <tr style=\"text-align: right;\">\n",
       "      <th></th>\n",
       "      <th>ID</th>\n",
       "    </tr>\n",
       "  </thead>\n",
       "  <tbody>\n",
       "    <tr>\n",
       "      <th>0</th>\n",
       "      <td>35412226  • Copy Pro account</td>\n",
       "    </tr>\n",
       "    <tr>\n",
       "      <th>1</th>\n",
       "      <td>66169040  • Copy Cent account</td>\n",
       "    </tr>\n",
       "    <tr>\n",
       "      <th>2</th>\n",
       "      <td>66167076  • Copy Cent account</td>\n",
       "    </tr>\n",
       "    <tr>\n",
       "      <th>3</th>\n",
       "      <td>66169034  • Copy Cent account</td>\n",
       "    </tr>\n",
       "    <tr>\n",
       "      <th>4</th>\n",
       "      <td>35378631  • Copy Premium account</td>\n",
       "    </tr>\n",
       "  </tbody>\n",
       "</table>\n",
       "</div>"
      ],
      "text/plain": [
       "                                 ID\n",
       "0      35412226  • Copy Pro account\n",
       "1     66169040  • Copy Cent account\n",
       "2     66167076  • Copy Cent account\n",
       "3     66169034  • Copy Cent account\n",
       "4  35378631  • Copy Premium account"
      ]
     },
     "execution_count": 5,
     "metadata": {},
     "output_type": "execute_result"
    }
   ],
   "source": [
    "df[['ID']].head()"
   ]
  },
  {
   "cell_type": "code",
   "execution_count": 6,
   "metadata": {},
   "outputs": [],
   "source": [
    "# Get ID\n",
    "df['ID'] = df['ID'].apply(lambda x: x.split('  • ')[0] if not pd.isnull(x) else \"\")"
   ]
  },
  {
   "cell_type": "markdown",
   "metadata": {},
   "source": [
    "### \"Active since\" and \"Last updated\""
   ]
  },
  {
   "cell_type": "markdown",
   "metadata": {},
   "source": [
    "We need to convert these two columns as datetime object"
   ]
  },
  {
   "cell_type": "code",
   "execution_count": 7,
   "metadata": {},
   "outputs": [
    {
     "data": {
      "text/html": [
       "<div>\n",
       "<style scoped>\n",
       "    .dataframe tbody tr th:only-of-type {\n",
       "        vertical-align: middle;\n",
       "    }\n",
       "\n",
       "    .dataframe tbody tr th {\n",
       "        vertical-align: top;\n",
       "    }\n",
       "\n",
       "    .dataframe thead th {\n",
       "        text-align: right;\n",
       "    }\n",
       "</style>\n",
       "<table border=\"1\" class=\"dataframe\">\n",
       "  <thead>\n",
       "    <tr style=\"text-align: right;\">\n",
       "      <th></th>\n",
       "      <th>Active since</th>\n",
       "      <th>Last updated</th>\n",
       "    </tr>\n",
       "  </thead>\n",
       "  <tbody>\n",
       "    <tr>\n",
       "      <th>0</th>\n",
       "      <td>24/10/2023</td>\n",
       "      <td>06/11/2023 11:49:50</td>\n",
       "    </tr>\n",
       "    <tr>\n",
       "      <th>1</th>\n",
       "      <td>23/10/2023</td>\n",
       "      <td>06/11/2023 11:52:49</td>\n",
       "    </tr>\n",
       "    <tr>\n",
       "      <th>2</th>\n",
       "      <td>13/10/2023</td>\n",
       "      <td>06/11/2023 11:52:34</td>\n",
       "    </tr>\n",
       "    <tr>\n",
       "      <th>3</th>\n",
       "      <td>23/10/2023</td>\n",
       "      <td>06/11/2023 11:52:48</td>\n",
       "    </tr>\n",
       "    <tr>\n",
       "      <th>4</th>\n",
       "      <td>29/03/2023</td>\n",
       "      <td>06/11/2023 11:44:45</td>\n",
       "    </tr>\n",
       "  </tbody>\n",
       "</table>\n",
       "</div>"
      ],
      "text/plain": [
       "  Active since         Last updated\n",
       "0   24/10/2023  06/11/2023 11:49:50\n",
       "1   23/10/2023  06/11/2023 11:52:49\n",
       "2   13/10/2023  06/11/2023 11:52:34\n",
       "3   23/10/2023  06/11/2023 11:52:48\n",
       "4   29/03/2023  06/11/2023 11:44:45"
      ]
     },
     "execution_count": 7,
     "metadata": {},
     "output_type": "execute_result"
    }
   ],
   "source": [
    "df[['Active since', 'Last updated']].head()"
   ]
  },
  {
   "cell_type": "code",
   "execution_count": 8,
   "metadata": {},
   "outputs": [],
   "source": [
    "# Last updated column. Ignore NaN values\n",
    "df['Last updated'] = pd.to_datetime(df['Last updated'], format= '%m/%d/%Y %H:%M:%S', errors='coerce')\n",
    "\n",
    "# Active since column. Ignore NaN values\n",
    "df['Active since'] = pd.to_datetime(df['Active since'], format= '%d/%m/%Y', errors='coerce')"
   ]
  },
  {
   "cell_type": "markdown",
   "metadata": {},
   "source": [
    "### Location and Strategies age"
   ]
  },
  {
   "cell_type": "markdown",
   "metadata": {},
   "source": [
    "In this section, you will filter the data by the number of active days."
   ]
  },
  {
   "cell_type": "code",
   "execution_count": 9,
   "metadata": {},
   "outputs": [
    {
     "data": {
      "text/plain": [
       "0   2023-10-24\n",
       "1   2023-10-23\n",
       "2   2023-10-13\n",
       "3   2023-10-23\n",
       "4   2023-03-29\n",
       "Name: Active since, dtype: datetime64[ns]"
      ]
     },
     "execution_count": 9,
     "metadata": {},
     "output_type": "execute_result"
    }
   ],
   "source": [
    "# Compute the age of the strategy\n",
    "df['Active since'].head()"
   ]
  },
  {
   "cell_type": "code",
   "execution_count": 10,
   "metadata": {},
   "outputs": [],
   "source": [
    "# Day when you scraped data\n",
    "start_date = '2023-11-08'\n",
    "start_date = datetime.datetime.strptime(start_date, '%Y-%m-%d')"
   ]
  },
  {
   "cell_type": "code",
   "execution_count": 11,
   "metadata": {},
   "outputs": [],
   "source": [
    "# Number of days of the strategies. \".days\" attribute extract days from timedelta object\n",
    "df['Num days strategies'] = (start_date - df.loc[:, 'Active since']).apply(lambda x: x.days) # type: ignore"
   ]
  },
  {
   "cell_type": "code",
   "execution_count": 12,
   "metadata": {},
   "outputs": [
    {
     "name": "stdout",
     "output_type": "stream",
     "text": [
      "Minimum days: 2.0,   Maximum days 1882.0\n"
     ]
    }
   ],
   "source": [
    "print(f\"Minimum days: {df['Num days strategies'].min()},   Maximum days {df['Num days strategies'].max()}\")"
   ]
  },
  {
   "cell_type": "markdown",
   "metadata": {},
   "source": [
    "Select only strategies with a minimun of days on the market. This is a personal criteria."
   ]
  },
  {
   "cell_type": "code",
   "execution_count": 13,
   "metadata": {},
   "outputs": [],
   "source": [
    "df_selected = df[df['Num days strategies'] >= num_days_limit].copy()\n",
    "df_selected.reset_index(drop=True, inplace=True)"
   ]
  },
  {
   "cell_type": "code",
   "execution_count": 14,
   "metadata": {},
   "outputs": [
    {
     "name": "stdout",
     "output_type": "stream",
     "text": [
      "We have 513 strategies with more than 90 days.\n"
     ]
    }
   ],
   "source": [
    "print(f\"We have {df_selected.shape[0]} strategies with more than {num_days_limit} days.\")"
   ]
  },
  {
   "cell_type": "markdown",
   "metadata": {},
   "source": [
    "### Max Drawdown"
   ]
  },
  {
   "cell_type": "code",
   "execution_count": 15,
   "metadata": {},
   "outputs": [
    {
     "data": {
      "image/png": "[encoded data removed]",
      "text/plain": [
       "<Figure size 1400x400 with 1 Axes>"
      ]
     },
     "metadata": {},
     "output_type": "display_data"
    }
   ],
   "source": [
    "fig, axes = plt.subplots(figsize=(14,4))\n",
    "sns.histplot(data=df_selected, x='Max Drawdown', bins=20, ec='black');"
   ]
  },
  {
   "cell_type": "markdown",
   "metadata": {},
   "source": [
    "We are not interested in analyse strategies with a Maximum Drawdown greater than 40%."
   ]
  },
  {
   "cell_type": "code",
   "execution_count": 16,
   "metadata": {},
   "outputs": [],
   "source": [
    "df_selected = df_selected[df_selected['Max Drawdown'] <= max_drawdown_limit].copy()\n",
    "df_selected.reset_index(drop=True, inplace=True)"
   ]
  },
  {
   "cell_type": "code",
   "execution_count": 17,
   "metadata": {},
   "outputs": [
    {
     "name": "stdout",
     "output_type": "stream",
     "text": [
      "We have selected 187 strategies to analyze.\n"
     ]
    }
   ],
   "source": [
    "print(f\"We have selected {df_selected.shape[0]} strategies to analyze.\")"
   ]
  },
  {
   "cell_type": "markdown",
   "metadata": {},
   "source": [
    "### Locations"
   ]
  },
  {
   "cell_type": "code",
   "execution_count": 18,
   "metadata": {},
   "outputs": [
    {
     "data": {
      "image/png": "[encoded data removed]",
      "text/plain": [
       "<Figure size 1400x500 with 1 Axes>"
      ]
     },
     "metadata": {},
     "output_type": "display_data"
    }
   ],
   "source": [
    "fig, axes = plt.subplots(figsize=(14,5))\n",
    "bar_plot = sns.countplot(data=df_selected, x='Location', ax=axes)\n",
    "\n",
    "bar_plot.set_xticklabels(bar_plot.get_xticklabels(), rotation=45, horizontalalignment='right');"
   ]
  },
  {
   "cell_type": "markdown",
   "metadata": {},
   "source": [
    "Most of the strategies are in Asia"
   ]
  },
  {
   "cell_type": "code",
   "execution_count": 19,
   "metadata": {},
   "outputs": [
    {
     "data": {
      "image/png": "[encoded data removed]",
      "text/plain": [
       "<Figure size 1400x400 with 1 Axes>"
      ]
     },
     "metadata": {},
     "output_type": "display_data"
    }
   ],
   "source": [
    "fig, axes = plt.subplots(figsize=(14,4))\n",
    "sns.histplot(data=df_selected, x='Num days strategies', bins=20, ec='black');"
   ]
  },
  {
   "cell_type": "code",
   "execution_count": 20,
   "metadata": {},
   "outputs": [
    {
     "data": {
      "text/plain": [
       "array([  90. ,  161.4,  232.8,  304.2,  375.6,  447. ,  518.4,  589.8,\n",
       "        661.2,  732.6,  804. ,  875.4,  946.8, 1018.2, 1089.6, 1161. ,\n",
       "       1232.4, 1303.8, 1375.2, 1446.6, 1518. ])"
      ]
     },
     "execution_count": 20,
     "metadata": {},
     "output_type": "execute_result"
    }
   ],
   "source": [
    "np.histogram_bin_edges(df_selected['Num days strategies'], bins=20, range=None, weights=None)"
   ]
  },
  {
   "cell_type": "markdown",
   "metadata": {},
   "source": [
    "Most of the strategies with less than two years."
   ]
  },
  {
   "cell_type": "markdown",
   "metadata": {},
   "source": [
    "### Followers"
   ]
  },
  {
   "cell_type": "code",
   "execution_count": 21,
   "metadata": {},
   "outputs": [
    {
     "data": {
      "image/png": "[encoded data removed]",
      "text/plain": [
       "<Figure size 1400x400 with 1 Axes>"
      ]
     },
     "metadata": {},
     "output_type": "display_data"
    }
   ],
   "source": [
    "fig, axes = plt.subplots(figsize=(14,4))\n",
    "sns.histplot(data=df_selected, x='Followers', bins=20, ec='black');"
   ]
  },
  {
   "cell_type": "markdown",
   "metadata": {},
   "source": [
    "Most of the strategies don't have followers. Only a few strategies have more than 10"
   ]
  },
  {
   "cell_type": "code",
   "execution_count": 22,
   "metadata": {},
   "outputs": [
    {
     "data": {
      "image/png": "[encoded data removed]",
      "text/plain": [
       "<Figure size 1400x400 with 1 Axes>"
      ]
     },
     "metadata": {},
     "output_type": "display_data"
    }
   ],
   "source": [
    "fig, axes = plt.subplots(figsize=(14,4))\n",
    "\n",
    "temp = pd.DataFrame()\n",
    "temp['Followers'] = df_selected['Followers']\n",
    "\n",
    "def find_cat(x):\n",
    "    if x <= 2:\n",
    "        return str(int(x))\n",
    "    elif  3 <= x <= 6:\n",
    "        return \"3-6\"\n",
    "    elif  7 <= x <= 9:\n",
    "        return \"7-9\"\n",
    "    elif  10 <= x <= 50:\n",
    "        return \"10-50\"\n",
    "    elif  x > 50:\n",
    "        return \">50\"\n",
    "\n",
    "# Apply function to define different categories\n",
    "temp['Categories'] = temp['Followers'].apply(find_cat)\n",
    "\n",
    "# Group by new categories\n",
    "temp = temp.groupby('Categories', as_index=False).count()\n",
    "\n",
    "# We need to reindex to put the groups in the correct order\n",
    "temp = temp.reindex(index=[0,1,3,4,5,2,6])\n",
    "\n",
    "temp.plot.bar(x='Categories', y='Followers', rot=0, width=0.8, ax=axes);"
   ]
  },
  {
   "cell_type": "markdown",
   "metadata": {},
   "source": [
    "Only 5 strategies have between 10 and 50 followers. "
   ]
  },
  {
   "cell_type": "code",
   "execution_count": 23,
   "metadata": {},
   "outputs": [
    {
     "name": "stdout",
     "output_type": "stream",
     "text": [
      "Only 12 strategies between 10 and 50 followers\n"
     ]
    }
   ],
   "source": [
    "# Define min and max number of followers\n",
    "num_followers_min, num_followers_max = 10, 50\n",
    "\n",
    "# Condition to filter DataFrame\n",
    "condition = (df_selected['Followers'] >= num_followers_min) & (df_selected['Followers'] <= num_followers_max)\n",
    "\n",
    "print(f\"Only {df_selected[condition].shape[0]} strategies between {num_followers_min} and {num_followers_max} followers\")"
   ]
  },
  {
   "cell_type": "code",
   "execution_count": 24,
   "metadata": {},
   "outputs": [
    {
     "name": "stdout",
     "output_type": "stream",
     "text": [
      "Only 8 strategies with more than 50 followers\n"
     ]
    }
   ],
   "source": [
    "# Condition to filter DataFrame\n",
    "condition = df_selected['Followers'] > num_followers_max\n",
    "\n",
    "print(f\"Only {df_selected[condition].shape[0]} strategies with more than {num_followers_max} followers\")"
   ]
  },
  {
   "cell_type": "markdown",
   "metadata": {},
   "source": [
    "**For this Notebook, the popular strategies would be with the followers greater than or equal to 10.**"
   ]
  },
  {
   "cell_type": "markdown",
   "metadata": {},
   "source": [
    "### Performance Fee"
   ]
  },
  {
   "cell_type": "code",
   "execution_count": 25,
   "metadata": {},
   "outputs": [
    {
     "data": {
      "image/png": "[encoded data removed]",
      "text/plain": [
       "<Figure size 1400x400 with 1 Axes>"
      ]
     },
     "metadata": {},
     "output_type": "display_data"
    }
   ],
   "source": [
    "fig, axes = plt.subplots(figsize=(14,4))\n",
    "sns.countplot(data=df_selected, x='Performance Fee', ec='black');"
   ]
  },
  {
   "cell_type": "markdown",
   "metadata": {},
   "source": [
    "Most of the strategies requieres 30% of fees."
   ]
  },
  {
   "cell_type": "code",
   "execution_count": 26,
   "metadata": {},
   "outputs": [
    {
     "data": {
      "image/png": "[encoded data removed]",
      "text/plain": [
       "<Figure size 1400x400 with 1 Axes>"
      ]
     },
     "metadata": {},
     "output_type": "display_data"
    }
   ],
   "source": [
    "fig, axes = plt.subplots(figsize=(14,4))\n",
    "sns.countplot(data=df_selected[df_selected['Followers'] >= num_followers_min], x='Performance Fee', ec='black');"
   ]
  },
  {
   "cell_type": "markdown",
   "metadata": {},
   "source": [
    "The fees distribution of popular stratetegies show a range between 20% - 50%"
   ]
  },
  {
   "cell_type": "markdown",
   "metadata": {},
   "source": [
    "### Stabililty Score"
   ]
  },
  {
   "cell_type": "code",
   "execution_count": 27,
   "metadata": {},
   "outputs": [
    {
     "data": {
      "image/png": "[encoded data removed]",
      "text/plain": [
       "<Figure size 1400x400 with 1 Axes>"
      ]
     },
     "metadata": {},
     "output_type": "display_data"
    }
   ],
   "source": [
    "fig, axes = plt.subplots(figsize=(14,4))\n",
    "sns.countplot(data=df_selected, x='Stability Score', ec='black');"
   ]
  },
  {
   "cell_type": "markdown",
   "metadata": {},
   "source": [
    "On average, good stability scores."
   ]
  },
  {
   "cell_type": "code",
   "execution_count": 28,
   "metadata": {},
   "outputs": [
    {
     "data": {
      "image/png": "[encoded data removed]",
      "text/plain": [
       "<Figure size 1400x400 with 1 Axes>"
      ]
     },
     "metadata": {},
     "output_type": "display_data"
    }
   ],
   "source": [
    "fig, axes = plt.subplots(figsize=(14,4))\n",
    "sns.countplot(data=df_selected[df_selected['Followers'] >= num_followers_min], x='Stability Score', ec='black');"
   ]
  },
  {
   "cell_type": "markdown",
   "metadata": {},
   "source": [
    "The popular strategies show a good stability score."
   ]
  },
  {
   "cell_type": "markdown",
   "metadata": {},
   "source": [
    "### Performance"
   ]
  },
  {
   "cell_type": "code",
   "execution_count": 29,
   "metadata": {},
   "outputs": [],
   "source": [
    "# Convert string to dictionary\n",
    "df_selected['Performance'] = df_selected['Performance'].apply(lambda x: eval(x))"
   ]
  },
  {
   "cell_type": "markdown",
   "metadata": {},
   "source": [
    "In order to understand the performance percentages, let's select the first user. <a id=\"performance_example\"></a>\n",
    "\n",
    "The list starts from January to December which the last value is the total of percentage gained by the user. The unit of each number is a percentage."
   ]
  },
  {
   "cell_type": "code",
   "execution_count": 30,
   "metadata": {},
   "outputs": [
    {
     "data": {
      "text/plain": [
       "{'2023': [None,\n",
       "  None,\n",
       "  '0.48',\n",
       "  '29.41',\n",
       "  '31.4',\n",
       "  '-0.8',\n",
       "  '19.62',\n",
       "  '88.66',\n",
       "  '130.53',\n",
       "  '134.78',\n",
       "  '0.3',\n",
       "  None,\n",
       "  '1976.25']}"
      ]
     },
     "execution_count": 30,
     "metadata": {},
     "output_type": "execute_result"
    }
   ],
   "source": [
    "df_selected.loc[0, 'Performance']"
   ]
  },
  {
   "cell_type": "code",
   "execution_count": 31,
   "metadata": {},
   "outputs": [
    {
     "data": {
      "text/plain": [
       "1976.47932228928"
      ]
     },
     "execution_count": 31,
     "metadata": {},
     "output_type": "execute_result"
    }
   ],
   "source": [
    "# Percentage initial\n",
    "initial = 100\n",
    "\n",
    "# The user \"35378631\" is in the position 4.\n",
    "for item in df_selected.loc[0, 'Performance']['2023'][0:12]: # type: ignore\n",
    "    if item:\n",
    "        initial = initial + initial*(float(item)/100)\n",
    "\n",
    "initial - 100"
   ]
  },
  {
   "cell_type": "markdown",
   "metadata": {},
   "source": [
    "There is a small difference between this value and the last value of dictionary."
   ]
  },
  {
   "cell_type": "markdown",
   "metadata": {},
   "source": [
    "The next step is delete the last value of each year list, because we don't need to use the total percentage for the calculations."
   ]
  },
  {
   "cell_type": "code",
   "execution_count": 32,
   "metadata": {},
   "outputs": [
    {
     "data": {
      "text/plain": [
       "{'2023': [None,\n",
       "  None,\n",
       "  '0.48',\n",
       "  '29.41',\n",
       "  '31.4',\n",
       "  '-0.8',\n",
       "  '19.62',\n",
       "  '88.66',\n",
       "  '130.53',\n",
       "  '134.78',\n",
       "  '0.3',\n",
       "  None,\n",
       "  '1976.25']}"
      ]
     },
     "execution_count": 32,
     "metadata": {},
     "output_type": "execute_result"
    }
   ],
   "source": [
    "df_selected.loc[0, 'Performance']"
   ]
  },
  {
   "cell_type": "code",
   "execution_count": 33,
   "metadata": {},
   "outputs": [],
   "source": [
    "df_selected['Performance'].apply(lambda x: [x[key].pop() for key in x.keys()]);"
   ]
  },
  {
   "cell_type": "code",
   "execution_count": 34,
   "metadata": {},
   "outputs": [
    {
     "data": {
      "text/plain": [
       "{'2023': [None,\n",
       "  None,\n",
       "  '0.48',\n",
       "  '29.41',\n",
       "  '31.4',\n",
       "  '-0.8',\n",
       "  '19.62',\n",
       "  '88.66',\n",
       "  '130.53',\n",
       "  '134.78',\n",
       "  '0.3',\n",
       "  None]}"
      ]
     },
     "execution_count": 34,
     "metadata": {},
     "output_type": "execute_result"
    }
   ],
   "source": [
    "df_selected.loc[0, 'Performance']"
   ]
  },
  {
   "cell_type": "markdown",
   "metadata": {},
   "source": [
    "Delete the last two values of 2023 because this data was scrapped at the begining of November. This is an optional and it depends of the scrape date."
   ]
  },
  {
   "cell_type": "code",
   "execution_count": 35,
   "metadata": {},
   "outputs": [],
   "source": [
    "for item in range(2):\n",
    "    df_selected['Performance'].apply(lambda x: [x['2023'].pop()]);"
   ]
  },
  {
   "cell_type": "code",
   "execution_count": 36,
   "metadata": {},
   "outputs": [
    {
     "data": {
      "text/plain": [
       "{'2023': [None,\n",
       "  None,\n",
       "  '0.48',\n",
       "  '29.41',\n",
       "  '31.4',\n",
       "  '-0.8',\n",
       "  '19.62',\n",
       "  '88.66',\n",
       "  '130.53',\n",
       "  '134.78']}"
      ]
     },
     "execution_count": 36,
     "metadata": {},
     "output_type": "execute_result"
    }
   ],
   "source": [
    "df_selected.loc[0, 'Performance']"
   ]
  },
  {
   "cell_type": "markdown",
   "metadata": {},
   "source": [
    "Convert string values to float values"
   ]
  },
  {
   "cell_type": "code",
   "execution_count": 37,
   "metadata": {},
   "outputs": [],
   "source": [
    "def string_to_float(row):\n",
    "    \"\"\"\n",
    "    Convert each list inside dictionary in float values.\n",
    "    \"\"\"\n",
    "    for key in row:\n",
    "        row[key] = list(map(lambda x: float(x) if x else x, row[key]))\n",
    "\n",
    "df_selected['Performance'].apply(string_to_float);"
   ]
  },
  {
   "cell_type": "code",
   "execution_count": 38,
   "metadata": {},
   "outputs": [
    {
     "data": {
      "text/plain": [
       "{'2023': [None, None, 0.48, 29.41, 31.4, -0.8, 19.62, 88.66, 130.53, 134.78]}"
      ]
     },
     "execution_count": 38,
     "metadata": {},
     "output_type": "execute_result"
    }
   ],
   "source": [
    "df_selected.loc[0, 'Performance']"
   ]
  },
  {
   "cell_type": "markdown",
   "metadata": {},
   "source": [
    "### Average Trade Length"
   ]
  },
  {
   "cell_type": "markdown",
   "metadata": {},
   "source": [
    "Sometimes the row doesn't have hours, minutes or seconds. We need to fix this in order to convert this data to a datetime object."
   ]
  },
  {
   "cell_type": "code",
   "execution_count": 39,
   "metadata": {},
   "outputs": [
    {
     "data": {
      "text/html": [
       "<div>\n",
       "<style scoped>\n",
       "    .dataframe tbody tr th:only-of-type {\n",
       "        vertical-align: middle;\n",
       "    }\n",
       "\n",
       "    .dataframe tbody tr th {\n",
       "        vertical-align: top;\n",
       "    }\n",
       "\n",
       "    .dataframe thead th {\n",
       "        text-align: right;\n",
       "    }\n",
       "</style>\n",
       "<table border=\"1\" class=\"dataframe\">\n",
       "  <thead>\n",
       "    <tr style=\"text-align: right;\">\n",
       "      <th></th>\n",
       "      <th>Average Trade Length</th>\n",
       "    </tr>\n",
       "  </thead>\n",
       "  <tbody>\n",
       "    <tr>\n",
       "      <th>47</th>\n",
       "      <td>10H 7m 59s</td>\n",
       "    </tr>\n",
       "    <tr>\n",
       "      <th>48</th>\n",
       "      <td>47H 6m 12s</td>\n",
       "    </tr>\n",
       "    <tr>\n",
       "      <th>49</th>\n",
       "      <td>26H 59m 47s</td>\n",
       "    </tr>\n",
       "    <tr>\n",
       "      <th>50</th>\n",
       "      <td>62H 57m 14s</td>\n",
       "    </tr>\n",
       "    <tr>\n",
       "      <th>51</th>\n",
       "      <td>11H 11m 43s</td>\n",
       "    </tr>\n",
       "    <tr>\n",
       "      <th>52</th>\n",
       "      <td>233H 23m 33s</td>\n",
       "    </tr>\n",
       "  </tbody>\n",
       "</table>\n",
       "</div>"
      ],
      "text/plain": [
       "   Average Trade Length\n",
       "47           10H 7m 59s\n",
       "48           47H 6m 12s\n",
       "49          26H 59m 47s\n",
       "50          62H 57m 14s\n",
       "51          11H 11m 43s\n",
       "52         233H 23m 33s"
      ]
     },
     "execution_count": 39,
     "metadata": {},
     "output_type": "execute_result"
    }
   ],
   "source": [
    "df_selected[['Average Trade Length']].iloc[47:53, :]"
   ]
  },
  {
   "cell_type": "code",
   "execution_count": 40,
   "metadata": {},
   "outputs": [],
   "source": [
    "# Add \"0H\" just in case the time string  doesn't have hours data\n",
    "temp_function = lambda x: '0H ' + x if (not pd.isnull(x)) and ('H' not in x) else x\n",
    "\n",
    "df_selected['Average Trade Length'] = df_selected['Average Trade Length'].apply(temp_function)"
   ]
  },
  {
   "cell_type": "code",
   "execution_count": 41,
   "metadata": {},
   "outputs": [
    {
     "data": {
      "text/html": [
       "<div>\n",
       "<style scoped>\n",
       "    .dataframe tbody tr th:only-of-type {\n",
       "        vertical-align: middle;\n",
       "    }\n",
       "\n",
       "    .dataframe tbody tr th {\n",
       "        vertical-align: top;\n",
       "    }\n",
       "\n",
       "    .dataframe thead th {\n",
       "        text-align: right;\n",
       "    }\n",
       "</style>\n",
       "<table border=\"1\" class=\"dataframe\">\n",
       "  <thead>\n",
       "    <tr style=\"text-align: right;\">\n",
       "      <th></th>\n",
       "      <th>Average Trade Length</th>\n",
       "    </tr>\n",
       "  </thead>\n",
       "  <tbody>\n",
       "    <tr>\n",
       "      <th>47</th>\n",
       "      <td>10H 7m 59s</td>\n",
       "    </tr>\n",
       "    <tr>\n",
       "      <th>48</th>\n",
       "      <td>47H 6m 12s</td>\n",
       "    </tr>\n",
       "    <tr>\n",
       "      <th>49</th>\n",
       "      <td>26H 59m 47s</td>\n",
       "    </tr>\n",
       "    <tr>\n",
       "      <th>50</th>\n",
       "      <td>62H 57m 14s</td>\n",
       "    </tr>\n",
       "    <tr>\n",
       "      <th>51</th>\n",
       "      <td>11H 11m 43s</td>\n",
       "    </tr>\n",
       "    <tr>\n",
       "      <th>52</th>\n",
       "      <td>233H 23m 33s</td>\n",
       "    </tr>\n",
       "  </tbody>\n",
       "</table>\n",
       "</div>"
      ],
      "text/plain": [
       "   Average Trade Length\n",
       "47           10H 7m 59s\n",
       "48           47H 6m 12s\n",
       "49          26H 59m 47s\n",
       "50          62H 57m 14s\n",
       "51          11H 11m 43s\n",
       "52         233H 23m 33s"
      ]
     },
     "execution_count": 41,
     "metadata": {},
     "output_type": "execute_result"
    }
   ],
   "source": [
    "df_selected[['Average Trade Length']].iloc[47:53, :]"
   ]
  },
  {
   "cell_type": "code",
   "execution_count": 42,
   "metadata": {},
   "outputs": [],
   "source": [
    "# Split column\n",
    "avg_trade_length = df_selected['Average Trade Length'].str.split(' ', expand=True)\n",
    "avg_trade_length.columns = ['Hours', 'Minutes', 'Seconds']"
   ]
  },
  {
   "cell_type": "code",
   "execution_count": 43,
   "metadata": {},
   "outputs": [
    {
     "data": {
      "text/html": [
       "<div>\n",
       "<style scoped>\n",
       "    .dataframe tbody tr th:only-of-type {\n",
       "        vertical-align: middle;\n",
       "    }\n",
       "\n",
       "    .dataframe tbody tr th {\n",
       "        vertical-align: top;\n",
       "    }\n",
       "\n",
       "    .dataframe thead th {\n",
       "        text-align: right;\n",
       "    }\n",
       "</style>\n",
       "<table border=\"1\" class=\"dataframe\">\n",
       "  <thead>\n",
       "    <tr style=\"text-align: right;\">\n",
       "      <th></th>\n",
       "      <th>Hours</th>\n",
       "      <th>Minutes</th>\n",
       "      <th>Seconds</th>\n",
       "    </tr>\n",
       "  </thead>\n",
       "  <tbody>\n",
       "    <tr>\n",
       "      <th>50</th>\n",
       "      <td>62H</td>\n",
       "      <td>57m</td>\n",
       "      <td>14s</td>\n",
       "    </tr>\n",
       "    <tr>\n",
       "      <th>51</th>\n",
       "      <td>11H</td>\n",
       "      <td>11m</td>\n",
       "      <td>43s</td>\n",
       "    </tr>\n",
       "    <tr>\n",
       "      <th>52</th>\n",
       "      <td>233H</td>\n",
       "      <td>23m</td>\n",
       "      <td>33s</td>\n",
       "    </tr>\n",
       "    <tr>\n",
       "      <th>53</th>\n",
       "      <td>102H</td>\n",
       "      <td>16m</td>\n",
       "      <td>55s</td>\n",
       "    </tr>\n",
       "    <tr>\n",
       "      <th>54</th>\n",
       "      <td>27H</td>\n",
       "      <td>53m</td>\n",
       "      <td>20s</td>\n",
       "    </tr>\n",
       "  </tbody>\n",
       "</table>\n",
       "</div>"
      ],
      "text/plain": [
       "   Hours Minutes Seconds\n",
       "50   62H     57m     14s\n",
       "51   11H     11m     43s\n",
       "52  233H     23m     33s\n",
       "53  102H     16m     55s\n",
       "54   27H     53m     20s"
      ]
     },
     "execution_count": 43,
     "metadata": {},
     "output_type": "execute_result"
    }
   ],
   "source": [
    "avg_trade_length.iloc[50:55, :]"
   ]
  },
  {
   "cell_type": "code",
   "execution_count": 44,
   "metadata": {},
   "outputs": [],
   "source": [
    "# Sometimes, the \"Seconds\" are \"None\" and the data is in the the \"Minutes\" column. Replace these \"None\" value with a lambda function.\n",
    "avg_trade_length['Seconds'] = avg_trade_length[['Minutes', 'Seconds']].apply(lambda x: x['Minutes'] if (x['Seconds']==None) else x['Seconds'],\n",
    "                                                                             axis=1)"
   ]
  },
  {
   "cell_type": "code",
   "execution_count": 45,
   "metadata": {},
   "outputs": [],
   "source": [
    "# If the \"Minutes\" column contain \"Seconds\" data, replace with zero\n",
    "avg_trade_length['Minutes'] = avg_trade_length['Minutes'].apply(lambda x: x if (not pd.isnull(x)) and ('m' in x) else '0m')"
   ]
  },
  {
   "cell_type": "code",
   "execution_count": 46,
   "metadata": {},
   "outputs": [
    {
     "data": {
      "text/html": [
       "<div>\n",
       "<style scoped>\n",
       "    .dataframe tbody tr th:only-of-type {\n",
       "        vertical-align: middle;\n",
       "    }\n",
       "\n",
       "    .dataframe tbody tr th {\n",
       "        vertical-align: top;\n",
       "    }\n",
       "\n",
       "    .dataframe thead th {\n",
       "        text-align: right;\n",
       "    }\n",
       "</style>\n",
       "<table border=\"1\" class=\"dataframe\">\n",
       "  <thead>\n",
       "    <tr style=\"text-align: right;\">\n",
       "      <th></th>\n",
       "      <th>Hours</th>\n",
       "      <th>Minutes</th>\n",
       "      <th>Seconds</th>\n",
       "    </tr>\n",
       "  </thead>\n",
       "  <tbody>\n",
       "    <tr>\n",
       "      <th>50</th>\n",
       "      <td>62H</td>\n",
       "      <td>57m</td>\n",
       "      <td>14s</td>\n",
       "    </tr>\n",
       "    <tr>\n",
       "      <th>51</th>\n",
       "      <td>11H</td>\n",
       "      <td>11m</td>\n",
       "      <td>43s</td>\n",
       "    </tr>\n",
       "    <tr>\n",
       "      <th>52</th>\n",
       "      <td>233H</td>\n",
       "      <td>23m</td>\n",
       "      <td>33s</td>\n",
       "    </tr>\n",
       "    <tr>\n",
       "      <th>53</th>\n",
       "      <td>102H</td>\n",
       "      <td>16m</td>\n",
       "      <td>55s</td>\n",
       "    </tr>\n",
       "    <tr>\n",
       "      <th>54</th>\n",
       "      <td>27H</td>\n",
       "      <td>53m</td>\n",
       "      <td>20s</td>\n",
       "    </tr>\n",
       "  </tbody>\n",
       "</table>\n",
       "</div>"
      ],
      "text/plain": [
       "   Hours Minutes Seconds\n",
       "50   62H     57m     14s\n",
       "51   11H     11m     43s\n",
       "52  233H     23m     33s\n",
       "53  102H     16m     55s\n",
       "54   27H     53m     20s"
      ]
     },
     "execution_count": 46,
     "metadata": {},
     "output_type": "execute_result"
    }
   ],
   "source": [
    "avg_trade_length.iloc[50:55, :]"
   ]
  },
  {
   "cell_type": "code",
   "execution_count": 47,
   "metadata": {},
   "outputs": [],
   "source": [
    "# Remove \"H\", \"m\", and \"s\" from the rows\n",
    "avg_trade_length['Hours'] = avg_trade_length['Hours'].str.split('H', expand=True)[0]\n",
    "avg_trade_length['Minutes'] = avg_trade_length['Minutes'].str.split('m', expand=True)[0]\n",
    "avg_trade_length['Seconds'] = avg_trade_length['Seconds'].str.split('s', expand=True)[0]"
   ]
  },
  {
   "cell_type": "code",
   "execution_count": 48,
   "metadata": {},
   "outputs": [
    {
     "data": {
      "text/html": [
       "<div>\n",
       "<style scoped>\n",
       "    .dataframe tbody tr th:only-of-type {\n",
       "        vertical-align: middle;\n",
       "    }\n",
       "\n",
       "    .dataframe tbody tr th {\n",
       "        vertical-align: top;\n",
       "    }\n",
       "\n",
       "    .dataframe thead th {\n",
       "        text-align: right;\n",
       "    }\n",
       "</style>\n",
       "<table border=\"1\" class=\"dataframe\">\n",
       "  <thead>\n",
       "    <tr style=\"text-align: right;\">\n",
       "      <th></th>\n",
       "      <th>Hours</th>\n",
       "      <th>Minutes</th>\n",
       "      <th>Seconds</th>\n",
       "    </tr>\n",
       "  </thead>\n",
       "  <tbody>\n",
       "    <tr>\n",
       "      <th>0</th>\n",
       "      <td>37</td>\n",
       "      <td>6</td>\n",
       "      <td>28</td>\n",
       "    </tr>\n",
       "    <tr>\n",
       "      <th>1</th>\n",
       "      <td>16</td>\n",
       "      <td>11</td>\n",
       "      <td>45</td>\n",
       "    </tr>\n",
       "    <tr>\n",
       "      <th>2</th>\n",
       "      <td>2</td>\n",
       "      <td>10</td>\n",
       "      <td>18</td>\n",
       "    </tr>\n",
       "    <tr>\n",
       "      <th>3</th>\n",
       "      <td>135</td>\n",
       "      <td>24</td>\n",
       "      <td>45</td>\n",
       "    </tr>\n",
       "    <tr>\n",
       "      <th>4</th>\n",
       "      <td>138</td>\n",
       "      <td>8</td>\n",
       "      <td>58</td>\n",
       "    </tr>\n",
       "  </tbody>\n",
       "</table>\n",
       "</div>"
      ],
      "text/plain": [
       "  Hours Minutes Seconds\n",
       "0    37       6      28\n",
       "1    16      11      45\n",
       "2     2      10      18\n",
       "3   135      24      45\n",
       "4   138       8      58"
      ]
     },
     "execution_count": 48,
     "metadata": {},
     "output_type": "execute_result"
    }
   ],
   "source": [
    "avg_trade_length.head()"
   ]
  },
  {
   "cell_type": "code",
   "execution_count": 49,
   "metadata": {},
   "outputs": [],
   "source": [
    "# Convert as integer\n",
    "avg_trade_length = avg_trade_length.astype(int)\n",
    "\n",
    "# Rename \"Average Trade Length\". The new unit is in hours\n",
    "df_selected['Average Trade Length'] = avg_trade_length['Hours'] + avg_trade_length['Minutes'] / 60 + avg_trade_length['Seconds'] / 3600"
   ]
  },
  {
   "cell_type": "code",
   "execution_count": 50,
   "metadata": {},
   "outputs": [
    {
     "data": {
      "image/png": "[encoded data removed]",
      "text/plain": [
       "<Figure size 1400x400 with 1 Axes>"
      ]
     },
     "metadata": {},
     "output_type": "display_data"
    }
   ],
   "source": [
    "fig, axes = plt.subplots(figsize=(14,4))\n",
    "sns.histplot(data=df_selected, x='Average Trade Length', bins=30, ec='black');"
   ]
  },
  {
   "cell_type": "code",
   "execution_count": 51,
   "metadata": {},
   "outputs": [
    {
     "data": {
      "image/png": "[encoded data removed]",
      "text/plain": [
       "<Figure size 1400x300 with 1 Axes>"
      ]
     },
     "metadata": {},
     "output_type": "display_data"
    }
   ],
   "source": [
    "fig, axes = plt.subplots(figsize=(14,3))\n",
    "sns.boxplot(data=df_selected, x='Average Trade Length');"
   ]
  },
  {
   "cell_type": "markdown",
   "metadata": {},
   "source": [
    "More than 800 hours implies more than 33 days on average by trade. We wouldn't like to analyse strategies which take a lot of time in one single trade. \n",
    "\n",
    "Therefore, we can delete it."
   ]
  },
  {
   "cell_type": "code",
   "execution_count": 52,
   "metadata": {},
   "outputs": [
    {
     "data": {
      "text/html": [
       "<div>\n",
       "<style scoped>\n",
       "    .dataframe tbody tr th:only-of-type {\n",
       "        vertical-align: middle;\n",
       "    }\n",
       "\n",
       "    .dataframe tbody tr th {\n",
       "        vertical-align: top;\n",
       "    }\n",
       "\n",
       "    .dataframe thead th {\n",
       "        text-align: right;\n",
       "    }\n",
       "</style>\n",
       "<table border=\"1\" class=\"dataframe\">\n",
       "  <thead>\n",
       "    <tr style=\"text-align: right;\">\n",
       "      <th></th>\n",
       "      <th>Name</th>\n",
       "      <th>ID</th>\n",
       "      <th>Hotforex url</th>\n",
       "      <th>Location</th>\n",
       "      <th>Last updated</th>\n",
       "      <th>Message</th>\n",
       "      <th>Active since</th>\n",
       "      <th>Gain</th>\n",
       "      <th>Max Drawdown</th>\n",
       "      <th>Followers</th>\n",
       "      <th>...</th>\n",
       "      <th>Number of Open Trades</th>\n",
       "      <th>Positive Closed Trades</th>\n",
       "      <th>Negative Closed Trades</th>\n",
       "      <th>Profitability</th>\n",
       "      <th>Average Profit</th>\n",
       "      <th>Average Loss</th>\n",
       "      <th>Average Lot Size</th>\n",
       "      <th>Average Trade Length</th>\n",
       "      <th>Activity</th>\n",
       "      <th>Num days strategies</th>\n",
       "    </tr>\n",
       "  </thead>\n",
       "  <tbody>\n",
       "    <tr>\n",
       "      <th>117</th>\n",
       "      <td>daigo_doya</td>\n",
       "      <td>35327998</td>\n",
       "      <td>https://my.hfm.com/en/hfcopy/provider-details....</td>\n",
       "      <td>Japan</td>\n",
       "      <td>2023-07-11 01:24:25</td>\n",
       "      <td>\"Planned averaging. Focus on small lots.mid-te...</td>\n",
       "      <td>2022-08-23</td>\n",
       "      <td>1.40</td>\n",
       "      <td>1.70</td>\n",
       "      <td>0.0</td>\n",
       "      <td>...</td>\n",
       "      <td>34.0</td>\n",
       "      <td>43.0</td>\n",
       "      <td>4.0</td>\n",
       "      <td>91.49</td>\n",
       "      <td>23.85</td>\n",
       "      <td>-11.81</td>\n",
       "      <td>0.01</td>\n",
       "      <td>1516.177778</td>\n",
       "      <td>{'Symbol': ['USDCHF', 'USDJPY', 'USDJPY', 'USD...</td>\n",
       "      <td>442.0</td>\n",
       "    </tr>\n",
       "    <tr>\n",
       "      <th>155</th>\n",
       "      <td>nio2023</td>\n",
       "      <td>35389982</td>\n",
       "      <td>https://my.hfm.com/en/hfcopy/provider-details....</td>\n",
       "      <td>Indonesia</td>\n",
       "      <td>2023-07-11 02:05:10</td>\n",
       "      <td>\"intraday, long trading dan scalping trade GBP...</td>\n",
       "      <td>2023-06-02</td>\n",
       "      <td>-25.11</td>\n",
       "      <td>10.22</td>\n",
       "      <td>5.0</td>\n",
       "      <td>...</td>\n",
       "      <td>1.0</td>\n",
       "      <td>2.0</td>\n",
       "      <td>1.0</td>\n",
       "      <td>66.67</td>\n",
       "      <td>1.13</td>\n",
       "      <td>-51.31</td>\n",
       "      <td>0.01</td>\n",
       "      <td>853.681389</td>\n",
       "      <td>{'Symbol': ['CHFJPY', 'CHFJPY', 'CHFJPY'], 'Ac...</td>\n",
       "      <td>159.0</td>\n",
       "    </tr>\n",
       "  </tbody>\n",
       "</table>\n",
       "<p>2 rows × 30 columns</p>\n",
       "</div>"
      ],
      "text/plain": [
       "           Name        ID                                       Hotforex url  \\\n",
       "117  daigo_doya  35327998  https://my.hfm.com/en/hfcopy/provider-details....   \n",
       "155     nio2023  35389982  https://my.hfm.com/en/hfcopy/provider-details....   \n",
       "\n",
       "      Location        Last updated  \\\n",
       "117      Japan 2023-07-11 01:24:25   \n",
       "155  Indonesia 2023-07-11 02:05:10   \n",
       "\n",
       "                                               Message Active since   Gain  \\\n",
       "117  \"Planned averaging. Focus on small lots.mid-te...   2022-08-23   1.40   \n",
       "155  \"intraday, long trading dan scalping trade GBP...   2023-06-02 -25.11   \n",
       "\n",
       "     Max Drawdown  Followers  ...  Number of Open Trades  \\\n",
       "117          1.70        0.0  ...                   34.0   \n",
       "155         10.22        5.0  ...                    1.0   \n",
       "\n",
       "     Positive Closed Trades Negative Closed Trades  Profitability  \\\n",
       "117                    43.0                    4.0          91.49   \n",
       "155                     2.0                    1.0          66.67   \n",
       "\n",
       "     Average Profit  Average Loss  Average Lot Size  Average Trade Length  \\\n",
       "117           23.85        -11.81              0.01           1516.177778   \n",
       "155            1.13        -51.31              0.01            853.681389   \n",
       "\n",
       "                                              Activity  Num days strategies  \n",
       "117  {'Symbol': ['USDCHF', 'USDJPY', 'USDJPY', 'USD...                442.0  \n",
       "155  {'Symbol': ['CHFJPY', 'CHFJPY', 'CHFJPY'], 'Ac...                159.0  \n",
       "\n",
       "[2 rows x 30 columns]"
      ]
     },
     "execution_count": 52,
     "metadata": {},
     "output_type": "execute_result"
    }
   ],
   "source": [
    "df_selected[df_selected['Average Trade Length'] > 800]"
   ]
  },
  {
   "cell_type": "code",
   "execution_count": 53,
   "metadata": {},
   "outputs": [],
   "source": [
    "index_to_drop = df_selected[df_selected['Average Trade Length'] > 800].index\n",
    "\n",
    "# Drop row\n",
    "df_selected.drop(index_to_drop, axis=0, inplace=True)\n",
    "\n",
    "# Reset index\n",
    "df_selected.reset_index(drop=True, inplace=True)"
   ]
  },
  {
   "cell_type": "markdown",
   "metadata": {},
   "source": [
    "Average trade length between 200 and 600 hours implies between 8 and 25 days.\n",
    "\n",
    "These are mid term strategies and maybe it could be interesting to copy one of them."
   ]
  },
  {
   "cell_type": "markdown",
   "metadata": {},
   "source": [
    "### Profitability"
   ]
  },
  {
   "cell_type": "markdown",
   "metadata": {},
   "source": [
    "Percentage of closed operations with positive profits:\n",
    "\n",
    "```python\n",
    "\"Positive Closed Trades\" / \"Number of Closed Trades\".\n",
    "```\n"
   ]
  },
  {
   "cell_type": "code",
   "execution_count": 54,
   "metadata": {},
   "outputs": [
    {
     "data": {
      "image/png": "[encoded data removed]",
      "text/plain": [
       "<Figure size 1400x400 with 1 Axes>"
      ]
     },
     "metadata": {},
     "output_type": "display_data"
    }
   ],
   "source": [
    "fig, axes = plt.subplots(figsize=(14,4))\n",
    "sns.histplot(data=df_selected, x='Profitability', bins=30, ec='black');"
   ]
  },
  {
   "cell_type": "markdown",
   "metadata": {},
   "source": [
    "Most of the strategies have profitability higher than 50%."
   ]
  },
  {
   "cell_type": "markdown",
   "metadata": {},
   "source": [
    "### Number of Closed Trades"
   ]
  },
  {
   "cell_type": "code",
   "execution_count": 55,
   "metadata": {},
   "outputs": [
    {
     "data": {
      "image/png": "[encoded data removed]",
      "text/plain": [
       "<Figure size 1400x400 with 1 Axes>"
      ]
     },
     "metadata": {},
     "output_type": "display_data"
    }
   ],
   "source": [
    "fig, axes = plt.subplots(figsize=(14,4))\n",
    "sns.histplot(data=df_selected, x='Number of Closed Trades', bins=30, ec='black');"
   ]
  },
  {
   "cell_type": "markdown",
   "metadata": {},
   "source": [
    "There are strategies with more than 2000 trades.  Therefore, it could be interesting to know the average of trades by day."
   ]
  },
  {
   "cell_type": "code",
   "execution_count": 56,
   "metadata": {},
   "outputs": [
    {
     "data": {
      "image/png": "[encoded data removed]",
      "text/plain": [
       "<Figure size 1400x400 with 1 Axes>"
      ]
     },
     "metadata": {},
     "output_type": "display_data"
    }
   ],
   "source": [
    "df_selected['Average trade day'] = df_selected['Number of Closed Trades'] / df_selected['Num days strategies']\n",
    "\n",
    "fig, axes = plt.subplots(figsize=(14,4))\n",
    "sns.histplot(data=df_selected, x= 'Average trade day', bins=30, ec='black');"
   ]
  },
  {
   "cell_type": "markdown",
   "metadata": {},
   "source": [
    "There are strategies with more than 10 trades by day. This is a lot of trades in one single day."
   ]
  },
  {
   "cell_type": "code",
   "execution_count": 57,
   "metadata": {},
   "outputs": [
    {
     "data": {
      "text/html": [
       "<div>\n",
       "<style scoped>\n",
       "    .dataframe tbody tr th:only-of-type {\n",
       "        vertical-align: middle;\n",
       "    }\n",
       "\n",
       "    .dataframe tbody tr th {\n",
       "        vertical-align: top;\n",
       "    }\n",
       "\n",
       "    .dataframe thead th {\n",
       "        text-align: right;\n",
       "    }\n",
       "</style>\n",
       "<table border=\"1\" class=\"dataframe\">\n",
       "  <thead>\n",
       "    <tr style=\"text-align: right;\">\n",
       "      <th></th>\n",
       "      <th>Max Drawdown</th>\n",
       "      <th>Followers</th>\n",
       "      <th>Gain</th>\n",
       "      <th>Number of Closed Trades</th>\n",
       "      <th>Num days strategies</th>\n",
       "      <th>Average trade day</th>\n",
       "    </tr>\n",
       "  </thead>\n",
       "  <tbody>\n",
       "    <tr>\n",
       "      <th>2</th>\n",
       "      <td>22.56</td>\n",
       "      <td>0.0</td>\n",
       "      <td>582.12</td>\n",
       "      <td>2043.0</td>\n",
       "      <td>169.0</td>\n",
       "      <td>12.088757</td>\n",
       "    </tr>\n",
       "    <tr>\n",
       "      <th>26</th>\n",
       "      <td>11.40</td>\n",
       "      <td>19.0</td>\n",
       "      <td>133.17</td>\n",
       "      <td>5092.0</td>\n",
       "      <td>147.0</td>\n",
       "      <td>34.639456</td>\n",
       "    </tr>\n",
       "    <tr>\n",
       "      <th>45</th>\n",
       "      <td>8.41</td>\n",
       "      <td>27.0</td>\n",
       "      <td>79.65</td>\n",
       "      <td>1598.0</td>\n",
       "      <td>90.0</td>\n",
       "      <td>17.755556</td>\n",
       "    </tr>\n",
       "    <tr>\n",
       "      <th>80</th>\n",
       "      <td>7.61</td>\n",
       "      <td>0.0</td>\n",
       "      <td>23.16</td>\n",
       "      <td>2202.0</td>\n",
       "      <td>182.0</td>\n",
       "      <td>12.098901</td>\n",
       "    </tr>\n",
       "    <tr>\n",
       "      <th>118</th>\n",
       "      <td>15.61</td>\n",
       "      <td>209.0</td>\n",
       "      <td>1.26</td>\n",
       "      <td>2540.0</td>\n",
       "      <td>90.0</td>\n",
       "      <td>28.222222</td>\n",
       "    </tr>\n",
       "  </tbody>\n",
       "</table>\n",
       "</div>"
      ],
      "text/plain": [
       "     Max Drawdown  Followers    Gain  Number of Closed Trades  \\\n",
       "2           22.56        0.0  582.12                   2043.0   \n",
       "26          11.40       19.0  133.17                   5092.0   \n",
       "45           8.41       27.0   79.65                   1598.0   \n",
       "80           7.61        0.0   23.16                   2202.0   \n",
       "118         15.61      209.0    1.26                   2540.0   \n",
       "\n",
       "     Num days strategies  Average trade day  \n",
       "2                  169.0          12.088757  \n",
       "26                 147.0          34.639456  \n",
       "45                  90.0          17.755556  \n",
       "80                 182.0          12.098901  \n",
       "118                 90.0          28.222222  "
      ]
     },
     "execution_count": 57,
     "metadata": {},
     "output_type": "execute_result"
    }
   ],
   "source": [
    "condition = df_selected[df_selected['Average trade day'] >= 10].index\n",
    "\n",
    "df_selected.loc[condition, ['Max Drawdown', 'Followers', 'Gain', 'Number of Closed Trades', 'Num days strategies', 'Average trade day']]"
   ]
  },
  {
   "cell_type": "markdown",
   "metadata": {},
   "source": [
    "It is important to note that all of these strategies have less than 180 days (6 months). The highest number of trades surely affect the output metrics the performance of the strategies."
   ]
  },
  {
   "cell_type": "code",
   "execution_count": null,
   "metadata": {},
   "outputs": [],
   "source": []
  }
 ],
 "metadata": {
  "kernelspec": {
   "display_name": "base",
   "language": "python",
   "name": "python3"
  },
  "language_info": {
   "codemirror_mode": {
    "name": "ipython",
    "version": 3
   },
   "file_extension": ".py",
   "mimetype": "text/x-python",
   "name": "python",
   "nbconvert_exporter": "python",
   "pygments_lexer": "ipython3",
   "version": "3.9.7"
  }
 },
 "nbformat": 4,
 "nbformat_minor": 2
}
