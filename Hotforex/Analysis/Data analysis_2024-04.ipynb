{
 "cells": [
  {
   "cell_type": "markdown",
   "metadata": {},
   "source": [
    "# Copy Trading"
   ]
  },
  {
   "cell_type": "markdown",
   "metadata": {},
   "source": [
    "## Import libraries"
   ]
  },
  {
   "cell_type": "code",
   "execution_count": 1,
   "metadata": {},
   "outputs": [],
   "source": [
    "import pandas as pd\n",
    "import datetime\n",
    "\n",
    "from matplotlib import pyplot as plt\n",
    "import seaborn as sns\n",
    "\n",
    "import numpy as np\n",
    "\n",
    "sns.set()"
   ]
  },
  {
   "cell_type": "markdown",
   "metadata": {},
   "source": [
    "## Input"
   ]
  },
  {
   "cell_type": "markdown",
   "metadata": {},
   "source": [
    "### Load data"
   ]
  },
  {
   "cell_type": "code",
   "execution_count": 2,
   "metadata": {},
   "outputs": [],
   "source": [
    "df = pd.read_csv(\"Statistics.csv\")"
   ]
  },
  {
   "cell_type": "code",
   "execution_count": 3,
   "metadata": {},
   "outputs": [
    {
     "data": {
      "text/plain": [
       "Index(['Provider name', 'ID', 'Hotforex url', 'Location', 'Last updated',\n",
       "       'Message', 'Minimum first deposit', 'Active since', 'Gain',\n",
       "       'Max Drawdown', 'Leverage', 'Followers', 'Performance Fee',\n",
       "       'Stability Score', 'Performance', 'Balance', 'Equity',\n",
       "       'Initial Deposit', 'Total Deposits', 'Total Withdrawals', 'Profit',\n",
       "       'Number of Closed Trades', 'Number of Open Trades',\n",
       "       'Positive Closed Trades', 'Negative Closed Trades', 'Profitability',\n",
       "       'Average Profit', 'Average Loss', 'Average Lot Size',\n",
       "       'Average Trade Length', 'Activity'],\n",
       "      dtype='object')"
      ]
     },
     "execution_count": 3,
     "metadata": {},
     "output_type": "execute_result"
    }
   ],
   "source": [
    "df.columns"
   ]
  },
  {
   "cell_type": "markdown",
   "metadata": {},
   "source": [
    "Description:\n",
    "\n",
    "- **Gain**: A time-weighted return method of calculating investment return. To apply the time-weighted return method, combine the return over sub-periods, by compounding them together, resulting in the overall period return. The rate of return over each different sub-period is weighted according to the duration of the sub-period.\n",
    "\n",
    "- **Max Drawdown**: Worst losing sequence leading to the largest drop in balance (from the date of account opening).\n",
    "\n",
    "- **Performance Fee**: The percentage of any profit made on the Follower’s account which is then payable to the Strategy Provider as his reward. Performance fees are paid every other Saturday or at time of withdrawal or unfollowing.\n",
    "\n",
    "- **Stability Score**: Risk Score is determined by comparing certain performance elements between individual Strategy Providers and all other active Strategy Providers. The elements taken into account are daily volatility on return, trading allocation capital and length of overall trading activity within HFcopy system. Strategy Providers are scored 1 to 5 based on the weighted elements where 5 is the highest divergent performance across all other participating Strategy Providers, making it less stable across the board regardless of market conditions and 1 being less unstable overall.\n",
    "\n",
    "- **Performace**: Show the results of the trading account. It measures in (%).\n",
    "\n",
    "- **Profitability**: Percentage of trades closed with positive profits.\n",
    "\n",
    "- **Average Profit**: Average profit for all profitable closed trades. Sometimes the units in USD or USC (USD cent).\n",
    "\n",
    "- **Average Loss**: Average loss for all unprofitable closed trades. Sometimes the units in USD or USC (USD cent).\n",
    "\n",
    "- **Gain**: A time-weighted return method of calculating investment return. To apply the time-weighted return method, combine the return over sub-periods, by compounding them together, resulting in the overall period return. The rate of return over each different sub-period is weighted according to the duration of the sub-period. In order to understand how hotforex makes this calculations, please check this [section](#performance_example)."
   ]
  },
  {
   "cell_type": "markdown",
   "metadata": {},
   "source": [
    "### Bounds"
   ]
  },
  {
   "cell_type": "markdown",
   "metadata": {},
   "source": [
    "The objective is to define parameters to bound the analysis."
   ]
  },
  {
   "cell_type": "code",
   "execution_count": 4,
   "metadata": {},
   "outputs": [],
   "source": [
    "max_drawdown_limit = 40\n",
    "num_days_limit = 180"
   ]
  },
  {
   "cell_type": "markdown",
   "metadata": {},
   "source": [
    "## Exploratory Data Analysis"
   ]
  },
  {
   "cell_type": "markdown",
   "metadata": {},
   "source": [
    "### \"ID\" numbers"
   ]
  },
  {
   "cell_type": "markdown",
   "metadata": {},
   "source": [
    "Extract only ID numbers."
   ]
  },
  {
   "cell_type": "code",
   "execution_count": 5,
   "metadata": {},
   "outputs": [
    {
     "data": {
      "text/html": [
       "<div>\n",
       "<style scoped>\n",
       "    .dataframe tbody tr th:only-of-type {\n",
       "        vertical-align: middle;\n",
       "    }\n",
       "\n",
       "    .dataframe tbody tr th {\n",
       "        vertical-align: top;\n",
       "    }\n",
       "\n",
       "    .dataframe thead th {\n",
       "        text-align: right;\n",
       "    }\n",
       "</style>\n",
       "<table border=\"1\" class=\"dataframe\">\n",
       "  <thead>\n",
       "    <tr style=\"text-align: right;\">\n",
       "      <th></th>\n",
       "      <th>ID</th>\n",
       "    </tr>\n",
       "  </thead>\n",
       "  <tbody>\n",
       "    <tr>\n",
       "      <th>0</th>\n",
       "      <td>78013241 • Copy Cent account</td>\n",
       "    </tr>\n",
       "    <tr>\n",
       "      <th>1</th>\n",
       "      <td>78026185 • Copy Cent account</td>\n",
       "    </tr>\n",
       "    <tr>\n",
       "      <th>2</th>\n",
       "      <td>66167076 • Copy Cent account</td>\n",
       "    </tr>\n",
       "    <tr>\n",
       "      <th>3</th>\n",
       "      <td>35430348 • Copy Pro account</td>\n",
       "    </tr>\n",
       "    <tr>\n",
       "      <th>4</th>\n",
       "      <td>35382453 • Copy Premium account</td>\n",
       "    </tr>\n",
       "  </tbody>\n",
       "</table>\n",
       "</div>"
      ],
      "text/plain": [
       "                                ID\n",
       "0     78013241 • Copy Cent account\n",
       "1     78026185 • Copy Cent account\n",
       "2     66167076 • Copy Cent account\n",
       "3      35430348 • Copy Pro account\n",
       "4  35382453 • Copy Premium account"
      ]
     },
     "execution_count": 5,
     "metadata": {},
     "output_type": "execute_result"
    }
   ],
   "source": [
    "df[['ID']].head()"
   ]
  },
  {
   "cell_type": "code",
   "execution_count": 6,
   "metadata": {},
   "outputs": [],
   "source": [
    "# Get Type account\n",
    "df['Type account'] = df['ID'].apply(lambda x: x.split(' ')[3] if not pd.isnull(x) else \"\")\n",
    "\n",
    "# Get ID\n",
    "df['ID'] = df['ID'].apply(lambda x: x.split(' ')[0] if not pd.isnull(x) else \"\")"
   ]
  },
  {
   "cell_type": "code",
   "execution_count": 7,
   "metadata": {},
   "outputs": [
    {
     "data": {
      "text/html": [
       "<div>\n",
       "<style scoped>\n",
       "    .dataframe tbody tr th:only-of-type {\n",
       "        vertical-align: middle;\n",
       "    }\n",
       "\n",
       "    .dataframe tbody tr th {\n",
       "        vertical-align: top;\n",
       "    }\n",
       "\n",
       "    .dataframe thead th {\n",
       "        text-align: right;\n",
       "    }\n",
       "</style>\n",
       "<table border=\"1\" class=\"dataframe\">\n",
       "  <thead>\n",
       "    <tr style=\"text-align: right;\">\n",
       "      <th></th>\n",
       "      <th>Type account</th>\n",
       "      <th>ID</th>\n",
       "    </tr>\n",
       "  </thead>\n",
       "  <tbody>\n",
       "    <tr>\n",
       "      <th>0</th>\n",
       "      <td>Cent</td>\n",
       "      <td>78013241</td>\n",
       "    </tr>\n",
       "    <tr>\n",
       "      <th>1</th>\n",
       "      <td>Cent</td>\n",
       "      <td>78026185</td>\n",
       "    </tr>\n",
       "    <tr>\n",
       "      <th>2</th>\n",
       "      <td>Cent</td>\n",
       "      <td>66167076</td>\n",
       "    </tr>\n",
       "    <tr>\n",
       "      <th>3</th>\n",
       "      <td>Pro</td>\n",
       "      <td>35430348</td>\n",
       "    </tr>\n",
       "    <tr>\n",
       "      <th>4</th>\n",
       "      <td>Premium</td>\n",
       "      <td>35382453</td>\n",
       "    </tr>\n",
       "  </tbody>\n",
       "</table>\n",
       "</div>"
      ],
      "text/plain": [
       "  Type account        ID\n",
       "0         Cent  78013241\n",
       "1         Cent  78026185\n",
       "2         Cent  66167076\n",
       "3          Pro  35430348\n",
       "4      Premium  35382453"
      ]
     },
     "execution_count": 7,
     "metadata": {},
     "output_type": "execute_result"
    }
   ],
   "source": [
    "df[['Type account', 'ID']].head()"
   ]
  },
  {
   "cell_type": "markdown",
   "metadata": {},
   "source": [
    "### \"Active since\" and \"Last updated\""
   ]
  },
  {
   "cell_type": "markdown",
   "metadata": {},
   "source": [
    "We need to convert these two columns as datetime object"
   ]
  },
  {
   "cell_type": "code",
   "execution_count": 8,
   "metadata": {},
   "outputs": [
    {
     "data": {
      "text/html": [
       "<div>\n",
       "<style scoped>\n",
       "    .dataframe tbody tr th:only-of-type {\n",
       "        vertical-align: middle;\n",
       "    }\n",
       "\n",
       "    .dataframe tbody tr th {\n",
       "        vertical-align: top;\n",
       "    }\n",
       "\n",
       "    .dataframe thead th {\n",
       "        text-align: right;\n",
       "    }\n",
       "</style>\n",
       "<table border=\"1\" class=\"dataframe\">\n",
       "  <thead>\n",
       "    <tr style=\"text-align: right;\">\n",
       "      <th></th>\n",
       "      <th>Active since</th>\n",
       "      <th>Last updated</th>\n",
       "    </tr>\n",
       "  </thead>\n",
       "  <tbody>\n",
       "    <tr>\n",
       "      <th>0</th>\n",
       "      <td>Active since: 18/01/2024</td>\n",
       "      <td>18/04/2024 01:42:58</td>\n",
       "    </tr>\n",
       "    <tr>\n",
       "      <th>1</th>\n",
       "      <td>Active since: 30/03/2024</td>\n",
       "      <td>18/04/2024 01:46:01</td>\n",
       "    </tr>\n",
       "    <tr>\n",
       "      <th>2</th>\n",
       "      <td>Active since: 13/10/2023</td>\n",
       "      <td>18/04/2024 01:39:42</td>\n",
       "    </tr>\n",
       "    <tr>\n",
       "      <th>3</th>\n",
       "      <td>Active since: 14/03/2024</td>\n",
       "      <td>18/04/2024 01:36:53</td>\n",
       "    </tr>\n",
       "    <tr>\n",
       "      <th>4</th>\n",
       "      <td>Active since: 02/05/2023</td>\n",
       "      <td>18/04/2024 01:31:55</td>\n",
       "    </tr>\n",
       "  </tbody>\n",
       "</table>\n",
       "</div>"
      ],
      "text/plain": [
       "               Active since         Last updated\n",
       "0  Active since: 18/01/2024  18/04/2024 01:42:58\n",
       "1  Active since: 30/03/2024  18/04/2024 01:46:01\n",
       "2  Active since: 13/10/2023  18/04/2024 01:39:42\n",
       "3  Active since: 14/03/2024  18/04/2024 01:36:53\n",
       "4  Active since: 02/05/2023  18/04/2024 01:31:55"
      ]
     },
     "execution_count": 8,
     "metadata": {},
     "output_type": "execute_result"
    }
   ],
   "source": [
    "df[['Active since', 'Last updated']].head()"
   ]
  },
  {
   "cell_type": "code",
   "execution_count": 9,
   "metadata": {},
   "outputs": [],
   "source": [
    "# Extract date from \"Active since\"\n",
    "df['Active since'] = df['Active since'].apply(lambda x: x.split(' ')[2] if not pd.isnull(x) else \"\")"
   ]
  },
  {
   "cell_type": "code",
   "execution_count": 10,
   "metadata": {},
   "outputs": [],
   "source": [
    "# Last updated column. Ignore NaN values\n",
    "df['Last updated'] = pd.to_datetime(df['Last updated'], format= '%d/%m/%Y %H:%M:%S', errors='coerce')\n",
    "\n",
    "# Active since column. Ignore NaN values\n",
    "df['Active since'] = pd.to_datetime(df['Active since'], format= '%d/%m/%Y', errors='coerce')"
   ]
  },
  {
   "cell_type": "code",
   "execution_count": 11,
   "metadata": {},
   "outputs": [
    {
     "data": {
      "text/html": [
       "<div>\n",
       "<style scoped>\n",
       "    .dataframe tbody tr th:only-of-type {\n",
       "        vertical-align: middle;\n",
       "    }\n",
       "\n",
       "    .dataframe tbody tr th {\n",
       "        vertical-align: top;\n",
       "    }\n",
       "\n",
       "    .dataframe thead th {\n",
       "        text-align: right;\n",
       "    }\n",
       "</style>\n",
       "<table border=\"1\" class=\"dataframe\">\n",
       "  <thead>\n",
       "    <tr style=\"text-align: right;\">\n",
       "      <th></th>\n",
       "      <th>Last updated</th>\n",
       "      <th>Active since</th>\n",
       "    </tr>\n",
       "  </thead>\n",
       "  <tbody>\n",
       "    <tr>\n",
       "      <th>0</th>\n",
       "      <td>2024-04-18 01:42:58</td>\n",
       "      <td>2024-01-18</td>\n",
       "    </tr>\n",
       "    <tr>\n",
       "      <th>1</th>\n",
       "      <td>2024-04-18 01:46:01</td>\n",
       "      <td>2024-03-30</td>\n",
       "    </tr>\n",
       "    <tr>\n",
       "      <th>2</th>\n",
       "      <td>2024-04-18 01:39:42</td>\n",
       "      <td>2023-10-13</td>\n",
       "    </tr>\n",
       "    <tr>\n",
       "      <th>3</th>\n",
       "      <td>2024-04-18 01:36:53</td>\n",
       "      <td>2024-03-14</td>\n",
       "    </tr>\n",
       "    <tr>\n",
       "      <th>4</th>\n",
       "      <td>2024-04-18 01:31:55</td>\n",
       "      <td>2023-05-02</td>\n",
       "    </tr>\n",
       "  </tbody>\n",
       "</table>\n",
       "</div>"
      ],
      "text/plain": [
       "         Last updated Active since\n",
       "0 2024-04-18 01:42:58   2024-01-18\n",
       "1 2024-04-18 01:46:01   2024-03-30\n",
       "2 2024-04-18 01:39:42   2023-10-13\n",
       "3 2024-04-18 01:36:53   2024-03-14\n",
       "4 2024-04-18 01:31:55   2023-05-02"
      ]
     },
     "execution_count": 11,
     "metadata": {},
     "output_type": "execute_result"
    }
   ],
   "source": [
    "df[['Last updated', 'Active since']].head()"
   ]
  },
  {
   "cell_type": "markdown",
   "metadata": {},
   "source": [
    "### Location and Strategies age"
   ]
  },
  {
   "cell_type": "markdown",
   "metadata": {},
   "source": [
    "In this section, you will filter the data by the number of active days."
   ]
  },
  {
   "cell_type": "code",
   "execution_count": 12,
   "metadata": {},
   "outputs": [
    {
     "data": {
      "text/plain": [
       "0   2024-01-18\n",
       "1   2024-03-30\n",
       "2   2023-10-13\n",
       "3   2024-03-14\n",
       "4   2023-05-02\n",
       "Name: Active since, dtype: datetime64[ns]"
      ]
     },
     "execution_count": 12,
     "metadata": {},
     "output_type": "execute_result"
    }
   ],
   "source": [
    "# Compute the age of the strategy\n",
    "df['Active since'].head()"
   ]
  },
  {
   "cell_type": "code",
   "execution_count": 13,
   "metadata": {},
   "outputs": [],
   "source": [
    "# Day when you scraped data\n",
    "start_date = '2024-04-17'\n",
    "start_date = datetime.datetime.strptime(start_date, '%Y-%m-%d')"
   ]
  },
  {
   "cell_type": "code",
   "execution_count": 14,
   "metadata": {},
   "outputs": [],
   "source": [
    "# Number of days of the strategies. \".days\" attribute extract days from timedelta object\n",
    "df['Num days strategies'] = (start_date - df.loc[:, 'Active since']).apply(lambda x: x.days) # type: ignore"
   ]
  },
  {
   "cell_type": "code",
   "execution_count": 15,
   "metadata": {},
   "outputs": [
    {
     "name": "stdout",
     "output_type": "stream",
     "text": [
      "Minimum days: 0.0,   Maximum days 1349.0\n"
     ]
    }
   ],
   "source": [
    "print(f\"Minimum days: {df['Num days strategies'].min()},   Maximum days {df['Num days strategies'].max()}\")"
   ]
  },
  {
   "cell_type": "markdown",
   "metadata": {},
   "source": [
    "Select only strategies with a minimun of days on the market. This is a personal criteria."
   ]
  },
  {
   "cell_type": "code",
   "execution_count": 16,
   "metadata": {},
   "outputs": [],
   "source": [
    "df_selected = df[df['Num days strategies'] >= num_days_limit].copy()\n",
    "df_selected.reset_index(drop=True, inplace=True)"
   ]
  },
  {
   "cell_type": "code",
   "execution_count": 17,
   "metadata": {},
   "outputs": [
    {
     "name": "stdout",
     "output_type": "stream",
     "text": [
      "We have 235 strategies with more than 180 days.\n"
     ]
    }
   ],
   "source": [
    "print(f\"We have {df_selected.shape[0]} strategies with more than {num_days_limit} days.\")"
   ]
  },
  {
   "cell_type": "markdown",
   "metadata": {},
   "source": [
    "### Type of account"
   ]
  },
  {
   "cell_type": "code",
   "execution_count": 18,
   "metadata": {},
   "outputs": [
    {
     "data": {
      "image/png": "[encoded data removed]",
      "text/plain": [
       "<Figure size 1400x500 with 1 Axes>"
      ]
     },
     "metadata": {},
     "output_type": "display_data"
    }
   ],
   "source": [
    "fig, axes = plt.subplots(figsize=(14,5))\n",
    "bar_plot = sns.countplot(data=df_selected, x='Type account', ax=axes)"
   ]
  },
  {
   "cell_type": "markdown",
   "metadata": {},
   "source": [
    "There are 3 types of accounts:\n",
    "\n",
    "- [Cent](https://www.hfm.com/int/en/trading-accounts/cent-account). It allows trade with cent lots (Cent lot = 0,01 of a Standard lot or 1,000 units). It means that you can trade with lower amounts of money. However, you can trade only Forex and Gold.\n",
    "\n",
    "- [Premium](https://www.hfm.com/int/en/trading-accounts/premium-account). No minimum deposit required and no commission.\n",
    "\n",
    "- [Pro](https://www.hfm.com/int/en/trading-accounts/pro-account). Low spreads. Minimum deposit = $100.\n",
    "\n",
    "You can compare the trading accounts [here](https://www.hfm.com/int/en/trading-accounts)."
   ]
  },
  {
   "cell_type": "markdown",
   "metadata": {},
   "source": [
    "### Equity"
   ]
  },
  {
   "cell_type": "code",
   "execution_count": 19,
   "metadata": {},
   "outputs": [],
   "source": [
    "# Divide \"Equity\" value by 100 if the account is type \"Cent\". All amounts must be USD.\n",
    "\n",
    "temp_func = lambda x: x['Equity']/100 if x['Type account'] == 'Cent' else x['Equity']\n",
    "\n",
    "df_selected['Equity'] = df_selected[['Equity', 'Type account']].apply(temp_func, axis=1)"
   ]
  },
  {
   "cell_type": "code",
   "execution_count": 20,
   "metadata": {},
   "outputs": [
    {
     "data": {
      "image/png": "[encoded data removed]",
      "text/plain": [
       "<Figure size 1400x400 with 1 Axes>"
      ]
     },
     "metadata": {},
     "output_type": "display_data"
    }
   ],
   "source": [
    "fig, axes = plt.subplots(figsize=(14,4))\n",
    "sns.histplot(data=df_selected, x='Equity', bins=20, ec='black');"
   ]
  },
  {
   "cell_type": "code",
   "execution_count": 21,
   "metadata": {},
   "outputs": [
    {
     "data": {
      "text/plain": [
       "29"
      ]
     },
     "execution_count": 21,
     "metadata": {},
     "output_type": "execute_result"
    }
   ],
   "source": [
    "df_selected[df_selected['Equity'] == 0].shape[0]"
   ]
  },
  {
   "cell_type": "markdown",
   "metadata": {},
   "source": [
    "There are 29 strategies with Equity equals to zero. We don't need to analyze these strategies because there are two possible reasons:\n",
    "- The provider withdraw all of its money.\n",
    "- The provider went bankrupt."
   ]
  },
  {
   "cell_type": "code",
   "execution_count": 22,
   "metadata": {},
   "outputs": [],
   "source": [
    "index_to_drop = df_selected[df_selected['Equity'] == 0].index\n",
    "df_selected.drop(index_to_drop, axis=0, inplace=True)\n",
    "\n",
    "# Reset index\n",
    "df_selected.reset_index(drop=True, inplace=True)"
   ]
  },
  {
   "cell_type": "code",
   "execution_count": 23,
   "metadata": {},
   "outputs": [
    {
     "data": {
      "image/png": "[encoded data removed]",
      "text/plain": [
       "<Figure size 1400x400 with 1 Axes>"
      ]
     },
     "metadata": {},
     "output_type": "display_data"
    }
   ],
   "source": [
    "fig, axes = plt.subplots(figsize=(14,4))\n",
    "sns.histplot(data=df_selected, x='Equity', bins=20, ec='black');"
   ]
  },
  {
   "cell_type": "markdown",
   "metadata": {},
   "source": [
    "The distribution is very similar after delete strategies with Equity = 0."
   ]
  },
  {
   "cell_type": "code",
   "execution_count": 24,
   "metadata": {},
   "outputs": [
    {
     "data": {
      "text/plain": [
       "163"
      ]
     },
     "execution_count": 24,
     "metadata": {},
     "output_type": "execute_result"
    }
   ],
   "source": [
    "df_selected[df_selected['Equity'] <= 1000].shape[0]"
   ]
  },
  {
   "cell_type": "code",
   "execution_count": 25,
   "metadata": {},
   "outputs": [
    {
     "data": {
      "text/plain": [
       "43"
      ]
     },
     "execution_count": 25,
     "metadata": {},
     "output_type": "execute_result"
    }
   ],
   "source": [
    "df_selected[df_selected['Equity'] > 1000].shape[0]"
   ]
  },
  {
   "cell_type": "markdown",
   "metadata": {},
   "source": [
    "- There are 163 providers with an Equity lower than or equals to $1000.\n",
    "- There are 43 providers with an Equity greater than $1000."
   ]
  },
  {
   "cell_type": "markdown",
   "metadata": {},
   "source": [
    "### Minimum First Deposit"
   ]
  },
  {
   "cell_type": "code",
   "execution_count": 26,
   "metadata": {},
   "outputs": [
    {
     "data": {
      "text/plain": [
       "0     ¢ 5000\n",
       "1     $ 25.0\n",
       "2     $ 25.0\n",
       "3    ¢ 10000\n",
       "4    $ 400.0\n",
       "Name: Minimum first deposit, dtype: object"
      ]
     },
     "execution_count": 26,
     "metadata": {},
     "output_type": "execute_result"
    }
   ],
   "source": [
    "df_selected['Minimum first deposit'].head()"
   ]
  },
  {
   "cell_type": "code",
   "execution_count": 27,
   "metadata": {},
   "outputs": [],
   "source": [
    "# Extract only the numbers\n",
    "df_selected['Minimum first deposit'] = df_selected['Minimum first deposit'].str.split(\" \", expand=True)[1]\n",
    "\n",
    "# Convert as float\n",
    "df_selected['Minimum first deposit'] = df_selected['Minimum first deposit'].astype(float)"
   ]
  },
  {
   "cell_type": "code",
   "execution_count": 28,
   "metadata": {},
   "outputs": [],
   "source": [
    "# Divide \"Minimum First Deposit\" value by 100 if the account is type \"Cent\". All amounts must be USD\n",
    "\n",
    "temp_func = lambda x: x['Minimum first deposit']/100 if x['Type account'] == 'Cent' else x['Minimum first deposit']\n",
    "\n",
    "df_selected['Minimum first deposit'] = df_selected[['Minimum first deposit', 'Type account']].apply(temp_func, axis=1)"
   ]
  },
  {
   "cell_type": "code",
   "execution_count": 29,
   "metadata": {},
   "outputs": [
    {
     "data": {
      "image/png": "[encoded data removed]",
      "text/plain": [
       "<Figure size 1400x400 with 1 Axes>"
      ]
     },
     "metadata": {},
     "output_type": "display_data"
    }
   ],
   "source": [
    "fig, axes = plt.subplots(figsize=(14,4))\n",
    "sns.histplot(data=df_selected, x='Minimum first deposit', bins=20, ec='black');"
   ]
  },
  {
   "cell_type": "code",
   "execution_count": 30,
   "metadata": {},
   "outputs": [
    {
     "data": {
      "text/html": [
       "<div>\n",
       "<style scoped>\n",
       "    .dataframe tbody tr th:only-of-type {\n",
       "        vertical-align: middle;\n",
       "    }\n",
       "\n",
       "    .dataframe tbody tr th {\n",
       "        vertical-align: top;\n",
       "    }\n",
       "\n",
       "    .dataframe thead th {\n",
       "        text-align: right;\n",
       "    }\n",
       "</style>\n",
       "<table border=\"1\" class=\"dataframe\">\n",
       "  <thead>\n",
       "    <tr style=\"text-align: right;\">\n",
       "      <th></th>\n",
       "      <th>Provider name</th>\n",
       "      <th>ID</th>\n",
       "      <th>Hotforex url</th>\n",
       "      <th>Location</th>\n",
       "      <th>Last updated</th>\n",
       "      <th>Message</th>\n",
       "      <th>Minimum first deposit</th>\n",
       "      <th>Active since</th>\n",
       "      <th>Gain</th>\n",
       "      <th>Max Drawdown</th>\n",
       "      <th>...</th>\n",
       "      <th>Positive Closed Trades</th>\n",
       "      <th>Negative Closed Trades</th>\n",
       "      <th>Profitability</th>\n",
       "      <th>Average Profit</th>\n",
       "      <th>Average Loss</th>\n",
       "      <th>Average Lot Size</th>\n",
       "      <th>Average Trade Length</th>\n",
       "      <th>Activity</th>\n",
       "      <th>Type account</th>\n",
       "      <th>Num days strategies</th>\n",
       "    </tr>\n",
       "  </thead>\n",
       "  <tbody>\n",
       "    <tr>\n",
       "      <th>157</th>\n",
       "      <td>Gichboy24</td>\n",
       "      <td>35404313</td>\n",
       "      <td>https://my.hfm.com/en/hfcopy/provider-details....</td>\n",
       "      <td>Kenya</td>\n",
       "      <td>2024-04-18 14:02:43</td>\n",
       "      <td>\"Scalping forex\"</td>\n",
       "      <td>6000.0</td>\n",
       "      <td>2023-09-06</td>\n",
       "      <td>-26.1</td>\n",
       "      <td>64.77</td>\n",
       "      <td>...</td>\n",
       "      <td>7153.0</td>\n",
       "      <td>3539.0</td>\n",
       "      <td>66.9</td>\n",
       "      <td>2.42</td>\n",
       "      <td>-5.16</td>\n",
       "      <td>0.03</td>\n",
       "      <td>4H 25m 27s</td>\n",
       "      <td>{'Symbol': ['GBPCHFr', 'GBPNZDr', 'GBPNZDr', '...</td>\n",
       "      <td>Pro</td>\n",
       "      <td>224.0</td>\n",
       "    </tr>\n",
       "  </tbody>\n",
       "</table>\n",
       "<p>1 rows × 33 columns</p>\n",
       "</div>"
      ],
      "text/plain": [
       "    Provider name        ID  \\\n",
       "157     Gichboy24  35404313   \n",
       "\n",
       "                                          Hotforex url Location  \\\n",
       "157  https://my.hfm.com/en/hfcopy/provider-details....    Kenya   \n",
       "\n",
       "           Last updated           Message  Minimum first deposit Active since  \\\n",
       "157 2024-04-18 14:02:43  \"Scalping forex\"                 6000.0   2023-09-06   \n",
       "\n",
       "     Gain  Max Drawdown  ... Positive Closed Trades  Negative Closed Trades  \\\n",
       "157 -26.1         64.77  ...                 7153.0                  3539.0   \n",
       "\n",
       "     Profitability  Average Profit Average Loss  Average Lot Size  \\\n",
       "157           66.9            2.42        -5.16              0.03   \n",
       "\n",
       "     Average Trade Length                                           Activity  \\\n",
       "157            4H 25m 27s  {'Symbol': ['GBPCHFr', 'GBPNZDr', 'GBPNZDr', '...   \n",
       "\n",
       "     Type account  Num days strategies  \n",
       "157           Pro                224.0  \n",
       "\n",
       "[1 rows x 33 columns]"
      ]
     },
     "execution_count": 30,
     "metadata": {},
     "output_type": "execute_result"
    }
   ],
   "source": [
    "df_selected.loc[df_selected['Minimum first deposit'] > 5000]"
   ]
  },
  {
   "cell_type": "markdown",
   "metadata": {},
   "source": [
    "There are one strategy with a Minimun First Deposit greater than $5000. I will delete it because for now this amount is too high."
   ]
  },
  {
   "cell_type": "code",
   "execution_count": 31,
   "metadata": {},
   "outputs": [],
   "source": [
    "index_to_drop = df_selected[df_selected['Minimum first deposit'] > 5000].index\n",
    "df_selected.drop(index_to_drop, axis=0, inplace=True)\n",
    "\n",
    "# Reset index\n",
    "df_selected.reset_index(drop=True, inplace=True)"
   ]
  },
  {
   "cell_type": "code",
   "execution_count": 32,
   "metadata": {},
   "outputs": [
    {
     "data": {
      "image/png": "[encoded data removed]",
      "text/plain": [
       "<Figure size 1400x400 with 1 Axes>"
      ]
     },
     "metadata": {},
     "output_type": "display_data"
    }
   ],
   "source": [
    "fig, axes = plt.subplots(figsize=(14,4))\n",
    "sns.histplot(data=df_selected, x='Minimum first deposit', bins=20, ec='black');"
   ]
  },
  {
   "cell_type": "markdown",
   "metadata": {},
   "source": [
    "The requirement of most of the strategies is $25."
   ]
  },
  {
   "cell_type": "markdown",
   "metadata": {},
   "source": [
    "### Max Drawdown"
   ]
  },
  {
   "cell_type": "code",
   "execution_count": 33,
   "metadata": {},
   "outputs": [
    {
     "data": {
      "image/png": "[encoded data removed]",
      "text/plain": [
       "<Figure size 1400x400 with 1 Axes>"
      ]
     },
     "metadata": {},
     "output_type": "display_data"
    }
   ],
   "source": [
    "fig, axes = plt.subplots(figsize=(14,4))\n",
    "sns.histplot(data=df_selected, x='Max Drawdown', bins=20, ec='black');"
   ]
  },
  {
   "cell_type": "markdown",
   "metadata": {},
   "source": [
    "We are not interested in analyse strategies with a Maximum Drawdown greater than 40%."
   ]
  },
  {
   "cell_type": "code",
   "execution_count": 34,
   "metadata": {},
   "outputs": [],
   "source": [
    "index_to_drop = df_selected[df_selected['Max Drawdown'] > max_drawdown_limit].index\n",
    "df_selected.drop(index_to_drop, axis=0, inplace=True)\n",
    "\n",
    "# Reset index\n",
    "df_selected.reset_index(drop=True, inplace=True)"
   ]
  },
  {
   "cell_type": "code",
   "execution_count": 35,
   "metadata": {},
   "outputs": [
    {
     "name": "stdout",
     "output_type": "stream",
     "text": [
      "We have selected 141 strategies to analyze.\n"
     ]
    }
   ],
   "source": [
    "print(f\"We have selected {df_selected.shape[0]} strategies to analyze.\")"
   ]
  },
  {
   "cell_type": "markdown",
   "metadata": {},
   "source": [
    "### Locations"
   ]
  },
  {
   "cell_type": "code",
   "execution_count": 36,
   "metadata": {},
   "outputs": [
    {
     "data": {
      "image/png": "[encoded data removed]",
      "text/plain": [
       "<Figure size 1400x500 with 1 Axes>"
      ]
     },
     "metadata": {},
     "output_type": "display_data"
    }
   ],
   "source": [
    "fig, axes = plt.subplots(figsize=(14,5))\n",
    "bar_plot = sns.countplot(data=df_selected, x='Location', ax=axes)\n",
    "\n",
    "bar_plot.set_xticklabels(bar_plot.get_xticklabels(), rotation=45, horizontalalignment='right');"
   ]
  },
  {
   "cell_type": "markdown",
   "metadata": {},
   "source": [
    "Most of the strategies are in Asia"
   ]
  },
  {
   "cell_type": "markdown",
   "metadata": {},
   "source": [
    "### Num days strategies"
   ]
  },
  {
   "cell_type": "code",
   "execution_count": 37,
   "metadata": {},
   "outputs": [
    {
     "data": {
      "image/png": "[encoded data removed]",
      "text/plain": [
       "<Figure size 1400x400 with 1 Axes>"
      ]
     },
     "metadata": {},
     "output_type": "display_data"
    }
   ],
   "source": [
    "fig, axes = plt.subplots(figsize=(14,4))\n",
    "sns.histplot(data=df_selected, x='Num days strategies', bins=20, ec='black');"
   ]
  },
  {
   "cell_type": "code",
   "execution_count": 38,
   "metadata": {},
   "outputs": [
    {
     "data": {
      "text/plain": [
       "array([ 181. ,  239.4,  297.8,  356.2,  414.6,  473. ,  531.4,  589.8,\n",
       "        648.2,  706.6,  765. ,  823.4,  881.8,  940.2,  998.6, 1057. ,\n",
       "       1115.4, 1173.8, 1232.2, 1290.6, 1349. ])"
      ]
     },
     "execution_count": 38,
     "metadata": {},
     "output_type": "execute_result"
    }
   ],
   "source": [
    "np.histogram_bin_edges(df_selected['Num days strategies'], bins=20, range=None, weights=None)"
   ]
  },
  {
   "cell_type": "markdown",
   "metadata": {},
   "source": [
    "Most of the strategies with less than two years."
   ]
  },
  {
   "cell_type": "markdown",
   "metadata": {},
   "source": [
    "### Followers"
   ]
  },
  {
   "cell_type": "code",
   "execution_count": 39,
   "metadata": {},
   "outputs": [
    {
     "data": {
      "image/png": "[encoded data removed]",
      "text/plain": [
       "<Figure size 1400x400 with 1 Axes>"
      ]
     },
     "metadata": {},
     "output_type": "display_data"
    }
   ],
   "source": [
    "fig, axes = plt.subplots(figsize=(14,4))\n",
    "sns.histplot(data=df_selected, x='Followers', bins=20, ec='black');"
   ]
  },
  {
   "cell_type": "markdown",
   "metadata": {},
   "source": [
    "Most of the strategies don't have followers. Only a few strategies have more than 10"
   ]
  },
  {
   "cell_type": "code",
   "execution_count": 40,
   "metadata": {},
   "outputs": [
    {
     "data": {
      "image/png": "[encoded data removed]",
      "text/plain": [
       "<Figure size 1400x400 with 1 Axes>"
      ]
     },
     "metadata": {},
     "output_type": "display_data"
    }
   ],
   "source": [
    "fig, axes = plt.subplots(figsize=(14,4))\n",
    "\n",
    "temp = pd.DataFrame()\n",
    "temp['Followers'] = df_selected['Followers']\n",
    "\n",
    "def find_cat(x):\n",
    "    if x <= 2:\n",
    "        return str(int(x))\n",
    "    elif  3 <= x <= 6:\n",
    "        return \"3-6\"\n",
    "    elif  7 <= x <= 9:\n",
    "        return \"7-9\"\n",
    "    elif  10 <= x <= 50:\n",
    "        return \"10-50\"\n",
    "    elif  x > 50:\n",
    "        return \">50\"\n",
    "\n",
    "# Apply function to define different categories\n",
    "temp['Categories'] = temp['Followers'].apply(find_cat)\n",
    "\n",
    "# Group by new categories\n",
    "temp = temp.groupby('Categories', as_index=False).count()\n",
    "\n",
    "# We need to reindex to put the groups in the correct order\n",
    "temp = temp.reindex(index=[0,1,3,4,5,2,6])\n",
    "\n",
    "temp.plot.bar(x='Categories', y='Followers', rot=0, width=0.8, ax=axes);"
   ]
  },
  {
   "cell_type": "markdown",
   "metadata": {},
   "source": [
    "**Observations:**\n",
    "- Only 13 strategies have between 10 and 50 followers.\n",
    "- Only 9 strategies have more than 50 followers."
   ]
  },
  {
   "cell_type": "code",
   "execution_count": 41,
   "metadata": {},
   "outputs": [
    {
     "name": "stdout",
     "output_type": "stream",
     "text": [
      "Only 13 strategies between 10 and 50 followers\n"
     ]
    }
   ],
   "source": [
    "# Define min and max number of followers\n",
    "num_followers_min, num_followers_max = 10, 50\n",
    "\n",
    "# Condition to filter DataFrame\n",
    "condition = (df_selected['Followers'] >= num_followers_min) & (df_selected['Followers'] <= num_followers_max)\n",
    "\n",
    "print(f\"Only {df_selected[condition].shape[0]} strategies between {num_followers_min} and {num_followers_max} followers\")"
   ]
  },
  {
   "cell_type": "code",
   "execution_count": 42,
   "metadata": {},
   "outputs": [
    {
     "name": "stdout",
     "output_type": "stream",
     "text": [
      "Only 10 strategies with more than 50 followers\n"
     ]
    }
   ],
   "source": [
    "# Condition to filter DataFrame\n",
    "condition = df_selected['Followers'] > num_followers_max\n",
    "\n",
    "print(f\"Only {df_selected[condition].shape[0]} strategies with more than {num_followers_max} followers\")"
   ]
  },
  {
   "cell_type": "markdown",
   "metadata": {},
   "source": [
    "**For this Notebook, the popular strategies would be with the followers greater than or equal to 10.**"
   ]
  },
  {
   "cell_type": "markdown",
   "metadata": {},
   "source": [
    "### Performance Fee"
   ]
  },
  {
   "cell_type": "code",
   "execution_count": 43,
   "metadata": {},
   "outputs": [
    {
     "data": {
      "image/png": "[encoded data removed]",
      "text/plain": [
       "<Figure size 1400x400 with 1 Axes>"
      ]
     },
     "metadata": {},
     "output_type": "display_data"
    }
   ],
   "source": [
    "fig, axes = plt.subplots(figsize=(14,4))\n",
    "sns.countplot(data=df_selected, x='Performance Fee', ec='black');"
   ]
  },
  {
   "cell_type": "markdown",
   "metadata": {},
   "source": [
    "Most of the strategies requieres 30% of fees."
   ]
  },
  {
   "cell_type": "code",
   "execution_count": 44,
   "metadata": {},
   "outputs": [
    {
     "data": {
      "image/png": "[encoded data removed]",
      "text/plain": [
       "<Figure size 1400x400 with 1 Axes>"
      ]
     },
     "metadata": {},
     "output_type": "display_data"
    }
   ],
   "source": [
    "fig, axes = plt.subplots(figsize=(14,4))\n",
    "sns.countplot(data=df_selected[df_selected['Followers'] >= num_followers_min], x='Performance Fee', ec='black');"
   ]
  },
  {
   "cell_type": "markdown",
   "metadata": {},
   "source": [
    "The fees distribution of popular stratetegies show a range between 5% - 35%"
   ]
  },
  {
   "cell_type": "markdown",
   "metadata": {},
   "source": [
    "### Stabililty Score"
   ]
  },
  {
   "cell_type": "code",
   "execution_count": 45,
   "metadata": {},
   "outputs": [
    {
     "data": {
      "image/png": "[encoded data removed]",
      "text/plain": [
       "<Figure size 1400x400 with 1 Axes>"
      ]
     },
     "metadata": {},
     "output_type": "display_data"
    }
   ],
   "source": [
    "fig, axes = plt.subplots(figsize=(14,4))\n",
    "sns.countplot(data=df_selected, x='Stability Score', ec='black');"
   ]
  },
  {
   "cell_type": "markdown",
   "metadata": {},
   "source": [
    "On average, good stability scores."
   ]
  },
  {
   "cell_type": "code",
   "execution_count": 46,
   "metadata": {},
   "outputs": [
    {
     "data": {
      "image/png": "[encoded data removed]",
      "text/plain": [
       "<Figure size 1400x400 with 1 Axes>"
      ]
     },
     "metadata": {},
     "output_type": "display_data"
    }
   ],
   "source": [
    "fig, axes = plt.subplots(figsize=(14,4))\n",
    "sns.countplot(data=df_selected[df_selected['Followers'] >= num_followers_min], x='Stability Score', ec='black');"
   ]
  },
  {
   "cell_type": "markdown",
   "metadata": {},
   "source": [
    "The popular strategies show a good stability score."
   ]
  },
  {
   "cell_type": "markdown",
   "metadata": {},
   "source": [
    "### Performance"
   ]
  },
  {
   "cell_type": "code",
   "execution_count": 47,
   "metadata": {},
   "outputs": [],
   "source": [
    "# Convert string to dictionary\n",
    "df_selected['Performance'] = df_selected['Performance'].apply(lambda x: eval(x))"
   ]
  },
  {
   "cell_type": "markdown",
   "metadata": {},
   "source": [
    "In order to understand the performance percentages, let's select the first user. <a id=\"performance_example\"></a>\n",
    "\n",
    "The list starts from January to December which the last value is the total of percentage gained by the user. The unit of each number is a percentage."
   ]
  },
  {
   "cell_type": "code",
   "execution_count": 48,
   "metadata": {},
   "outputs": [
    {
     "data": {
      "text/plain": [
       "{'2023': [None,\n",
       "  None,\n",
       "  None,\n",
       "  None,\n",
       "  '3.59',\n",
       "  '91.12',\n",
       "  '26.27',\n",
       "  '21.78',\n",
       "  '22.41',\n",
       "  '32.43',\n",
       "  '19.2',\n",
       "  '20.35',\n",
       "  '607.99'],\n",
       " '2024': ['10.47',\n",
       "  '43.9',\n",
       "  '31.42',\n",
       "  '9.95',\n",
       "  None,\n",
       "  None,\n",
       "  None,\n",
       "  None,\n",
       "  None,\n",
       "  None,\n",
       "  None,\n",
       "  None,\n",
       "  '129.7']}"
      ]
     },
     "execution_count": 48,
     "metadata": {},
     "output_type": "execute_result"
    }
   ],
   "source": [
    "df_selected.loc[0, 'Performance']"
   ]
  },
  {
   "cell_type": "code",
   "execution_count": 49,
   "metadata": {},
   "outputs": [
    {
     "data": {
      "text/plain": [
       "607.9877559502262"
      ]
     },
     "execution_count": 49,
     "metadata": {},
     "output_type": "execute_result"
    }
   ],
   "source": [
    "# Percentage initial\n",
    "initial = 100\n",
    "\n",
    "# The user \"35378631\" is in the position 4.\n",
    "for item in df_selected.loc[0, 'Performance']['2023'][0:12]: # type: ignore\n",
    "    if item:\n",
    "        initial = initial + initial*(float(item)/100)\n",
    "\n",
    "initial - 100"
   ]
  },
  {
   "cell_type": "markdown",
   "metadata": {},
   "source": [
    "There is a small difference between this value and the last value of dictionary."
   ]
  },
  {
   "cell_type": "markdown",
   "metadata": {},
   "source": [
    "The next step is delete the last value of each year list, because we don't need to use the total percentage for the calculations."
   ]
  },
  {
   "cell_type": "code",
   "execution_count": 50,
   "metadata": {},
   "outputs": [],
   "source": [
    "df_selected['Performance'].apply(lambda x: [x[key].pop() for key in x.keys()]);"
   ]
  },
  {
   "cell_type": "code",
   "execution_count": 51,
   "metadata": {},
   "outputs": [
    {
     "data": {
      "text/plain": [
       "{'2023': [None,\n",
       "  None,\n",
       "  None,\n",
       "  None,\n",
       "  '3.59',\n",
       "  '91.12',\n",
       "  '26.27',\n",
       "  '21.78',\n",
       "  '22.41',\n",
       "  '32.43',\n",
       "  '19.2',\n",
       "  '20.35'],\n",
       " '2024': ['10.47',\n",
       "  '43.9',\n",
       "  '31.42',\n",
       "  '9.95',\n",
       "  None,\n",
       "  None,\n",
       "  None,\n",
       "  None,\n",
       "  None,\n",
       "  None,\n",
       "  None,\n",
       "  None]}"
      ]
     },
     "execution_count": 51,
     "metadata": {},
     "output_type": "execute_result"
    }
   ],
   "source": [
    "df_selected.loc[0, 'Performance']"
   ]
  },
  {
   "cell_type": "markdown",
   "metadata": {},
   "source": [
    "Check if all rows have data of the current year"
   ]
  },
  {
   "cell_type": "code",
   "execution_count": 52,
   "metadata": {},
   "outputs": [
    {
     "name": "stdout",
     "output_type": "stream",
     "text": [
      "54\n"
     ]
    }
   ],
   "source": [
    "# Get years data from dictionaries\n",
    "years_data = df_selected.loc[:, 'Performance'].apply(lambda x: x.keys())\n",
    "\n",
    "for item in years_data.index:\n",
    "    # Print the index if the current year is not in 2024\n",
    "    if '2024' not in years_data[item]:\n",
    "        print(item)"
   ]
  },
  {
   "cell_type": "code",
   "execution_count": 53,
   "metadata": {},
   "outputs": [
    {
     "data": {
      "text/plain": [
       "{'2023': [None,\n",
       "  None,\n",
       "  None,\n",
       "  None,\n",
       "  None,\n",
       "  None,\n",
       "  None,\n",
       "  None,\n",
       "  None,\n",
       "  '46.99',\n",
       "  '3.03',\n",
       "  None]}"
      ]
     },
     "execution_count": 53,
     "metadata": {},
     "output_type": "execute_result"
    }
   ],
   "source": [
    "df_selected.loc[54, 'Performance']"
   ]
  },
  {
   "cell_type": "markdown",
   "metadata": {},
   "source": [
    "There is one item without 2024 data. Let's delete from data selection"
   ]
  },
  {
   "cell_type": "code",
   "execution_count": 54,
   "metadata": {},
   "outputs": [],
   "source": [
    "# Drop row without 2024 data.\n",
    "df_selected.drop(54, axis=0, inplace=True)\n",
    "\n",
    "# Reset index\n",
    "df_selected.reset_index(drop=True, inplace=True)"
   ]
  },
  {
   "cell_type": "markdown",
   "metadata": {},
   "source": [
    "Delete None values of the last 9 months of 2024 because this data was scrapped at the begining of April.\n",
    "\n",
    "This is an optional and it depends of the scrape date."
   ]
  },
  {
   "cell_type": "code",
   "execution_count": 55,
   "metadata": {},
   "outputs": [],
   "source": [
    "for _ in range(9):\n",
    "    df_selected['Performance'].apply(lambda x: [x['2024'].pop()]);"
   ]
  },
  {
   "cell_type": "code",
   "execution_count": 56,
   "metadata": {},
   "outputs": [
    {
     "data": {
      "text/plain": [
       "{'2023': [None,\n",
       "  None,\n",
       "  None,\n",
       "  None,\n",
       "  '3.59',\n",
       "  '91.12',\n",
       "  '26.27',\n",
       "  '21.78',\n",
       "  '22.41',\n",
       "  '32.43',\n",
       "  '19.2',\n",
       "  '20.35'],\n",
       " '2024': ['10.47', '43.9', '31.42']}"
      ]
     },
     "execution_count": 56,
     "metadata": {},
     "output_type": "execute_result"
    }
   ],
   "source": [
    "df_selected.loc[0, 'Performance']"
   ]
  },
  {
   "cell_type": "markdown",
   "metadata": {},
   "source": [
    "Convert string values to float values"
   ]
  },
  {
   "cell_type": "code",
   "execution_count": 57,
   "metadata": {},
   "outputs": [],
   "source": [
    "def string_to_float(row):\n",
    "    \"\"\"\n",
    "    Convert each list inside dictionary in float values.\n",
    "    \"\"\"\n",
    "    for key in row:\n",
    "        row[key] = list(map(lambda x: float(x) if x else x, row[key]))\n",
    "\n",
    "df_selected['Performance'].apply(string_to_float);"
   ]
  },
  {
   "cell_type": "code",
   "execution_count": 58,
   "metadata": {},
   "outputs": [
    {
     "data": {
      "text/plain": [
       "{'2023': [None,\n",
       "  None,\n",
       "  None,\n",
       "  None,\n",
       "  3.59,\n",
       "  91.12,\n",
       "  26.27,\n",
       "  21.78,\n",
       "  22.41,\n",
       "  32.43,\n",
       "  19.2,\n",
       "  20.35],\n",
       " '2024': [10.47, 43.9, 31.42]}"
      ]
     },
     "execution_count": 58,
     "metadata": {},
     "output_type": "execute_result"
    }
   ],
   "source": [
    "df_selected.loc[0, 'Performance']"
   ]
  },
  {
   "cell_type": "markdown",
   "metadata": {},
   "source": [
    "### Average Trade Length"
   ]
  },
  {
   "cell_type": "markdown",
   "metadata": {},
   "source": [
    "Sometimes the row doesn't have hours, minutes or seconds. We need to fix this in order to convert this data to a datetime object."
   ]
  },
  {
   "cell_type": "code",
   "execution_count": 59,
   "metadata": {},
   "outputs": [
    {
     "data": {
      "text/plain": [
       "[80, 114]"
      ]
     },
     "execution_count": 59,
     "metadata": {},
     "output_type": "execute_result"
    }
   ],
   "source": [
    "no_hours = [item for item in  df_selected['Average Trade Length'].index if \"H\" not in df_selected.loc[item, 'Average Trade Length']]\n",
    "no_hours"
   ]
  },
  {
   "cell_type": "code",
   "execution_count": 60,
   "metadata": {},
   "outputs": [
    {
     "data": {
      "text/plain": [
       "[9, 37, 39, 60, 79, 91]"
      ]
     },
     "execution_count": 60,
     "metadata": {},
     "output_type": "execute_result"
    }
   ],
   "source": [
    "no_mins = [item for item in  df_selected['Average Trade Length'].index if \"m\" not in df_selected.loc[item, 'Average Trade Length']]\n",
    "no_mins"
   ]
  },
  {
   "cell_type": "code",
   "execution_count": 61,
   "metadata": {},
   "outputs": [
    {
     "data": {
      "text/plain": [
       "[]"
      ]
     },
     "execution_count": 61,
     "metadata": {},
     "output_type": "execute_result"
    }
   ],
   "source": [
    "no_secs = [item for item in  df_selected['Average Trade Length'].index if \"s\" not in df_selected.loc[item, 'Average Trade Length']]\n",
    "no_secs"
   ]
  },
  {
   "cell_type": "code",
   "execution_count": 62,
   "metadata": {},
   "outputs": [
    {
     "data": {
      "text/html": [
       "<div>\n",
       "<style scoped>\n",
       "    .dataframe tbody tr th:only-of-type {\n",
       "        vertical-align: middle;\n",
       "    }\n",
       "\n",
       "    .dataframe tbody tr th {\n",
       "        vertical-align: top;\n",
       "    }\n",
       "\n",
       "    .dataframe thead th {\n",
       "        text-align: right;\n",
       "    }\n",
       "</style>\n",
       "<table border=\"1\" class=\"dataframe\">\n",
       "  <thead>\n",
       "    <tr style=\"text-align: right;\">\n",
       "      <th></th>\n",
       "      <th>Average Trade Length</th>\n",
       "    </tr>\n",
       "  </thead>\n",
       "  <tbody>\n",
       "    <tr>\n",
       "      <th>80</th>\n",
       "      <td>53m 50s</td>\n",
       "    </tr>\n",
       "    <tr>\n",
       "      <th>114</th>\n",
       "      <td>40m 35s</td>\n",
       "    </tr>\n",
       "  </tbody>\n",
       "</table>\n",
       "</div>"
      ],
      "text/plain": [
       "    Average Trade Length\n",
       "80               53m 50s\n",
       "114              40m 35s"
      ]
     },
     "execution_count": 62,
     "metadata": {},
     "output_type": "execute_result"
    }
   ],
   "source": [
    "df_selected.loc[no_hours, ['Average Trade Length']]"
   ]
  },
  {
   "cell_type": "code",
   "execution_count": 63,
   "metadata": {},
   "outputs": [
    {
     "data": {
      "text/html": [
       "<div>\n",
       "<style scoped>\n",
       "    .dataframe tbody tr th:only-of-type {\n",
       "        vertical-align: middle;\n",
       "    }\n",
       "\n",
       "    .dataframe tbody tr th {\n",
       "        vertical-align: top;\n",
       "    }\n",
       "\n",
       "    .dataframe thead th {\n",
       "        text-align: right;\n",
       "    }\n",
       "</style>\n",
       "<table border=\"1\" class=\"dataframe\">\n",
       "  <thead>\n",
       "    <tr style=\"text-align: right;\">\n",
       "      <th></th>\n",
       "      <th>Average Trade Length</th>\n",
       "    </tr>\n",
       "  </thead>\n",
       "  <tbody>\n",
       "    <tr>\n",
       "      <th>9</th>\n",
       "      <td>14H 0s</td>\n",
       "    </tr>\n",
       "    <tr>\n",
       "      <th>37</th>\n",
       "      <td>134H 21s</td>\n",
       "    </tr>\n",
       "    <tr>\n",
       "      <th>39</th>\n",
       "      <td>467H 18s</td>\n",
       "    </tr>\n",
       "    <tr>\n",
       "      <th>60</th>\n",
       "      <td>20H 6s</td>\n",
       "    </tr>\n",
       "    <tr>\n",
       "      <th>79</th>\n",
       "      <td>1H 33s</td>\n",
       "    </tr>\n",
       "    <tr>\n",
       "      <th>91</th>\n",
       "      <td>12H 47s</td>\n",
       "    </tr>\n",
       "  </tbody>\n",
       "</table>\n",
       "</div>"
      ],
      "text/plain": [
       "   Average Trade Length\n",
       "9                14H 0s\n",
       "37             134H 21s\n",
       "39             467H 18s\n",
       "60               20H 6s\n",
       "79               1H 33s\n",
       "91              12H 47s"
      ]
     },
     "execution_count": 63,
     "metadata": {},
     "output_type": "execute_result"
    }
   ],
   "source": [
    "df_selected.loc[no_mins, ['Average Trade Length']]"
   ]
  },
  {
   "cell_type": "markdown",
   "metadata": {},
   "source": [
    "There are some items without hours or minutes data. All items contains \"seconds\""
   ]
  },
  {
   "cell_type": "code",
   "execution_count": 64,
   "metadata": {},
   "outputs": [],
   "source": [
    "# Add \"0H\" just in case the time string  doesn't have hours data\n",
    "temp_function = lambda x: '0H ' + x if (not pd.isnull(x)) and ('H' not in x) else x\n",
    "\n",
    "df_selected['Average Trade Length'] = df_selected['Average Trade Length'].apply(temp_function)"
   ]
  },
  {
   "cell_type": "code",
   "execution_count": 65,
   "metadata": {},
   "outputs": [],
   "source": [
    "# Add \"0m\" just in case the time string  doesn't have minutes data\n",
    "temp_function = lambda x: x.split(\" \")[0]  + ' 0m ' + x.split(\" \")[1] if (not pd.isnull(x)) and ('m' not in x) else x\n",
    "\n",
    "df_selected['Average Trade Length'] = df_selected['Average Trade Length'].apply(temp_function)"
   ]
  },
  {
   "cell_type": "code",
   "execution_count": 66,
   "metadata": {},
   "outputs": [
    {
     "data": {
      "text/html": [
       "<div>\n",
       "<style scoped>\n",
       "    .dataframe tbody tr th:only-of-type {\n",
       "        vertical-align: middle;\n",
       "    }\n",
       "\n",
       "    .dataframe tbody tr th {\n",
       "        vertical-align: top;\n",
       "    }\n",
       "\n",
       "    .dataframe thead th {\n",
       "        text-align: right;\n",
       "    }\n",
       "</style>\n",
       "<table border=\"1\" class=\"dataframe\">\n",
       "  <thead>\n",
       "    <tr style=\"text-align: right;\">\n",
       "      <th></th>\n",
       "      <th>Average Trade Length</th>\n",
       "    </tr>\n",
       "  </thead>\n",
       "  <tbody>\n",
       "    <tr>\n",
       "      <th>80</th>\n",
       "      <td>0H 53m 50s</td>\n",
       "    </tr>\n",
       "    <tr>\n",
       "      <th>114</th>\n",
       "      <td>0H 40m 35s</td>\n",
       "    </tr>\n",
       "  </tbody>\n",
       "</table>\n",
       "</div>"
      ],
      "text/plain": [
       "    Average Trade Length\n",
       "80            0H 53m 50s\n",
       "114           0H 40m 35s"
      ]
     },
     "execution_count": 66,
     "metadata": {},
     "output_type": "execute_result"
    }
   ],
   "source": [
    "df_selected.loc[no_hours, ['Average Trade Length']]"
   ]
  },
  {
   "cell_type": "code",
   "execution_count": 67,
   "metadata": {},
   "outputs": [
    {
     "data": {
      "text/html": [
       "<div>\n",
       "<style scoped>\n",
       "    .dataframe tbody tr th:only-of-type {\n",
       "        vertical-align: middle;\n",
       "    }\n",
       "\n",
       "    .dataframe tbody tr th {\n",
       "        vertical-align: top;\n",
       "    }\n",
       "\n",
       "    .dataframe thead th {\n",
       "        text-align: right;\n",
       "    }\n",
       "</style>\n",
       "<table border=\"1\" class=\"dataframe\">\n",
       "  <thead>\n",
       "    <tr style=\"text-align: right;\">\n",
       "      <th></th>\n",
       "      <th>Average Trade Length</th>\n",
       "    </tr>\n",
       "  </thead>\n",
       "  <tbody>\n",
       "    <tr>\n",
       "      <th>9</th>\n",
       "      <td>14H 0m 0s</td>\n",
       "    </tr>\n",
       "    <tr>\n",
       "      <th>37</th>\n",
       "      <td>134H 0m 21s</td>\n",
       "    </tr>\n",
       "    <tr>\n",
       "      <th>39</th>\n",
       "      <td>467H 0m 18s</td>\n",
       "    </tr>\n",
       "    <tr>\n",
       "      <th>60</th>\n",
       "      <td>20H 0m 6s</td>\n",
       "    </tr>\n",
       "    <tr>\n",
       "      <th>79</th>\n",
       "      <td>1H 0m 33s</td>\n",
       "    </tr>\n",
       "    <tr>\n",
       "      <th>91</th>\n",
       "      <td>12H 0m 47s</td>\n",
       "    </tr>\n",
       "  </tbody>\n",
       "</table>\n",
       "</div>"
      ],
      "text/plain": [
       "   Average Trade Length\n",
       "9             14H 0m 0s\n",
       "37          134H 0m 21s\n",
       "39          467H 0m 18s\n",
       "60            20H 0m 6s\n",
       "79            1H 0m 33s\n",
       "91           12H 0m 47s"
      ]
     },
     "execution_count": 67,
     "metadata": {},
     "output_type": "execute_result"
    }
   ],
   "source": [
    "df_selected.loc[no_mins, ['Average Trade Length']]"
   ]
  },
  {
   "cell_type": "code",
   "execution_count": 68,
   "metadata": {},
   "outputs": [],
   "source": [
    "# Split column\n",
    "avg_trade_length = df_selected['Average Trade Length'].str.split(' ', expand=True)\n",
    "avg_trade_length.columns = ['Hours', 'Minutes', 'Seconds']"
   ]
  },
  {
   "cell_type": "code",
   "execution_count": 69,
   "metadata": {},
   "outputs": [
    {
     "data": {
      "text/html": [
       "<div>\n",
       "<style scoped>\n",
       "    .dataframe tbody tr th:only-of-type {\n",
       "        vertical-align: middle;\n",
       "    }\n",
       "\n",
       "    .dataframe tbody tr th {\n",
       "        vertical-align: top;\n",
       "    }\n",
       "\n",
       "    .dataframe thead th {\n",
       "        text-align: right;\n",
       "    }\n",
       "</style>\n",
       "<table border=\"1\" class=\"dataframe\">\n",
       "  <thead>\n",
       "    <tr style=\"text-align: right;\">\n",
       "      <th></th>\n",
       "      <th>Hours</th>\n",
       "      <th>Minutes</th>\n",
       "      <th>Seconds</th>\n",
       "    </tr>\n",
       "  </thead>\n",
       "  <tbody>\n",
       "    <tr>\n",
       "      <th>37</th>\n",
       "      <td>134H</td>\n",
       "      <td>0m</td>\n",
       "      <td>21s</td>\n",
       "    </tr>\n",
       "    <tr>\n",
       "      <th>38</th>\n",
       "      <td>67H</td>\n",
       "      <td>54m</td>\n",
       "      <td>22s</td>\n",
       "    </tr>\n",
       "    <tr>\n",
       "      <th>39</th>\n",
       "      <td>467H</td>\n",
       "      <td>0m</td>\n",
       "      <td>18s</td>\n",
       "    </tr>\n",
       "    <tr>\n",
       "      <th>40</th>\n",
       "      <td>75H</td>\n",
       "      <td>17m</td>\n",
       "      <td>51s</td>\n",
       "    </tr>\n",
       "    <tr>\n",
       "      <th>41</th>\n",
       "      <td>1H</td>\n",
       "      <td>28m</td>\n",
       "      <td>28s</td>\n",
       "    </tr>\n",
       "  </tbody>\n",
       "</table>\n",
       "</div>"
      ],
      "text/plain": [
       "   Hours Minutes Seconds\n",
       "37  134H      0m     21s\n",
       "38   67H     54m     22s\n",
       "39  467H      0m     18s\n",
       "40   75H     17m     51s\n",
       "41    1H     28m     28s"
      ]
     },
     "execution_count": 69,
     "metadata": {},
     "output_type": "execute_result"
    }
   ],
   "source": [
    "avg_trade_length.iloc[37:42, :]"
   ]
  },
  {
   "cell_type": "code",
   "execution_count": 70,
   "metadata": {},
   "outputs": [],
   "source": [
    "# Remove \"H\", \"m\", and \"s\" from the rows\n",
    "avg_trade_length['Hours'] = avg_trade_length['Hours'].str.split('H', expand=True)[0]\n",
    "avg_trade_length['Minutes'] = avg_trade_length['Minutes'].str.split('m', expand=True)[0]\n",
    "avg_trade_length['Seconds'] = avg_trade_length['Seconds'].str.split('s', expand=True)[0]"
   ]
  },
  {
   "cell_type": "code",
   "execution_count": 71,
   "metadata": {},
   "outputs": [
    {
     "data": {
      "text/html": [
       "<div>\n",
       "<style scoped>\n",
       "    .dataframe tbody tr th:only-of-type {\n",
       "        vertical-align: middle;\n",
       "    }\n",
       "\n",
       "    .dataframe tbody tr th {\n",
       "        vertical-align: top;\n",
       "    }\n",
       "\n",
       "    .dataframe thead th {\n",
       "        text-align: right;\n",
       "    }\n",
       "</style>\n",
       "<table border=\"1\" class=\"dataframe\">\n",
       "  <thead>\n",
       "    <tr style=\"text-align: right;\">\n",
       "      <th></th>\n",
       "      <th>Hours</th>\n",
       "      <th>Minutes</th>\n",
       "      <th>Seconds</th>\n",
       "    </tr>\n",
       "  </thead>\n",
       "  <tbody>\n",
       "    <tr>\n",
       "      <th>0</th>\n",
       "      <td>14</td>\n",
       "      <td>45</td>\n",
       "      <td>2</td>\n",
       "    </tr>\n",
       "    <tr>\n",
       "      <th>1</th>\n",
       "      <td>16</td>\n",
       "      <td>11</td>\n",
       "      <td>45</td>\n",
       "    </tr>\n",
       "    <tr>\n",
       "      <th>2</th>\n",
       "      <td>7</td>\n",
       "      <td>39</td>\n",
       "      <td>42</td>\n",
       "    </tr>\n",
       "    <tr>\n",
       "      <th>3</th>\n",
       "      <td>26</td>\n",
       "      <td>29</td>\n",
       "      <td>37</td>\n",
       "    </tr>\n",
       "    <tr>\n",
       "      <th>4</th>\n",
       "      <td>13</td>\n",
       "      <td>55</td>\n",
       "      <td>12</td>\n",
       "    </tr>\n",
       "  </tbody>\n",
       "</table>\n",
       "</div>"
      ],
      "text/plain": [
       "  Hours Minutes Seconds\n",
       "0    14      45       2\n",
       "1    16      11      45\n",
       "2     7      39      42\n",
       "3    26      29      37\n",
       "4    13      55      12"
      ]
     },
     "execution_count": 71,
     "metadata": {},
     "output_type": "execute_result"
    }
   ],
   "source": [
    "avg_trade_length.head()"
   ]
  },
  {
   "cell_type": "code",
   "execution_count": 72,
   "metadata": {},
   "outputs": [],
   "source": [
    "# Convert as integer\n",
    "avg_trade_length = avg_trade_length.astype(int)\n",
    "\n",
    "# Rename \"Average Trade Length\". The new unit is in hours\n",
    "df_selected['Average Trade Length'] = avg_trade_length['Hours'] + avg_trade_length['Minutes'] / 60 + avg_trade_length['Seconds'] / 3600"
   ]
  },
  {
   "cell_type": "code",
   "execution_count": 73,
   "metadata": {},
   "outputs": [
    {
     "data": {
      "image/png": "[encoded data removed]",
      "text/plain": [
       "<Figure size 1400x400 with 1 Axes>"
      ]
     },
     "metadata": {},
     "output_type": "display_data"
    }
   ],
   "source": [
    "fig, axes = plt.subplots(figsize=(14,4))\n",
    "sns.histplot(data=df_selected, x='Average Trade Length', bins=30, ec='black');"
   ]
  },
  {
   "cell_type": "code",
   "execution_count": 74,
   "metadata": {},
   "outputs": [
    {
     "data": {
      "image/png": "[encoded data removed]",
      "text/plain": [
       "<Figure size 1400x300 with 1 Axes>"
      ]
     },
     "metadata": {},
     "output_type": "display_data"
    }
   ],
   "source": [
    "fig, axes = plt.subplots(figsize=(14,3))\n",
    "sns.boxplot(data=df_selected, x='Average Trade Length');"
   ]
  },
  {
   "cell_type": "markdown",
   "metadata": {},
   "source": [
    "More than 800 hours implies more than 33 days on average by trade. We wouldn't like to analyse strategies which take a lot of time in one single trade. \n",
    "\n",
    "Therefore, we can delete it."
   ]
  },
  {
   "cell_type": "code",
   "execution_count": 75,
   "metadata": {},
   "outputs": [
    {
     "data": {
      "text/html": [
       "<div>\n",
       "<style scoped>\n",
       "    .dataframe tbody tr th:only-of-type {\n",
       "        vertical-align: middle;\n",
       "    }\n",
       "\n",
       "    .dataframe tbody tr th {\n",
       "        vertical-align: top;\n",
       "    }\n",
       "\n",
       "    .dataframe thead th {\n",
       "        text-align: right;\n",
       "    }\n",
       "</style>\n",
       "<table border=\"1\" class=\"dataframe\">\n",
       "  <thead>\n",
       "    <tr style=\"text-align: right;\">\n",
       "      <th></th>\n",
       "      <th>Provider name</th>\n",
       "      <th>ID</th>\n",
       "      <th>Hotforex url</th>\n",
       "      <th>Location</th>\n",
       "      <th>Last updated</th>\n",
       "      <th>Message</th>\n",
       "      <th>Minimum first deposit</th>\n",
       "      <th>Active since</th>\n",
       "      <th>Gain</th>\n",
       "      <th>Max Drawdown</th>\n",
       "      <th>...</th>\n",
       "      <th>Positive Closed Trades</th>\n",
       "      <th>Negative Closed Trades</th>\n",
       "      <th>Profitability</th>\n",
       "      <th>Average Profit</th>\n",
       "      <th>Average Loss</th>\n",
       "      <th>Average Lot Size</th>\n",
       "      <th>Average Trade Length</th>\n",
       "      <th>Activity</th>\n",
       "      <th>Type account</th>\n",
       "      <th>Num days strategies</th>\n",
       "    </tr>\n",
       "  </thead>\n",
       "  <tbody>\n",
       "    <tr>\n",
       "      <th>83</th>\n",
       "      <td>Afroswingfx</td>\n",
       "      <td>69013120</td>\n",
       "      <td>https://my.hfm.com/en/hfcopy/provider-details....</td>\n",
       "      <td>Kenya</td>\n",
       "      <td>2024-04-18 03:10:40</td>\n",
       "      <td>\"The trading strategy is predominantly based o...</td>\n",
       "      <td>500.0</td>\n",
       "      <td>2022-05-16</td>\n",
       "      <td>16.43</td>\n",
       "      <td>NaN</td>\n",
       "      <td>...</td>\n",
       "      <td>67.0</td>\n",
       "      <td>0.0</td>\n",
       "      <td>100.00</td>\n",
       "      <td>18.82</td>\n",
       "      <td>NaN</td>\n",
       "      <td>0.01</td>\n",
       "      <td>1209.688333</td>\n",
       "      <td>{'Symbol': ['EURNZD', 'EURGBP', 'GBPUSD', 'GBP...</td>\n",
       "      <td>Premium</td>\n",
       "      <td>702.0</td>\n",
       "    </tr>\n",
       "    <tr>\n",
       "      <th>125</th>\n",
       "      <td>daigo_doya</td>\n",
       "      <td>35327998</td>\n",
       "      <td>https://my.hfm.com/en/hfcopy/provider-details....</td>\n",
       "      <td>Japan</td>\n",
       "      <td>2024-04-18 14:01:49</td>\n",
       "      <td>\"Planned averaging. Focus on small lots.mid-te...</td>\n",
       "      <td>25.0</td>\n",
       "      <td>2022-08-23</td>\n",
       "      <td>-25.11</td>\n",
       "      <td>1.7</td>\n",
       "      <td>...</td>\n",
       "      <td>43.0</td>\n",
       "      <td>4.0</td>\n",
       "      <td>91.49</td>\n",
       "      <td>23.85</td>\n",
       "      <td>-11.81</td>\n",
       "      <td>0.01</td>\n",
       "      <td>1516.177778</td>\n",
       "      <td>{'Symbol': ['USDCHF', 'USDJPY', 'USDJPY', 'USD...</td>\n",
       "      <td>Premium</td>\n",
       "      <td>603.0</td>\n",
       "    </tr>\n",
       "    <tr>\n",
       "      <th>136</th>\n",
       "      <td>Saitama</td>\n",
       "      <td>35318794</td>\n",
       "      <td>https://my.hfm.com/en/hfcopy/provider-details....</td>\n",
       "      <td>Indonesia</td>\n",
       "      <td>2024-04-18 14:31:38</td>\n",
       "      <td>\"Scalping, Swing Trading.\"</td>\n",
       "      <td>25.0</td>\n",
       "      <td>2022-05-16</td>\n",
       "      <td>-75.29</td>\n",
       "      <td>NaN</td>\n",
       "      <td>...</td>\n",
       "      <td>23.0</td>\n",
       "      <td>0.0</td>\n",
       "      <td>100.00</td>\n",
       "      <td>63.42</td>\n",
       "      <td>NaN</td>\n",
       "      <td>0.01</td>\n",
       "      <td>1436.203333</td>\n",
       "      <td>{'Symbol': ['XAUUSD', 'XAUUSD', 'XAUUSD', 'XAU...</td>\n",
       "      <td>Premium</td>\n",
       "      <td>702.0</td>\n",
       "    </tr>\n",
       "  </tbody>\n",
       "</table>\n",
       "<p>3 rows × 33 columns</p>\n",
       "</div>"
      ],
      "text/plain": [
       "    Provider name        ID  \\\n",
       "83    Afroswingfx  69013120   \n",
       "125    daigo_doya  35327998   \n",
       "136       Saitama  35318794   \n",
       "\n",
       "                                          Hotforex url   Location  \\\n",
       "83   https://my.hfm.com/en/hfcopy/provider-details....      Kenya   \n",
       "125  https://my.hfm.com/en/hfcopy/provider-details....      Japan   \n",
       "136  https://my.hfm.com/en/hfcopy/provider-details....  Indonesia   \n",
       "\n",
       "           Last updated                                            Message  \\\n",
       "83  2024-04-18 03:10:40  \"The trading strategy is predominantly based o...   \n",
       "125 2024-04-18 14:01:49  \"Planned averaging. Focus on small lots.mid-te...   \n",
       "136 2024-04-18 14:31:38                         \"Scalping, Swing Trading.\"   \n",
       "\n",
       "     Minimum first deposit Active since   Gain  Max Drawdown  ...  \\\n",
       "83                   500.0   2022-05-16  16.43           NaN  ...   \n",
       "125                   25.0   2022-08-23 -25.11           1.7  ...   \n",
       "136                   25.0   2022-05-16 -75.29           NaN  ...   \n",
       "\n",
       "    Positive Closed Trades  Negative Closed Trades  Profitability  \\\n",
       "83                    67.0                     0.0         100.00   \n",
       "125                   43.0                     4.0          91.49   \n",
       "136                   23.0                     0.0         100.00   \n",
       "\n",
       "     Average Profit Average Loss  Average Lot Size  Average Trade Length  \\\n",
       "83            18.82          NaN              0.01           1209.688333   \n",
       "125           23.85       -11.81              0.01           1516.177778   \n",
       "136           63.42          NaN              0.01           1436.203333   \n",
       "\n",
       "                                              Activity  Type account  \\\n",
       "83   {'Symbol': ['EURNZD', 'EURGBP', 'GBPUSD', 'GBP...       Premium   \n",
       "125  {'Symbol': ['USDCHF', 'USDJPY', 'USDJPY', 'USD...       Premium   \n",
       "136  {'Symbol': ['XAUUSD', 'XAUUSD', 'XAUUSD', 'XAU...       Premium   \n",
       "\n",
       "     Num days strategies  \n",
       "83                 702.0  \n",
       "125                603.0  \n",
       "136                702.0  \n",
       "\n",
       "[3 rows x 33 columns]"
      ]
     },
     "execution_count": 75,
     "metadata": {},
     "output_type": "execute_result"
    }
   ],
   "source": [
    "df_selected[df_selected['Average Trade Length'] > 800]"
   ]
  },
  {
   "cell_type": "code",
   "execution_count": 76,
   "metadata": {},
   "outputs": [],
   "source": [
    "index_to_drop = df_selected[df_selected['Average Trade Length'] > 800].index\n",
    "\n",
    "# Drop row\n",
    "df_selected.drop(index_to_drop, axis=0, inplace=True)\n",
    "\n",
    "# Reset index\n",
    "df_selected.reset_index(drop=True, inplace=True)"
   ]
  },
  {
   "cell_type": "markdown",
   "metadata": {},
   "source": [
    "Average trade length between 200 and 600 hours implies between 8 and 25 days.\n",
    "\n",
    "These are mid term strategies and maybe it could be interesting to copy one of them."
   ]
  },
  {
   "cell_type": "markdown",
   "metadata": {},
   "source": [
    "### Profitability"
   ]
  },
  {
   "cell_type": "markdown",
   "metadata": {},
   "source": [
    "Percentage of closed operations with positive profits:\n",
    "\n",
    "```python\n",
    "\"Positive Closed Trades\" / \"Number of Closed Trades\".\n",
    "```\n"
   ]
  },
  {
   "cell_type": "code",
   "execution_count": 77,
   "metadata": {},
   "outputs": [
    {
     "data": {
      "image/png": "[encoded data removed]",
      "text/plain": [
       "<Figure size 1400x400 with 1 Axes>"
      ]
     },
     "metadata": {},
     "output_type": "display_data"
    }
   ],
   "source": [
    "fig, axes = plt.subplots(figsize=(14,4))\n",
    "sns.histplot(data=df_selected, x='Profitability', bins=30, ec='black');"
   ]
  },
  {
   "cell_type": "markdown",
   "metadata": {},
   "source": [
    "Most of the strategies have profitability higher than 50%."
   ]
  },
  {
   "cell_type": "markdown",
   "metadata": {},
   "source": [
    "### Number of Closed Trades"
   ]
  },
  {
   "cell_type": "code",
   "execution_count": 78,
   "metadata": {},
   "outputs": [
    {
     "data": {
      "image/png": "[encoded data removed]",
      "text/plain": [
       "<Figure size 1400x400 with 1 Axes>"
      ]
     },
     "metadata": {},
     "output_type": "display_data"
    }
   ],
   "source": [
    "fig, axes = plt.subplots(figsize=(14,4))\n",
    "sns.histplot(data=df_selected, x='Number of Closed Trades', bins=30, ec='black');"
   ]
  },
  {
   "cell_type": "markdown",
   "metadata": {},
   "source": [
    "There are strategies with more than 2000 trades.  Therefore, it could be interesting to know the average of trades by day."
   ]
  },
  {
   "cell_type": "code",
   "execution_count": 79,
   "metadata": {},
   "outputs": [
    {
     "data": {
      "image/png": "[encoded data removed]",
      "text/plain": [
       "<Figure size 1400x400 with 1 Axes>"
      ]
     },
     "metadata": {},
     "output_type": "display_data"
    }
   ],
   "source": [
    "df_selected['Average trade day'] = df_selected['Number of Closed Trades'] / df_selected['Num days strategies']\n",
    "\n",
    "fig, axes = plt.subplots(figsize=(14,4))\n",
    "sns.histplot(data=df_selected, x= 'Average trade day', bins=30, ec='black');"
   ]
  },
  {
   "cell_type": "markdown",
   "metadata": {},
   "source": [
    "There are strategies with more than 10 trades by day. This is a lot of trades in one single day."
   ]
  },
  {
   "cell_type": "code",
   "execution_count": 80,
   "metadata": {},
   "outputs": [
    {
     "data": {
      "text/html": [
       "<div>\n",
       "<style scoped>\n",
       "    .dataframe tbody tr th:only-of-type {\n",
       "        vertical-align: middle;\n",
       "    }\n",
       "\n",
       "    .dataframe tbody tr th {\n",
       "        vertical-align: top;\n",
       "    }\n",
       "\n",
       "    .dataframe thead th {\n",
       "        text-align: right;\n",
       "    }\n",
       "</style>\n",
       "<table border=\"1\" class=\"dataframe\">\n",
       "  <thead>\n",
       "    <tr style=\"text-align: right;\">\n",
       "      <th></th>\n",
       "      <th>Max Drawdown</th>\n",
       "      <th>Followers</th>\n",
       "      <th>Gain</th>\n",
       "      <th>Number of Closed Trades</th>\n",
       "      <th>Num days strategies</th>\n",
       "      <th>Average trade day</th>\n",
       "    </tr>\n",
       "  </thead>\n",
       "  <tbody>\n",
       "    <tr>\n",
       "      <th>2</th>\n",
       "      <td>24.99</td>\n",
       "      <td>300.0</td>\n",
       "      <td>1169.72</td>\n",
       "      <td>4096.0</td>\n",
       "      <td>247.0</td>\n",
       "      <td>16.582996</td>\n",
       "    </tr>\n",
       "    <tr>\n",
       "      <th>22</th>\n",
       "      <td>19.20</td>\n",
       "      <td>0.0</td>\n",
       "      <td>145.43</td>\n",
       "      <td>5147.0</td>\n",
       "      <td>184.0</td>\n",
       "      <td>27.972826</td>\n",
       "    </tr>\n",
       "    <tr>\n",
       "      <th>23</th>\n",
       "      <td>20.37</td>\n",
       "      <td>87.0</td>\n",
       "      <td>136.75</td>\n",
       "      <td>5671.0</td>\n",
       "      <td>237.0</td>\n",
       "      <td>23.928270</td>\n",
       "    </tr>\n",
       "    <tr>\n",
       "      <th>24</th>\n",
       "      <td>29.51</td>\n",
       "      <td>2.0</td>\n",
       "      <td>167.57</td>\n",
       "      <td>4011.0</td>\n",
       "      <td>249.0</td>\n",
       "      <td>16.108434</td>\n",
       "    </tr>\n",
       "    <tr>\n",
       "      <th>31</th>\n",
       "      <td>11.40</td>\n",
       "      <td>4.0</td>\n",
       "      <td>103.97</td>\n",
       "      <td>7440.0</td>\n",
       "      <td>308.0</td>\n",
       "      <td>24.155844</td>\n",
       "    </tr>\n",
       "    <tr>\n",
       "      <th>34</th>\n",
       "      <td>15.57</td>\n",
       "      <td>2.0</td>\n",
       "      <td>86.41</td>\n",
       "      <td>3772.0</td>\n",
       "      <td>184.0</td>\n",
       "      <td>20.500000</td>\n",
       "    </tr>\n",
       "    <tr>\n",
       "      <th>35</th>\n",
       "      <td>13.25</td>\n",
       "      <td>11.0</td>\n",
       "      <td>84.35</td>\n",
       "      <td>3267.0</td>\n",
       "      <td>220.0</td>\n",
       "      <td>14.850000</td>\n",
       "    </tr>\n",
       "    <tr>\n",
       "      <th>43</th>\n",
       "      <td>2.09</td>\n",
       "      <td>0.0</td>\n",
       "      <td>67.18</td>\n",
       "      <td>2089.0</td>\n",
       "      <td>194.0</td>\n",
       "      <td>10.768041</td>\n",
       "    </tr>\n",
       "    <tr>\n",
       "      <th>51</th>\n",
       "      <td>4.67</td>\n",
       "      <td>0.0</td>\n",
       "      <td>55.50</td>\n",
       "      <td>2391.0</td>\n",
       "      <td>196.0</td>\n",
       "      <td>12.198980</td>\n",
       "    </tr>\n",
       "    <tr>\n",
       "      <th>54</th>\n",
       "      <td>9.04</td>\n",
       "      <td>0.0</td>\n",
       "      <td>56.18</td>\n",
       "      <td>3899.0</td>\n",
       "      <td>343.0</td>\n",
       "      <td>11.367347</td>\n",
       "    </tr>\n",
       "    <tr>\n",
       "      <th>71</th>\n",
       "      <td>5.20</td>\n",
       "      <td>0.0</td>\n",
       "      <td>26.81</td>\n",
       "      <td>2059.0</td>\n",
       "      <td>182.0</td>\n",
       "      <td>11.313187</td>\n",
       "    </tr>\n",
       "    <tr>\n",
       "      <th>75</th>\n",
       "      <td>19.90</td>\n",
       "      <td>4.0</td>\n",
       "      <td>30.75</td>\n",
       "      <td>3736.0</td>\n",
       "      <td>194.0</td>\n",
       "      <td>19.257732</td>\n",
       "    </tr>\n",
       "    <tr>\n",
       "      <th>77</th>\n",
       "      <td>1.95</td>\n",
       "      <td>0.0</td>\n",
       "      <td>26.50</td>\n",
       "      <td>2564.0</td>\n",
       "      <td>225.0</td>\n",
       "      <td>11.395556</td>\n",
       "    </tr>\n",
       "    <tr>\n",
       "      <th>82</th>\n",
       "      <td>17.54</td>\n",
       "      <td>4.0</td>\n",
       "      <td>16.88</td>\n",
       "      <td>2174.0</td>\n",
       "      <td>201.0</td>\n",
       "      <td>10.815920</td>\n",
       "    </tr>\n",
       "    <tr>\n",
       "      <th>86</th>\n",
       "      <td>8.54</td>\n",
       "      <td>4.0</td>\n",
       "      <td>16.02</td>\n",
       "      <td>5612.0</td>\n",
       "      <td>212.0</td>\n",
       "      <td>26.471698</td>\n",
       "    </tr>\n",
       "    <tr>\n",
       "      <th>91</th>\n",
       "      <td>31.72</td>\n",
       "      <td>0.0</td>\n",
       "      <td>24.06</td>\n",
       "      <td>3385.0</td>\n",
       "      <td>190.0</td>\n",
       "      <td>17.815789</td>\n",
       "    </tr>\n",
       "    <tr>\n",
       "      <th>95</th>\n",
       "      <td>1.49</td>\n",
       "      <td>2.0</td>\n",
       "      <td>8.95</td>\n",
       "      <td>3202.0</td>\n",
       "      <td>233.0</td>\n",
       "      <td>13.742489</td>\n",
       "    </tr>\n",
       "    <tr>\n",
       "      <th>112</th>\n",
       "      <td>25.83</td>\n",
       "      <td>0.0</td>\n",
       "      <td>-7.57</td>\n",
       "      <td>3103.0</td>\n",
       "      <td>224.0</td>\n",
       "      <td>13.852679</td>\n",
       "    </tr>\n",
       "    <tr>\n",
       "      <th>125</th>\n",
       "      <td>14.05</td>\n",
       "      <td>0.0</td>\n",
       "      <td>18.62</td>\n",
       "      <td>2578.0</td>\n",
       "      <td>201.0</td>\n",
       "      <td>12.825871</td>\n",
       "    </tr>\n",
       "    <tr>\n",
       "      <th>133</th>\n",
       "      <td>7.01</td>\n",
       "      <td>1.0</td>\n",
       "      <td>-67.90</td>\n",
       "      <td>2432.0</td>\n",
       "      <td>230.0</td>\n",
       "      <td>10.573913</td>\n",
       "    </tr>\n",
       "  </tbody>\n",
       "</table>\n",
       "</div>"
      ],
      "text/plain": [
       "     Max Drawdown  Followers     Gain  Number of Closed Trades  \\\n",
       "2           24.99      300.0  1169.72                   4096.0   \n",
       "22          19.20        0.0   145.43                   5147.0   \n",
       "23          20.37       87.0   136.75                   5671.0   \n",
       "24          29.51        2.0   167.57                   4011.0   \n",
       "31          11.40        4.0   103.97                   7440.0   \n",
       "34          15.57        2.0    86.41                   3772.0   \n",
       "35          13.25       11.0    84.35                   3267.0   \n",
       "43           2.09        0.0    67.18                   2089.0   \n",
       "51           4.67        0.0    55.50                   2391.0   \n",
       "54           9.04        0.0    56.18                   3899.0   \n",
       "71           5.20        0.0    26.81                   2059.0   \n",
       "75          19.90        4.0    30.75                   3736.0   \n",
       "77           1.95        0.0    26.50                   2564.0   \n",
       "82          17.54        4.0    16.88                   2174.0   \n",
       "86           8.54        4.0    16.02                   5612.0   \n",
       "91          31.72        0.0    24.06                   3385.0   \n",
       "95           1.49        2.0     8.95                   3202.0   \n",
       "112         25.83        0.0    -7.57                   3103.0   \n",
       "125         14.05        0.0    18.62                   2578.0   \n",
       "133          7.01        1.0   -67.90                   2432.0   \n",
       "\n",
       "     Num days strategies  Average trade day  \n",
       "2                  247.0          16.582996  \n",
       "22                 184.0          27.972826  \n",
       "23                 237.0          23.928270  \n",
       "24                 249.0          16.108434  \n",
       "31                 308.0          24.155844  \n",
       "34                 184.0          20.500000  \n",
       "35                 220.0          14.850000  \n",
       "43                 194.0          10.768041  \n",
       "51                 196.0          12.198980  \n",
       "54                 343.0          11.367347  \n",
       "71                 182.0          11.313187  \n",
       "75                 194.0          19.257732  \n",
       "77                 225.0          11.395556  \n",
       "82                 201.0          10.815920  \n",
       "86                 212.0          26.471698  \n",
       "91                 190.0          17.815789  \n",
       "95                 233.0          13.742489  \n",
       "112                224.0          13.852679  \n",
       "125                201.0          12.825871  \n",
       "133                230.0          10.573913  "
      ]
     },
     "execution_count": 80,
     "metadata": {},
     "output_type": "execute_result"
    }
   ],
   "source": [
    "condition = df_selected[(df_selected['Average trade day'] >= 10)].index\n",
    "\n",
    "df_selected.loc[condition, ['Max Drawdown', 'Followers', 'Gain', 'Number of Closed Trades', 'Num days strategies', 'Average trade day']]"
   ]
  },
  {
   "cell_type": "markdown",
   "metadata": {},
   "source": [
    "It is interesting the strategy in the position 2. Even tough the trader shows an average of 16 trades per day, it shows a huge Gain and an acceptable Max Drawdown."
   ]
  },
  {
   "cell_type": "code",
   "execution_count": null,
   "metadata": {},
   "outputs": [],
   "source": []
  }
 ],
 "metadata": {
  "kernelspec": {
   "display_name": "base",
   "language": "python",
   "name": "python3"
  },
  "language_info": {
   "codemirror_mode": {
    "name": "ipython",
    "version": 3
   },
   "file_extension": ".py",
   "mimetype": "text/x-python",
   "name": "python",
   "nbconvert_exporter": "python",
   "pygments_lexer": "ipython3",
   "version": "3.9.7"
  }
 },
 "nbformat": 4,
 "nbformat_minor": 2
}
