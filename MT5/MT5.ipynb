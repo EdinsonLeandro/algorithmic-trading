{
 "cells": [
  {
   "cell_type": "markdown",
   "id": "45e6b035-362d-4d82-8644-4c9e53cfd489",
   "metadata": {},
   "source": [
    "# MetraTrader5"
   ]
  },
  {
   "cell_type": "markdown",
   "id": "5f6b60e3-bfd3-4d98-8dac-dc9443377162",
   "metadata": {},
   "source": [
    "If you have this error importing MetaTrader5 package:\n",
    "\n",
    "```python\n",
    "ImportError: numpy.core.multiarray failed to import\n",
    "```\n",
    "\n",
    "You have to upgrade numpy <code>pip install numpy --upgrade</code>. Run Anaconda Prompt as **Administrator** (for Windows)\n",
    "\n",
    "[MetaTrader5 documentation](https://www.mql5.com/en/docs/integration/python_metatrader5)\n",
    "\n",
    "\n",
    "**Jupyter themes**\n",
    "```python\n",
    "# List all the jupyter themes availables\n",
    "!jt -l\n",
    "\n",
    "# Restore to original theme\n",
    "!jt -r\n",
    "\n",
    "# Set specific theme\n",
    "!jt -t solarizedl\n",
    "```"
   ]
  },
  {
   "cell_type": "markdown",
   "id": "aec48a58",
   "metadata": {},
   "source": [
    "## Initialize"
   ]
  },
  {
   "cell_type": "code",
   "execution_count": 1,
   "id": "a9c59170-45b0-4608-ad7a-3197868453fb",
   "metadata": {},
   "outputs": [],
   "source": [
    "import MetaTrader5 as mt5\n",
    "import pandas as pd\n",
    "from datetime import datetime\n",
    "import pytz"
   ]
  },
  {
   "cell_type": "code",
   "execution_count": 2,
   "id": "7bff0403",
   "metadata": {},
   "outputs": [],
   "source": [
    "# https://towardsdatascience.com/8-commonly-used-pandas-display-options-you-should-know-a832365efa95\n",
    "pd.set_option('display.float_format', '{:.2f}'.format)"
   ]
  },
  {
   "cell_type": "code",
   "execution_count": 3,
   "id": "13fb810d-6889-412a-a585-7a8f055c82bb",
   "metadata": {},
   "outputs": [
    {
     "name": "stdout",
     "output_type": "stream",
     "text": [
      "MetaTrader5 package author:  MetaQuotes Ltd.\n",
      "MetaTrader5 package version:  5.0.37\n"
     ]
    }
   ],
   "source": [
    "# Show data MetaTrader5 package\n",
    "print(\"MetaTrader5 package author: \", mt5.__author__)\n",
    "print(\"MetaTrader5 package version: \", mt5.__version__)"
   ]
  },
  {
   "cell_type": "code",
   "execution_count": 4,
   "id": "0cd7a6d6-66f0-4add-971e-99671e44f2cd",
   "metadata": {},
   "outputs": [],
   "source": [
    "# Establish connection to the MetaTrader 5 terminal\n",
    "if not mt5.initialize():\n",
    "    print(\"initialize() failed, error code =\", mt5.last_error())\n",
    "    quit()"
   ]
  },
  {
   "cell_type": "code",
   "execution_count": 5,
   "id": "77dad7a0-7c81-437e-8cd4-28e1ce9daf98",
   "metadata": {},
   "outputs": [
    {
     "name": "stdout",
     "output_type": "stream",
     "text": [
      "(500, 3280, '29 Apr 2022')\n"
     ]
    }
   ],
   "source": [
    "# Display data on MetaTrader 5 version\n",
    "print(mt5.version())"
   ]
  },
  {
   "cell_type": "markdown",
   "id": "c1929f63",
   "metadata": {},
   "source": [
    "## Info"
   ]
  },
  {
   "cell_type": "markdown",
   "id": "d0beb563",
   "metadata": {},
   "source": [
    "### Account"
   ]
  },
  {
   "cell_type": "code",
   "execution_count": 6,
   "id": "c4be01c9-72a5-4804-8301-8464019786a2",
   "metadata": {},
   "outputs": [],
   "source": [
    "# Connect to the trade account specifying a password and a server. Timeout= 30 seconds\n",
    "mt5_log = {'user': 48106721, 'password': \"AVtb*USu\", 'server': \"HFMarketsGlobal-Demo\", 'timeout': 30000}\n",
    "\n",
    "# Log in\n",
    "authorized = mt5.login(mt5_log['user'], password=mt5_log['password'], server=mt5_log['server'], timeout=mt5_log['timeout']) \n",
    "\n",
    "if authorized:\n",
    "    # Get trading account data\n",
    "    account_info_dict = mt5.account_info()._asdict()\n",
    "    \n",
    "    # Convert to DataFrame\n",
    "    account_info = pd.DataFrame(list(account_info_dict.items()), columns=['Property','Value'])\n",
    "\n",
    "    # Set \"Property\" column as index\n",
    "    account_info.set_index('Property', inplace=True)\n",
    "else:\n",
    "    print(\"failed to connect at account #{}, error code: {}\".format(mt5_log['user'], mt5.last_error()))"
   ]
  },
  {
   "cell_type": "code",
   "execution_count": 7,
   "id": "eedcb942",
   "metadata": {},
   "outputs": [
    {
     "data": {
      "text/plain": [
       "48106721"
      ]
     },
     "execution_count": 7,
     "metadata": {},
     "output_type": "execute_result"
    }
   ],
   "source": [
    "mt5_log['user']"
   ]
  },
  {
   "cell_type": "code",
   "execution_count": 8,
   "id": "7a6059a9",
   "metadata": {},
   "outputs": [
    {
     "data": {
      "text/plain": [
       "Index(['login', 'trade_mode', 'leverage', 'limit_orders', 'margin_so_mode',\n",
       "       'trade_allowed', 'trade_expert', 'margin_mode', 'currency_digits',\n",
       "       'fifo_close', 'balance', 'credit', 'profit', 'equity', 'margin',\n",
       "       'margin_free', 'margin_level', 'margin_so_call', 'margin_so_so',\n",
       "       'margin_initial', 'margin_maintenance', 'assets', 'liabilities',\n",
       "       'commission_blocked', 'name', 'server', 'currency', 'company'],\n",
       "      dtype='object', name='Property')"
      ]
     },
     "execution_count": 8,
     "metadata": {},
     "output_type": "execute_result"
    }
   ],
   "source": [
    "account_info.index"
   ]
  },
  {
   "cell_type": "code",
   "execution_count": 9,
   "id": "6c91a332",
   "metadata": {},
   "outputs": [
    {
     "data": {
      "text/plain": [
       "(100112.99, 83488.4)"
      ]
     },
     "execution_count": 9,
     "metadata": {},
     "output_type": "execute_result"
    }
   ],
   "source": [
    "account_info.loc['balance', 'Value'], account_info.loc['equity', 'Value']"
   ]
  },
  {
   "cell_type": "code",
   "execution_count": 10,
   "id": "bf8f5403",
   "metadata": {},
   "outputs": [
    {
     "data": {
      "text/plain": [
       "(500, 3523.6, 79964.8)"
      ]
     },
     "execution_count": 10,
     "metadata": {},
     "output_type": "execute_result"
    }
   ],
   "source": [
    "account_info.loc['leverage', 'Value'], account_info.loc['margin', 'Value'], account_info.loc['margin_free', 'Value']"
   ]
  },
  {
   "cell_type": "markdown",
   "id": "9f6202f2",
   "metadata": {},
   "source": [
    "### Terminal"
   ]
  },
  {
   "cell_type": "code",
   "execution_count": 11,
   "id": "455ced9c",
   "metadata": {},
   "outputs": [],
   "source": [
    "# Get terminal settings and status\n",
    "terminal_info_raw = mt5.terminal_info()\n",
    "\n",
    "if terminal_info_raw != None:\n",
    "    # Convert to dictionary\n",
    "    terminal_info_dict = mt5.terminal_info()._asdict()\n",
    "\n",
    "   # Convert the dictionary into DataFrame\n",
    "    terminal_info=pd.DataFrame(list(terminal_info_dict.items()), columns=['Property', 'Value'])\n",
    "\n",
    "    # Set \"Property\" column as index\n",
    "    terminal_info.set_index('Property', inplace=True)"
   ]
  },
  {
   "cell_type": "code",
   "execution_count": 12,
   "id": "29fb3443",
   "metadata": {},
   "outputs": [
    {
     "data": {
      "text/plain": [
       "Index(['community_account', 'community_connection', 'connected',\n",
       "       'dlls_allowed', 'trade_allowed', 'tradeapi_disabled', 'email_enabled',\n",
       "       'ftp_enabled', 'notifications_enabled', 'mqid', 'build', 'maxbars',\n",
       "       'codepage', 'ping_last', 'community_balance', 'retransmission',\n",
       "       'company', 'name', 'language', 'path', 'data_path', 'commondata_path'],\n",
       "      dtype='object', name='Property')"
      ]
     },
     "execution_count": 12,
     "metadata": {},
     "output_type": "execute_result"
    }
   ],
   "source": [
    "terminal_info.index"
   ]
  },
  {
   "cell_type": "code",
   "execution_count": 13,
   "id": "8b39448c",
   "metadata": {},
   "outputs": [
    {
     "data": {
      "text/plain": [
       "True"
      ]
     },
     "execution_count": 13,
     "metadata": {},
     "output_type": "execute_result"
    }
   ],
   "source": [
    "terminal_info.loc['connected', 'Value']"
   ]
  },
  {
   "cell_type": "markdown",
   "id": "2ec0e5c0",
   "metadata": {},
   "source": [
    "### Symbols"
   ]
  },
  {
   "cell_type": "markdown",
   "id": "494ccdd2",
   "metadata": {},
   "source": [
    "#### Number of symbols"
   ]
  },
  {
   "cell_type": "code",
   "execution_count": 14,
   "id": "05fb4aef",
   "metadata": {},
   "outputs": [
    {
     "name": "stdout",
     "output_type": "stream",
     "text": [
      "Total symbols = 1050\n"
     ]
    }
   ],
   "source": [
    "# get the number of financial instruments\n",
    "total_symbols = mt5.symbols_total()\n",
    "\n",
    "print(\"Total symbols =\", total_symbols) if total_symbols > 0 else print(\"Symbols not found\")"
   ]
  },
  {
   "cell_type": "markdown",
   "id": "866a095a",
   "metadata": {},
   "source": [
    "#### Symbols names"
   ]
  },
  {
   "cell_type": "code",
   "execution_count": 15,
   "id": "edd12266",
   "metadata": {},
   "outputs": [
    {
     "name": "stdout",
     "output_type": "stream",
     "text": [
      "Symbols:  1050\n",
      "1. EURUSD\n",
      "2. GBPUSD\n",
      "3. USDCHF\n",
      "4. USDJPY\n",
      "5. USDCAD\n"
     ]
    }
   ],
   "source": [
    "# Get all symbols\n",
    "symbols = mt5.symbols_get()\n",
    "\n",
    "print('Symbols: ', len(symbols))\n",
    "\n",
    "# Display the first symbols\n",
    "count=1\n",
    "\n",
    "for item in range(5):\n",
    "    print(\"{}. {}\".format(item+1, symbols[item].name))"
   ]
  },
  {
   "cell_type": "code",
   "execution_count": 16,
   "id": "abb2fdca",
   "metadata": {},
   "outputs": [
    {
     "name": "stdout",
     "output_type": "stream",
     "text": [
      "Lenght \"00\" symbols:  7\n",
      "UK100.F\n",
      "US100.F\n",
      "US500.F\n",
      "AUS200\n",
      "UK100\n",
      "USA500\n",
      "USA100\n"
     ]
    }
   ],
   "source": [
    "# Get symbols containing \"00\" in their names\n",
    "zero_symbols = mt5.symbols_get(group=\"*00*\")\n",
    "print('Lenght \"00\" symbols: ', len(zero_symbols))\n",
    "\n",
    "for item in zero_symbols:\n",
    "    print(item.name)"
   ]
  },
  {
   "cell_type": "code",
   "execution_count": 17,
   "id": "f4c5eba1",
   "metadata": {},
   "outputs": [
    {
     "name": "stdout",
     "output_type": "stream",
     "text": [
      "Lenght .F symbols:  14\n",
      "EU50.F\n",
      "FRA40.F\n",
      "JP225.F\n",
      "N25.F\n",
      "SUI20.F\n",
      "UK100.F\n",
      "US100.F\n",
      "US30.F\n",
      "US500.F\n",
      "EUBUND.F\n",
      "UKGILT.F\n",
      "US10YR.F\n",
      "VIX.F\n",
      "GER40.F\n"
     ]
    }
   ],
   "source": [
    "# Get symbols containing \"00\" in their names\n",
    "f_symbols = mt5.symbols_get(group=\"*.F*\")\n",
    "print('Lenght .F symbols: ', len(f_symbols))\n",
    "\n",
    "for item in f_symbols:\n",
    "    print(item.name)"
   ]
  },
  {
   "cell_type": "markdown",
   "id": "a0e754be",
   "metadata": {},
   "source": [
    "#### Symbols info"
   ]
  },
  {
   "cell_type": "code",
   "execution_count": 18,
   "id": "aa58ed2c",
   "metadata": {},
   "outputs": [],
   "source": [
    "# Display of the USA500 symbol in MarketWatch\n",
    "selected = mt5.symbol_select(\"USA500\", True)\n",
    "\n",
    "if not selected:\n",
    "    print(\"Failed to select USA500\")\n",
    "    mt5.shutdown()\n",
    "    quit()"
   ]
  },
  {
   "cell_type": "code",
   "execution_count": 19,
   "id": "dd83f7c5",
   "metadata": {},
   "outputs": [
    {
     "name": "stdout",
     "output_type": "stream",
     "text": [
      "USA500: spread = 34   digits = 2\n"
     ]
    }
   ],
   "source": [
    "# Get data on the specified financial instrument.\n",
    "# USA500 symbol properties\n",
    "symbol_info = mt5.symbol_info(\"USA500\")\n",
    "\n",
    "if symbol_info != None:\n",
    "    print(\"USA500: spread =\", symbol_info.spread, \"  digits =\", symbol_info.digits)\n",
    "    \n",
    "    # Symbol properties as a dataframe\n",
    "    symbol_info_dict = mt5.symbol_info(\"USA500\")._asdict()\n",
    "    df_symbol = pd.DataFrame(list(symbol_info_dict.items()), columns=['Property','Value'])\n",
    "\n",
    "    # Set \"Property\" column as index\n",
    "    df_symbol.set_index('Property', inplace=True)"
   ]
  },
  {
   "cell_type": "code",
   "execution_count": 20,
   "id": "5aa0c84a",
   "metadata": {},
   "outputs": [
    {
     "data": {
      "text/plain": [
       "SymbolInfo(custom=False, chart_mode=0, select=True, visible=True, session_deals=0, session_buy_orders=0, session_sell_orders=0, volume=0, volumehigh=0, volumelow=0, time=1651881536, digits=2, spread=34, spread_float=True, ticks_bookdepth=0, trade_calc_mode=2, trade_mode=4, start_time=0, expiration_time=0, trade_stops_level=20, trade_freeze_level=0, trade_exemode=2, swap_mode=3, swap_rollover3days=5, margin_hedged_use_leg=False, expiration_mode=15, filling_mode=1, order_mode=127, order_gtc_mode=0, option_mode=0, option_right=0, bid=4118.81, bidhigh=4159.2, bidlow=4068.7, ask=4119.15, askhigh=4159.52, asklow=4069.02, last=0.0, lasthigh=0.0, lastlow=0.0, volume_real=0.0, volumehigh_real=0.0, volumelow_real=0.0, option_strike=0.0, point=0.01, trade_tick_value=0.1, trade_tick_value_profit=0.1, trade_tick_value_loss=0.1, trade_tick_size=0.01, trade_contract_size=1.0, trade_accrued_interest=0.0, trade_face_value=0.0, trade_liquidity_rate=0.0, volume_min=0.1, volume_max=60.0, volume_step=0.01, volume_limit=300.0, swap_long=-0.85, swap_short=-0.5, margin_initial=0.0, margin_maintenance=0.0, session_volume=0.0, session_turnover=0.0, session_interest=0.0, session_buy_orders_volume=0.0, session_sell_orders_volume=0.0, session_open=4152.61, session_close=4156.38, session_aw=0.0, session_price_settlement=0.0, session_price_limit_min=0.0, session_price_limit_max=0.0, margin_hedged=1.0, price_change=-0.9039, price_volatility=0.0, price_theoretical=0.0, price_greeks_delta=0.0, price_greeks_theta=0.0, price_greeks_gamma=0.0, price_greeks_vega=0.0, price_greeks_rho=0.0, price_greeks_omega=0.0, price_sensitivity=0.0, basis='', category='', currency_base='USD', currency_profit='USD', currency_margin='USD', bank='', description='S&P 500 / Mini CFD', exchange='', formula='', isin='', name='USA500', page='', path='Indices\\\\Spot\\\\USA500')"
      ]
     },
     "execution_count": 20,
     "metadata": {},
     "output_type": "execute_result"
    }
   ],
   "source": [
    "symbol_info"
   ]
  },
  {
   "cell_type": "code",
   "execution_count": 21,
   "id": "60798c0f",
   "metadata": {},
   "outputs": [
    {
     "data": {
      "text/plain": [
       "Index(['custom', 'chart_mode', 'select', 'visible', 'session_deals',\n",
       "       'session_buy_orders', 'session_sell_orders', 'volume', 'volumehigh',\n",
       "       'volumelow', 'time', 'digits', 'spread', 'spread_float',\n",
       "       'ticks_bookdepth', 'trade_calc_mode', 'trade_mode', 'start_time',\n",
       "       'expiration_time', 'trade_stops_level', 'trade_freeze_level',\n",
       "       'trade_exemode', 'swap_mode', 'swap_rollover3days',\n",
       "       'margin_hedged_use_leg', 'expiration_mode', 'filling_mode',\n",
       "       'order_mode', 'order_gtc_mode', 'option_mode', 'option_right', 'bid',\n",
       "       'bidhigh', 'bidlow', 'ask', 'askhigh', 'asklow', 'last', 'lasthigh',\n",
       "       'lastlow', 'volume_real', 'volumehigh_real', 'volumelow_real',\n",
       "       'option_strike', 'point', 'trade_tick_value', 'trade_tick_value_profit',\n",
       "       'trade_tick_value_loss', 'trade_tick_size', 'trade_contract_size',\n",
       "       'trade_accrued_interest', 'trade_face_value', 'trade_liquidity_rate',\n",
       "       'volume_min', 'volume_max', 'volume_step', 'volume_limit', 'swap_long',\n",
       "       'swap_short', 'margin_initial', 'margin_maintenance', 'session_volume',\n",
       "       'session_turnover', 'session_interest', 'session_buy_orders_volume',\n",
       "       'session_sell_orders_volume', 'session_open', 'session_close',\n",
       "       'session_aw', 'session_price_settlement', 'session_price_limit_min',\n",
       "       'session_price_limit_max', 'margin_hedged', 'price_change',\n",
       "       'price_volatility', 'price_theoretical', 'price_greeks_delta',\n",
       "       'price_greeks_theta', 'price_greeks_gamma', 'price_greeks_vega',\n",
       "       'price_greeks_rho', 'price_greeks_omega', 'price_sensitivity', 'basis',\n",
       "       'category', 'currency_base', 'currency_profit', 'currency_margin',\n",
       "       'bank', 'description', 'exchange', 'formula', 'isin', 'name', 'page',\n",
       "       'path'],\n",
       "      dtype='object', name='Property')"
      ]
     },
     "execution_count": 21,
     "metadata": {},
     "output_type": "execute_result"
    }
   ],
   "source": [
    "df_symbol.index"
   ]
  },
  {
   "cell_type": "code",
   "execution_count": 22,
   "id": "1134aad7",
   "metadata": {},
   "outputs": [
    {
     "data": {
      "text/plain": [
       "'S&P 500 / Mini CFD'"
      ]
     },
     "execution_count": 22,
     "metadata": {},
     "output_type": "execute_result"
    }
   ],
   "source": [
    "df_symbol.loc['description', 'Value']"
   ]
  },
  {
   "cell_type": "code",
   "execution_count": 23,
   "id": "cddd8d9f",
   "metadata": {},
   "outputs": [
    {
     "data": {
      "text/plain": [
       "1651881536"
      ]
     },
     "execution_count": 23,
     "metadata": {},
     "output_type": "execute_result"
    }
   ],
   "source": [
    "df_symbol.loc['time', 'Value']"
   ]
  },
  {
   "cell_type": "code",
   "execution_count": 24,
   "id": "c2968250",
   "metadata": {},
   "outputs": [
    {
     "data": {
      "text/plain": [
       "(4118.81, 4119.15, 0.0)"
      ]
     },
     "execution_count": 24,
     "metadata": {},
     "output_type": "execute_result"
    }
   ],
   "source": [
    "df_symbol.loc['bid', 'Value'], df_symbol.loc['ask', 'Value'], df_symbol.loc['last', 'Value']"
   ]
  },
  {
   "cell_type": "markdown",
   "id": "e9c0b9e7",
   "metadata": {},
   "source": [
    "#### Symbols info tick"
   ]
  },
  {
   "cell_type": "code",
   "execution_count": 25,
   "id": "67b66507",
   "metadata": {},
   "outputs": [],
   "source": [
    "# Get last tick of the specified financial instrument\n",
    "\n",
    "# US500.F\n",
    "last_tick_500 = mt5.symbol_info_tick(\"US500.F\")\n",
    "\n",
    "# Tick field values in the form of a list\n",
    "symbol_info_tick_dict = mt5.symbol_info_tick(\"US500.F\")._asdict()\n",
    "\n",
    "df_symbol_info_tick = pd.DataFrame(list(symbol_info_tick_dict.items()), columns=['Property','Value'])\n",
    "\n",
    "# Set \"Property\" column as index\n",
    "df_symbol_info_tick.set_index('Property', inplace=True)"
   ]
  },
  {
   "cell_type": "code",
   "execution_count": 26,
   "id": "b64a1dbf",
   "metadata": {},
   "outputs": [
    {
     "data": {
      "text/html": [
       "<div>\n",
       "<style scoped>\n",
       "    .dataframe tbody tr th:only-of-type {\n",
       "        vertical-align: middle;\n",
       "    }\n",
       "\n",
       "    .dataframe tbody tr th {\n",
       "        vertical-align: top;\n",
       "    }\n",
       "\n",
       "    .dataframe thead th {\n",
       "        text-align: right;\n",
       "    }\n",
       "</style>\n",
       "<table border=\"1\" class=\"dataframe\">\n",
       "  <thead>\n",
       "    <tr style=\"text-align: right;\">\n",
       "      <th></th>\n",
       "      <th>Value</th>\n",
       "    </tr>\n",
       "    <tr>\n",
       "      <th>Property</th>\n",
       "      <th></th>\n",
       "    </tr>\n",
       "  </thead>\n",
       "  <tbody>\n",
       "    <tr>\n",
       "      <th>time</th>\n",
       "      <td>1651881539.00</td>\n",
       "    </tr>\n",
       "    <tr>\n",
       "      <th>bid</th>\n",
       "      <td>4112.44</td>\n",
       "    </tr>\n",
       "    <tr>\n",
       "      <th>ask</th>\n",
       "      <td>4113.27</td>\n",
       "    </tr>\n",
       "    <tr>\n",
       "      <th>last</th>\n",
       "      <td>0.00</td>\n",
       "    </tr>\n",
       "    <tr>\n",
       "      <th>volume</th>\n",
       "      <td>0.00</td>\n",
       "    </tr>\n",
       "    <tr>\n",
       "      <th>time_msc</th>\n",
       "      <td>1651881539737.00</td>\n",
       "    </tr>\n",
       "    <tr>\n",
       "      <th>flags</th>\n",
       "      <td>6.00</td>\n",
       "    </tr>\n",
       "    <tr>\n",
       "      <th>volume_real</th>\n",
       "      <td>0.00</td>\n",
       "    </tr>\n",
       "  </tbody>\n",
       "</table>\n",
       "</div>"
      ],
      "text/plain": [
       "                       Value\n",
       "Property                    \n",
       "time           1651881539.00\n",
       "bid                  4112.44\n",
       "ask                  4113.27\n",
       "last                    0.00\n",
       "volume                  0.00\n",
       "time_msc    1651881539737.00\n",
       "flags                   6.00\n",
       "volume_real             0.00"
      ]
     },
     "execution_count": 26,
     "metadata": {},
     "output_type": "execute_result"
    }
   ],
   "source": [
    "df_symbol_info_tick"
   ]
  },
  {
   "cell_type": "code",
   "execution_count": 27,
   "id": "8b2a6371-6e7f-4815-aedb-464e58812f5b",
   "metadata": {},
   "outputs": [],
   "source": [
    "# # Initialize MT5\n",
    "\n",
    "# if not mt5.initialize(login=48106721, server=\"HFMarketsGlobal-Demo\", password=\"AVtb*USu\", timeout=30000):\n",
    "#     # Timeout= 30 seconds (30000 miliseconds)\n",
    "#     print(\"initialize() failed, error code =\",mt5.last_error())\n",
    "#     quit()\n",
    "    \n",
    "# mt5.terminal_info()    "
   ]
  },
  {
   "cell_type": "code",
   "execution_count": 28,
   "id": "e730cc67-75ef-4104-944d-13ac7ac92e6d",
   "metadata": {},
   "outputs": [],
   "source": [
    "# # finalizamos la conexión con el terminal MetaTrader 5\n",
    "# mt5.shutdown()"
   ]
  },
  {
   "cell_type": "markdown",
   "id": "bdfc6d6d-b302-4a96-900a-f5d31a41b438",
   "metadata": {},
   "source": [
    "## Get data"
   ]
  },
  {
   "cell_type": "markdown",
   "id": "83b58bc1",
   "metadata": {},
   "source": [
    "<b>Market hours (RTH):</b>\n",
    "- 9:30 - 16:00 ET\n",
    "- 13:30 - 20:00 UTC\n",
    "\n",
    "\n",
    "<b>Set datetime in <code>copy_rates()</code> functions:</b>\n",
    "- Local time: 12:30 to 18:30.\n",
    "- UTC: 16:30 to 22:30.\n",
    "- ET: 11:30 to 18:00."
   ]
  },
  {
   "cell_type": "markdown",
   "id": "0514b75d",
   "metadata": {},
   "source": [
    "Get bars starting from the specified date backwards."
   ]
  },
  {
   "cell_type": "code",
   "execution_count": 29,
   "id": "fc15fedc",
   "metadata": {},
   "outputs": [],
   "source": [
    "# Set time zone\n",
    "timezone_utc = pytz.timezone(\"Etc/UTC\")\n",
    "timezone_et = pytz.timezone(\"US/Eastern\")\n",
    "\n",
    "# Create 'datetime' object \n",
    "# Returns in UTC time zone to avoid the implementation of a local time zone offset\n",
    "# utc_time = datetime(2022, 4, 29, 19, 00, 0, tzinfo=timezone_utc)\n",
    "\n",
    "# Returns local time server data\n",
    "from_date = datetime(2022, 4, 29, 18, 00, 0, tzinfo=timezone_utc)\n",
    "\n",
    "# Get 10 USA500 30 mins bars starting from 04.29.2020 18:00 in UTC time zone. Roll back\n",
    "rates = mt5.copy_rates_from(\"US500.F\", mt5.TIMEFRAME_M30, from_date, 5)\n",
    "\n",
    "data_df = pd.DataFrame(rates)\n",
    "\n",
    "# convert time in seconds into the datetime format\n",
    "data_df['time'] = pd.to_datetime(data_df['time'], unit='s')"
   ]
  },
  {
   "cell_type": "code",
   "execution_count": 30,
   "id": "b5adecb7",
   "metadata": {},
   "outputs": [
    {
     "data": {
      "text/html": [
       "<div>\n",
       "<style scoped>\n",
       "    .dataframe tbody tr th:only-of-type {\n",
       "        vertical-align: middle;\n",
       "    }\n",
       "\n",
       "    .dataframe tbody tr th {\n",
       "        vertical-align: top;\n",
       "    }\n",
       "\n",
       "    .dataframe thead th {\n",
       "        text-align: right;\n",
       "    }\n",
       "</style>\n",
       "<table border=\"1\" class=\"dataframe\">\n",
       "  <thead>\n",
       "    <tr style=\"text-align: right;\">\n",
       "      <th></th>\n",
       "      <th>time</th>\n",
       "      <th>open</th>\n",
       "      <th>high</th>\n",
       "      <th>low</th>\n",
       "      <th>close</th>\n",
       "      <th>tick_volume</th>\n",
       "      <th>spread</th>\n",
       "      <th>real_volume</th>\n",
       "    </tr>\n",
       "  </thead>\n",
       "  <tbody>\n",
       "    <tr>\n",
       "      <th>0</th>\n",
       "      <td>2022-04-29 16:00:00</td>\n",
       "      <td>4240.94</td>\n",
       "      <td>4243.70</td>\n",
       "      <td>4229.70</td>\n",
       "      <td>4242.07</td>\n",
       "      <td>2193</td>\n",
       "      <td>83</td>\n",
       "      <td>0</td>\n",
       "    </tr>\n",
       "    <tr>\n",
       "      <th>1</th>\n",
       "      <td>2022-04-29 16:30:00</td>\n",
       "      <td>4242.94</td>\n",
       "      <td>4264.94</td>\n",
       "      <td>4231.94</td>\n",
       "      <td>4263.20</td>\n",
       "      <td>7632</td>\n",
       "      <td>83</td>\n",
       "      <td>0</td>\n",
       "    </tr>\n",
       "    <tr>\n",
       "      <th>2</th>\n",
       "      <td>2022-04-29 17:00:00</td>\n",
       "      <td>4263.32</td>\n",
       "      <td>4264.70</td>\n",
       "      <td>4215.94</td>\n",
       "      <td>4217.70</td>\n",
       "      <td>6360</td>\n",
       "      <td>83</td>\n",
       "      <td>0</td>\n",
       "    </tr>\n",
       "    <tr>\n",
       "      <th>3</th>\n",
       "      <td>2022-04-29 17:30:00</td>\n",
       "      <td>4217.94</td>\n",
       "      <td>4220.20</td>\n",
       "      <td>4205.70</td>\n",
       "      <td>4213.70</td>\n",
       "      <td>4367</td>\n",
       "      <td>83</td>\n",
       "      <td>0</td>\n",
       "    </tr>\n",
       "    <tr>\n",
       "      <th>4</th>\n",
       "      <td>2022-04-29 18:00:00</td>\n",
       "      <td>4212.94</td>\n",
       "      <td>4218.20</td>\n",
       "      <td>4202.44</td>\n",
       "      <td>4215.44</td>\n",
       "      <td>4516</td>\n",
       "      <td>83</td>\n",
       "      <td>0</td>\n",
       "    </tr>\n",
       "  </tbody>\n",
       "</table>\n",
       "</div>"
      ],
      "text/plain": [
       "                 time    open    high     low   close  tick_volume  spread  \\\n",
       "0 2022-04-29 16:00:00 4240.94 4243.70 4229.70 4242.07         2193      83   \n",
       "1 2022-04-29 16:30:00 4242.94 4264.94 4231.94 4263.20         7632      83   \n",
       "2 2022-04-29 17:00:00 4263.32 4264.70 4215.94 4217.70         6360      83   \n",
       "3 2022-04-29 17:30:00 4217.94 4220.20 4205.70 4213.70         4367      83   \n",
       "4 2022-04-29 18:00:00 4212.94 4218.20 4202.44 4215.44         4516      83   \n",
       "\n",
       "   real_volume  \n",
       "0            0  \n",
       "1            0  \n",
       "2            0  \n",
       "3            0  \n",
       "4            0  "
      ]
     },
     "execution_count": 30,
     "metadata": {},
     "output_type": "execute_result"
    }
   ],
   "source": [
    "data_df"
   ]
  },
  {
   "cell_type": "markdown",
   "id": "0dee9c93",
   "metadata": {},
   "source": [
    "Get bars starting from the specified index backwards."
   ]
  },
  {
   "cell_type": "code",
   "execution_count": 31,
   "id": "c0ce115a",
   "metadata": {},
   "outputs": [],
   "source": [
    "# Get the last 10 US500.F bars from the current date\n",
    "# copy_rates_from_pos(symbol, timeframe, start_pos, count)\n",
    "rates = mt5.copy_rates_from_pos(\"US500.F\", mt5.TIMEFRAME_M30, 0, 10)\n",
    "\n",
    "data_df = pd.DataFrame(rates)\n",
    "\n",
    "# convert time in seconds into the datetime format\n",
    "data_df['time'] = pd.to_datetime(data_df['time'], unit='s')"
   ]
  },
  {
   "cell_type": "code",
   "execution_count": 32,
   "id": "f523012c",
   "metadata": {},
   "outputs": [
    {
     "data": {
      "text/html": [
       "<div>\n",
       "<style scoped>\n",
       "    .dataframe tbody tr th:only-of-type {\n",
       "        vertical-align: middle;\n",
       "    }\n",
       "\n",
       "    .dataframe tbody tr th {\n",
       "        vertical-align: top;\n",
       "    }\n",
       "\n",
       "    .dataframe thead th {\n",
       "        text-align: right;\n",
       "    }\n",
       "</style>\n",
       "<table border=\"1\" class=\"dataframe\">\n",
       "  <thead>\n",
       "    <tr style=\"text-align: right;\">\n",
       "      <th></th>\n",
       "      <th>time</th>\n",
       "      <th>open</th>\n",
       "      <th>high</th>\n",
       "      <th>low</th>\n",
       "      <th>close</th>\n",
       "      <th>tick_volume</th>\n",
       "      <th>spread</th>\n",
       "      <th>real_volume</th>\n",
       "    </tr>\n",
       "  </thead>\n",
       "  <tbody>\n",
       "    <tr>\n",
       "      <th>0</th>\n",
       "      <td>2022-05-06 19:00:00</td>\n",
       "      <td>4103.20</td>\n",
       "      <td>4135.44</td>\n",
       "      <td>4099.70</td>\n",
       "      <td>4123.20</td>\n",
       "      <td>7579</td>\n",
       "      <td>83</td>\n",
       "      <td>0</td>\n",
       "    </tr>\n",
       "    <tr>\n",
       "      <th>1</th>\n",
       "      <td>2022-05-06 19:30:00</td>\n",
       "      <td>4122.70</td>\n",
       "      <td>4143.94</td>\n",
       "      <td>4112.94</td>\n",
       "      <td>4142.44</td>\n",
       "      <td>8137</td>\n",
       "      <td>83</td>\n",
       "      <td>0</td>\n",
       "    </tr>\n",
       "    <tr>\n",
       "      <th>2</th>\n",
       "      <td>2022-05-06 20:00:00</td>\n",
       "      <td>4143.20</td>\n",
       "      <td>4147.20</td>\n",
       "      <td>4114.44</td>\n",
       "      <td>4124.94</td>\n",
       "      <td>6811</td>\n",
       "      <td>83</td>\n",
       "      <td>0</td>\n",
       "    </tr>\n",
       "    <tr>\n",
       "      <th>3</th>\n",
       "      <td>2022-05-06 20:30:00</td>\n",
       "      <td>4125.20</td>\n",
       "      <td>4133.82</td>\n",
       "      <td>4102.20</td>\n",
       "      <td>4105.44</td>\n",
       "      <td>7640</td>\n",
       "      <td>83</td>\n",
       "      <td>0</td>\n",
       "    </tr>\n",
       "    <tr>\n",
       "      <th>4</th>\n",
       "      <td>2022-05-06 21:00:00</td>\n",
       "      <td>4105.70</td>\n",
       "      <td>4111.70</td>\n",
       "      <td>4087.57</td>\n",
       "      <td>4091.70</td>\n",
       "      <td>6479</td>\n",
       "      <td>83</td>\n",
       "      <td>0</td>\n",
       "    </tr>\n",
       "    <tr>\n",
       "      <th>5</th>\n",
       "      <td>2022-05-06 21:30:00</td>\n",
       "      <td>4091.44</td>\n",
       "      <td>4110.44</td>\n",
       "      <td>4082.44</td>\n",
       "      <td>4093.20</td>\n",
       "      <td>6777</td>\n",
       "      <td>83</td>\n",
       "      <td>0</td>\n",
       "    </tr>\n",
       "    <tr>\n",
       "      <th>6</th>\n",
       "      <td>2022-05-06 22:00:00</td>\n",
       "      <td>4093.44</td>\n",
       "      <td>4098.44</td>\n",
       "      <td>4077.94</td>\n",
       "      <td>4090.44</td>\n",
       "      <td>6418</td>\n",
       "      <td>83</td>\n",
       "      <td>0</td>\n",
       "    </tr>\n",
       "    <tr>\n",
       "      <th>7</th>\n",
       "      <td>2022-05-06 22:30:00</td>\n",
       "      <td>4090.20</td>\n",
       "      <td>4134.44</td>\n",
       "      <td>4089.94</td>\n",
       "      <td>4118.94</td>\n",
       "      <td>8060</td>\n",
       "      <td>83</td>\n",
       "      <td>0</td>\n",
       "    </tr>\n",
       "    <tr>\n",
       "      <th>8</th>\n",
       "      <td>2022-05-06 23:00:00</td>\n",
       "      <td>4119.70</td>\n",
       "      <td>4119.70</td>\n",
       "      <td>4102.70</td>\n",
       "      <td>4107.70</td>\n",
       "      <td>1960</td>\n",
       "      <td>83</td>\n",
       "      <td>0</td>\n",
       "    </tr>\n",
       "    <tr>\n",
       "      <th>9</th>\n",
       "      <td>2022-05-06 23:30:00</td>\n",
       "      <td>4107.57</td>\n",
       "      <td>4114.20</td>\n",
       "      <td>4106.32</td>\n",
       "      <td>4112.44</td>\n",
       "      <td>677</td>\n",
       "      <td>83</td>\n",
       "      <td>0</td>\n",
       "    </tr>\n",
       "  </tbody>\n",
       "</table>\n",
       "</div>"
      ],
      "text/plain": [
       "                 time    open    high     low   close  tick_volume  spread  \\\n",
       "0 2022-05-06 19:00:00 4103.20 4135.44 4099.70 4123.20         7579      83   \n",
       "1 2022-05-06 19:30:00 4122.70 4143.94 4112.94 4142.44         8137      83   \n",
       "2 2022-05-06 20:00:00 4143.20 4147.20 4114.44 4124.94         6811      83   \n",
       "3 2022-05-06 20:30:00 4125.20 4133.82 4102.20 4105.44         7640      83   \n",
       "4 2022-05-06 21:00:00 4105.70 4111.70 4087.57 4091.70         6479      83   \n",
       "5 2022-05-06 21:30:00 4091.44 4110.44 4082.44 4093.20         6777      83   \n",
       "6 2022-05-06 22:00:00 4093.44 4098.44 4077.94 4090.44         6418      83   \n",
       "7 2022-05-06 22:30:00 4090.20 4134.44 4089.94 4118.94         8060      83   \n",
       "8 2022-05-06 23:00:00 4119.70 4119.70 4102.70 4107.70         1960      83   \n",
       "9 2022-05-06 23:30:00 4107.57 4114.20 4106.32 4112.44          677      83   \n",
       "\n",
       "   real_volume  \n",
       "0            0  \n",
       "1            0  \n",
       "2            0  \n",
       "3            0  \n",
       "4            0  \n",
       "5            0  \n",
       "6            0  \n",
       "7            0  \n",
       "8            0  \n",
       "9            0  "
      ]
     },
     "execution_count": 32,
     "metadata": {},
     "output_type": "execute_result"
    }
   ],
   "source": [
    "data_df"
   ]
  },
  {
   "cell_type": "markdown",
   "id": "e52c21e9",
   "metadata": {},
   "source": [
    "Get bars in the specified date range."
   ]
  },
  {
   "cell_type": "code",
   "execution_count": 33,
   "id": "3b67ea32",
   "metadata": {},
   "outputs": [],
   "source": [
    "# Set time zone\n",
    "timezone_utc = pytz.timezone(\"Etc/UTC\")\n",
    "timezone_et = pytz.timezone(\"US/Eastern\")\n",
    "\n",
    "# create 'datetime' objects in UTC time zone to avoid the implementation of a local time zone offset\n",
    "from_date = datetime(2022, 4, 29, 11, 30, 0, tzinfo=timezone_et)\n",
    "to_date = datetime(2022, 4, 29, 18, 0, 0, tzinfo=timezone_et)\n",
    "\n",
    "# from_date = datetime(2022, 4, 29, 16, 30, 0, tzinfo=timezone_utc)\n",
    "# to_date = datetime(2022, 4, 29, 22, 30, 0, tzinfo=timezone_utc)\n",
    "\n",
    "# # Local time to get RTH data\n",
    "# from_date = datetime(2022, 4, 29, 12, 30, 0)\n",
    "# to_date = datetime(2022, 4, 29, 18, 30, 0)\n",
    "\n",
    "# Get bars from the specified dates\n",
    "rates = mt5.copy_rates_range(\"US500.F\", mt5.TIMEFRAME_M30, from_date, to_date)\n",
    "\n",
    "data_df = pd.DataFrame(rates)\n",
    "\n",
    "# convert time in seconds into the datetime format\n",
    "data_df['time'] = pd.to_datetime(data_df['time'], unit='s')"
   ]
  },
  {
   "cell_type": "code",
   "execution_count": 34,
   "id": "8615fdce",
   "metadata": {},
   "outputs": [
    {
     "data": {
      "text/html": [
       "<div>\n",
       "<style scoped>\n",
       "    .dataframe tbody tr th:only-of-type {\n",
       "        vertical-align: middle;\n",
       "    }\n",
       "\n",
       "    .dataframe tbody tr th {\n",
       "        vertical-align: top;\n",
       "    }\n",
       "\n",
       "    .dataframe thead th {\n",
       "        text-align: right;\n",
       "    }\n",
       "</style>\n",
       "<table border=\"1\" class=\"dataframe\">\n",
       "  <thead>\n",
       "    <tr style=\"text-align: right;\">\n",
       "      <th></th>\n",
       "      <th>time</th>\n",
       "      <th>open</th>\n",
       "      <th>high</th>\n",
       "      <th>low</th>\n",
       "      <th>close</th>\n",
       "      <th>tick_volume</th>\n",
       "      <th>spread</th>\n",
       "      <th>real_volume</th>\n",
       "    </tr>\n",
       "  </thead>\n",
       "  <tbody>\n",
       "    <tr>\n",
       "      <th>0</th>\n",
       "      <td>2022-04-29 16:30:00</td>\n",
       "      <td>4242.94</td>\n",
       "      <td>4264.94</td>\n",
       "      <td>4231.94</td>\n",
       "      <td>4263.20</td>\n",
       "      <td>7632</td>\n",
       "      <td>83</td>\n",
       "      <td>0</td>\n",
       "    </tr>\n",
       "    <tr>\n",
       "      <th>1</th>\n",
       "      <td>2022-04-29 17:00:00</td>\n",
       "      <td>4263.32</td>\n",
       "      <td>4264.70</td>\n",
       "      <td>4215.94</td>\n",
       "      <td>4217.70</td>\n",
       "      <td>6360</td>\n",
       "      <td>83</td>\n",
       "      <td>0</td>\n",
       "    </tr>\n",
       "    <tr>\n",
       "      <th>2</th>\n",
       "      <td>2022-04-29 17:30:00</td>\n",
       "      <td>4217.94</td>\n",
       "      <td>4220.20</td>\n",
       "      <td>4205.70</td>\n",
       "      <td>4213.70</td>\n",
       "      <td>4367</td>\n",
       "      <td>83</td>\n",
       "      <td>0</td>\n",
       "    </tr>\n",
       "    <tr>\n",
       "      <th>3</th>\n",
       "      <td>2022-04-29 18:00:00</td>\n",
       "      <td>4212.94</td>\n",
       "      <td>4218.20</td>\n",
       "      <td>4202.44</td>\n",
       "      <td>4215.44</td>\n",
       "      <td>4516</td>\n",
       "      <td>83</td>\n",
       "      <td>0</td>\n",
       "    </tr>\n",
       "    <tr>\n",
       "      <th>4</th>\n",
       "      <td>2022-04-29 18:30:00</td>\n",
       "      <td>4215.20</td>\n",
       "      <td>4227.44</td>\n",
       "      <td>4210.44</td>\n",
       "      <td>4210.94</td>\n",
       "      <td>4361</td>\n",
       "      <td>83</td>\n",
       "      <td>0</td>\n",
       "    </tr>\n",
       "    <tr>\n",
       "      <th>5</th>\n",
       "      <td>2022-04-29 19:00:00</td>\n",
       "      <td>4210.82</td>\n",
       "      <td>4211.94</td>\n",
       "      <td>4192.70</td>\n",
       "      <td>4194.44</td>\n",
       "      <td>2837</td>\n",
       "      <td>83</td>\n",
       "      <td>0</td>\n",
       "    </tr>\n",
       "    <tr>\n",
       "      <th>6</th>\n",
       "      <td>2022-04-29 19:30:00</td>\n",
       "      <td>4194.20</td>\n",
       "      <td>4195.94</td>\n",
       "      <td>4178.20</td>\n",
       "      <td>4182.94</td>\n",
       "      <td>2665</td>\n",
       "      <td>83</td>\n",
       "      <td>0</td>\n",
       "    </tr>\n",
       "    <tr>\n",
       "      <th>7</th>\n",
       "      <td>2022-04-29 20:00:00</td>\n",
       "      <td>4182.70</td>\n",
       "      <td>4200.70</td>\n",
       "      <td>4181.20</td>\n",
       "      <td>4192.70</td>\n",
       "      <td>3085</td>\n",
       "      <td>83</td>\n",
       "      <td>0</td>\n",
       "    </tr>\n",
       "    <tr>\n",
       "      <th>8</th>\n",
       "      <td>2022-04-29 20:30:00</td>\n",
       "      <td>4192.44</td>\n",
       "      <td>4203.94</td>\n",
       "      <td>4181.94</td>\n",
       "      <td>4182.70</td>\n",
       "      <td>2818</td>\n",
       "      <td>83</td>\n",
       "      <td>0</td>\n",
       "    </tr>\n",
       "    <tr>\n",
       "      <th>9</th>\n",
       "      <td>2022-04-29 21:00:00</td>\n",
       "      <td>4182.94</td>\n",
       "      <td>4186.70</td>\n",
       "      <td>4171.44</td>\n",
       "      <td>4173.20</td>\n",
       "      <td>3194</td>\n",
       "      <td>83</td>\n",
       "      <td>0</td>\n",
       "    </tr>\n",
       "    <tr>\n",
       "      <th>10</th>\n",
       "      <td>2022-04-29 21:30:00</td>\n",
       "      <td>4173.44</td>\n",
       "      <td>4176.44</td>\n",
       "      <td>4154.44</td>\n",
       "      <td>4162.70</td>\n",
       "      <td>2814</td>\n",
       "      <td>83</td>\n",
       "      <td>0</td>\n",
       "    </tr>\n",
       "    <tr>\n",
       "      <th>11</th>\n",
       "      <td>2022-04-29 22:00:00</td>\n",
       "      <td>4162.20</td>\n",
       "      <td>4163.70</td>\n",
       "      <td>4145.20</td>\n",
       "      <td>4146.94</td>\n",
       "      <td>3596</td>\n",
       "      <td>83</td>\n",
       "      <td>0</td>\n",
       "    </tr>\n",
       "    <tr>\n",
       "      <th>12</th>\n",
       "      <td>2022-04-29 22:30:00</td>\n",
       "      <td>4146.44</td>\n",
       "      <td>4157.94</td>\n",
       "      <td>4118.44</td>\n",
       "      <td>4126.94</td>\n",
       "      <td>5636</td>\n",
       "      <td>83</td>\n",
       "      <td>0</td>\n",
       "    </tr>\n",
       "  </tbody>\n",
       "</table>\n",
       "</div>"
      ],
      "text/plain": [
       "                  time    open    high     low   close  tick_volume  spread  \\\n",
       "0  2022-04-29 16:30:00 4242.94 4264.94 4231.94 4263.20         7632      83   \n",
       "1  2022-04-29 17:00:00 4263.32 4264.70 4215.94 4217.70         6360      83   \n",
       "2  2022-04-29 17:30:00 4217.94 4220.20 4205.70 4213.70         4367      83   \n",
       "3  2022-04-29 18:00:00 4212.94 4218.20 4202.44 4215.44         4516      83   \n",
       "4  2022-04-29 18:30:00 4215.20 4227.44 4210.44 4210.94         4361      83   \n",
       "5  2022-04-29 19:00:00 4210.82 4211.94 4192.70 4194.44         2837      83   \n",
       "6  2022-04-29 19:30:00 4194.20 4195.94 4178.20 4182.94         2665      83   \n",
       "7  2022-04-29 20:00:00 4182.70 4200.70 4181.20 4192.70         3085      83   \n",
       "8  2022-04-29 20:30:00 4192.44 4203.94 4181.94 4182.70         2818      83   \n",
       "9  2022-04-29 21:00:00 4182.94 4186.70 4171.44 4173.20         3194      83   \n",
       "10 2022-04-29 21:30:00 4173.44 4176.44 4154.44 4162.70         2814      83   \n",
       "11 2022-04-29 22:00:00 4162.20 4163.70 4145.20 4146.94         3596      83   \n",
       "12 2022-04-29 22:30:00 4146.44 4157.94 4118.44 4126.94         5636      83   \n",
       "\n",
       "    real_volume  \n",
       "0             0  \n",
       "1             0  \n",
       "2             0  \n",
       "3             0  \n",
       "4             0  \n",
       "5             0  \n",
       "6             0  \n",
       "7             0  \n",
       "8             0  \n",
       "9             0  \n",
       "10            0  \n",
       "11            0  \n",
       "12            0  "
      ]
     },
     "execution_count": 34,
     "metadata": {},
     "output_type": "execute_result"
    }
   ],
   "source": [
    "data_df"
   ]
  },
  {
   "cell_type": "markdown",
   "id": "9cb1410b",
   "metadata": {},
   "source": [
    "I am not going to test <b>Ticks</b> (data every second)"
   ]
  },
  {
   "cell_type": "markdown",
   "id": "7fe89b21",
   "metadata": {},
   "source": [
    "## Orders"
   ]
  },
  {
   "cell_type": "markdown",
   "id": "a59bd093",
   "metadata": {},
   "source": [
    "Get the number of active orders."
   ]
  },
  {
   "cell_type": "code",
   "execution_count": 35,
   "id": "c982b51f",
   "metadata": {},
   "outputs": [
    {
     "name": "stdout",
     "output_type": "stream",
     "text": [
      "Orders not found\n"
     ]
    }
   ],
   "source": [
    "# check the presence of active orders\n",
    "orders = mt5.orders_total()\n",
    "\n",
    "print(\"Total orders=\", orders) if orders > 0 else print(\"Orders not found\")"
   ]
  },
  {
   "cell_type": "markdown",
   "id": "09469d90",
   "metadata": {},
   "source": [
    "Get active orders with the ability to filter by symbol or ticket. The function <code>orders_get()</code> has the input \"ticket\" (nique number assigned to each order)"
   ]
  },
  {
   "cell_type": "code",
   "execution_count": 36,
   "id": "a312a5e8",
   "metadata": {},
   "outputs": [
    {
     "name": "stdout",
     "output_type": "stream",
     "text": [
      "Total orders on US500.F: 0\n"
     ]
    }
   ],
   "source": [
    "# Display data on active orders on US500.F\n",
    "orders = mt5.orders_get(symbol=\"US500.F\")\n",
    "\n",
    "if orders is None:\n",
    "    print(\"No orders on US500.F, error code={}\".format(mt5.last_error()))\n",
    "    \n",
    "else:\n",
    "    print(\"Total orders on US500.F:\", len(orders))\n",
    "    \n",
    "    # Display all active orders\n",
    "    for item in orders:\n",
    "        print(item)"
   ]
  },
  {
   "cell_type": "markdown",
   "id": "6c078182",
   "metadata": {},
   "source": [
    "Return margin in the account currency to perform a specified trading operation.\n",
    "\n",
    "The function allows estimating the margin necessary for a specified order type on the current account and in the current market environment without considering the current pending orders and open positions.\n",
    "\n",
    "A standard lot contains <b>100,000</b> units of the base currency. "
   ]
  },
  {
   "cell_type": "code",
   "execution_count": 37,
   "id": "30d78a8c",
   "metadata": {},
   "outputs": [
    {
     "name": "stdout",
     "output_type": "stream",
     "text": [
      "Account currency: USD\n",
      "Symbols to check margin: ('EURUSD', 'GBPUSD', 'USDJPY', 'USDCHF', 'EURJPY', 'GBPJPY', 'US500.F')\n"
     ]
    }
   ],
   "source": [
    "# Get account currency\n",
    "account_currency = mt5.account_info().currency\n",
    "print(\"Account currency:\",account_currency)\n",
    " \n",
    "# Arrange the symbol list\n",
    "symbols = (\"EURUSD\", \"GBPUSD\", \"USDJPY\", \"USDCHF\", \"EURJPY\", \"GBPJPY\", \"US500.F\")\n",
    "print(\"Symbols to check margin:\", symbols)"
   ]
  },
  {
   "cell_type": "code",
   "execution_count": 38,
   "id": "3d2f0bcd",
   "metadata": {},
   "outputs": [
    {
     "name": "stdout",
     "output_type": "stream",
     "text": [
      "EURUSD buy 0.1 lot. Margin: 21.1 USD. Ask price 1.05515\n",
      "GBPUSD buy 0.1 lot. Margin: 24.7 USD. Ask price 1.23498\n",
      "USDJPY is not visible, trying to switch on\n",
      "USDJPY buy 0.1 lot. Margin: 20.0 USD. Ask price 130.573\n",
      "USDCHF is not visible, trying to switch on\n",
      "USDCHF buy 0.1 lot. Margin: 20.0 USD. Ask price 0.98876\n",
      "EURJPY is not visible, trying to switch on\n",
      "order_calc_margin failed: , error code = (-2, 'Terminal: Invalid params')\n",
      "GBPJPY is not visible, trying to switch on\n",
      "order_calc_margin failed: , error code = (-2, 'Terminal: Invalid params')\n",
      "US500.F buy 0.1 lot. Margin: 2.06 USD. Ask price 4113.27\n"
     ]
    }
   ],
   "source": [
    "action = mt5.ORDER_TYPE_BUY\n",
    "lot = 0.1\n",
    "\n",
    "for symbol in symbols:\n",
    "\n",
    "    # Get symbol info\n",
    "    symbol_info = mt5.symbol_info(symbol)\n",
    "\n",
    "    if symbol_info is None:\n",
    "        print(symbol, \"not found, skipped\")\n",
    "        continue\n",
    "    \n",
    "    # Check if symbol is in MarketWatch\n",
    "    if not symbol_info.visible:\n",
    "        print(symbol, \"is not visible, trying to switch on\")\n",
    "\n",
    "        if not mt5.symbol_select(symbol, True):\n",
    "            print(\"symbol_select({}}) failed, skipped\",symbol)\n",
    "            continue\n",
    "    \n",
    "    # Ask price\n",
    "    ask = mt5.symbol_info_tick(symbol).ask\n",
    "\n",
    "    # Margin to perform a specified operation\n",
    "    margin = mt5.order_calc_margin(action, symbol, lot, ask)\n",
    "\n",
    "    if margin != None:\n",
    "        print(\"{} buy {} lot. Margin: {} {}. Ask price {}\".format(symbol, lot, margin, account_currency, ask))\n",
    "\n",
    "    else:\n",
    "        print(\"order_calc_margin failed: , error code =\", mt5.last_error())\n",
    " "
   ]
  },
  {
   "cell_type": "markdown",
   "id": "9e5674c6",
   "metadata": {},
   "source": [
    "Send new order"
   ]
  },
  {
   "cell_type": "code",
   "execution_count": 39,
   "id": "96ecd986",
   "metadata": {},
   "outputs": [],
   "source": [
    "# Prepare the order request structure\n",
    "symbol = \"US500.F\"\n",
    "symbol_info = mt5.symbol_info(symbol)\n",
    "if symbol_info is None:\n",
    "    print(symbol, \": Not found, can not call order_check()\")\n",
    "    mt5.shutdown()\n",
    "    quit()"
   ]
  },
  {
   "cell_type": "code",
   "execution_count": 40,
   "id": "146d982e",
   "metadata": {},
   "outputs": [],
   "source": [
    "# If the symbol is unavailable in MarketWatch, add it\n",
    "if not symbol_info.visible:\n",
    "    print(symbol, \": Is not visible, trying to switch on\")\n",
    "    \n",
    "    if not mt5.symbol_select(symbol,True):\n",
    "        print(\"symbol_select({}}) failed, exit\",symbol)\n",
    "        mt5.shutdown()\n",
    "        quit()"
   ]
  },
  {
   "cell_type": "code",
   "execution_count": 41,
   "id": "44c49b75",
   "metadata": {},
   "outputs": [],
   "source": [
    "lot = 10.0\n",
    "price = mt5.symbol_info_tick(symbol).ask\n",
    "deviation = 1000\n",
    "request = {\n",
    "    \"action\": mt5.TRADE_ACTION_DEAL,\n",
    "    \"symbol\": symbol,\n",
    "    \"volume\": lot,\n",
    "    \"type\": mt5.ORDER_TYPE_SELL,\n",
    "    \"price\": price,\n",
    "    \"deviation\": deviation,\n",
    "    \"magic\": 234000,\n",
    "    \"comment\": \"python script open\",\n",
    "    \"type_time\": mt5.ORDER_TIME_GTC,\n",
    "    \"type_filling\": mt5.ORDER_FILLING_FOK,\n",
    "}\n",
    " "
   ]
  },
  {
   "cell_type": "code",
   "execution_count": 42,
   "id": "210648e5",
   "metadata": {},
   "outputs": [],
   "source": [
    "# Send a trading request\n",
    "result = mt5.order_send(request)"
   ]
  },
  {
   "cell_type": "code",
   "execution_count": 43,
   "id": "9abbcc17",
   "metadata": {},
   "outputs": [
    {
     "data": {
      "text/plain": [
       "OrderSendResult(retcode=10027, deal=0, order=0, volume=0.0, price=0.0, bid=0.0, ask=0.0, comment='AutoTrading disabled by client', request_id=0, retcode_external=0, request=TradeRequest(action=1, magic=234000, order=0, symbol='US500.F', volume=10.0, price=4113.27, stoplimit=0.0, sl=0.0, tp=0.0, deviation=1000, type=1, type_filling=0, type_time=0, expiration=0, comment='python script open', position=0, position_by=0))"
      ]
     },
     "execution_count": 43,
     "metadata": {},
     "output_type": "execute_result"
    }
   ],
   "source": [
    "result"
   ]
  },
  {
   "cell_type": "code",
   "execution_count": 44,
   "id": "583671a5",
   "metadata": {},
   "outputs": [
    {
     "data": {
      "text/plain": [
       "10009"
      ]
     },
     "execution_count": 44,
     "metadata": {},
     "output_type": "execute_result"
    }
   ],
   "source": [
    "mt5.TRADE_RETCODE_DONE"
   ]
  },
  {
   "cell_type": "code",
   "execution_count": 45,
   "id": "914b7aa7",
   "metadata": {},
   "outputs": [
    {
     "name": "stdout",
     "output_type": "stream",
     "text": [
      "1. order_send(): by US500.F 10.0 lots at 4113.27 with deviation=1000 points\n",
      "2. order_send failed, retcode=10027\n",
      "   retcode=10027\n",
      "   deal=0\n",
      "   order=0\n",
      "   volume=0.0\n",
      "   price=0.0\n",
      "   bid=0.0\n",
      "   ask=0.0\n",
      "   comment=AutoTrading disabled by client\n",
      "   request_id=0\n",
      "   retcode_external=0\n",
      "   request=TradeRequest(action=1, magic=234000, order=0, symbol='US500.F', volume=10.0, price=4113.27, stoplimit=0.0, sl=0.0, tp=0.0, deviation=1000, type=1, type_filling=0, type_time=0, expiration=0, comment='python script open', position=0, position_by=0)\n",
      "       traderequest: action=1\n",
      "       traderequest: magic=234000\n",
      "       traderequest: order=0\n",
      "       traderequest: symbol=US500.F\n",
      "       traderequest: volume=10.0\n",
      "       traderequest: price=4113.27\n",
      "       traderequest: stoplimit=0.0\n",
      "       traderequest: sl=0.0\n",
      "       traderequest: tp=0.0\n",
      "       traderequest: deviation=1000\n",
      "       traderequest: type=1\n",
      "       traderequest: type_filling=0\n",
      "       traderequest: type_time=0\n",
      "       traderequest: expiration=0\n",
      "       traderequest: comment=python script open\n",
      "       traderequest: position=0\n",
      "       traderequest: position_by=0\n",
      "shutdown() and quit\n"
     ]
    },
    {
     "ename": "",
     "evalue": "",
     "output_type": "error",
     "traceback": [
      "\u001b[1;31mThe Kernel crashed while executing code in the the current cell or a previous cell. Please review the code in the cell(s) to identify a possible cause of the failure. Click <a href='https://aka.ms/vscodeJupyterKernelCrash'>here</a> for more info. View Jupyter <a href='command:jupyter.viewOutput'>log</a> for further details."
     ]
    }
   ],
   "source": [
    "# Send a trading request\n",
    "result = mt5.order_send(request)\n",
    "\n",
    "# check the execution result\n",
    "print(\"1. order_send(): by {} {} lots at {} with deviation={} points\".format(symbol,lot,price,deviation))\n",
    "\n",
    "if result.retcode != mt5.TRADE_RETCODE_DONE:\n",
    "    print(\"2. order_send failed, retcode={}\".format(result.retcode))\n",
    "    # request the result as a dictionary and display it element by element\n",
    "    result_dict=result._asdict()\n",
    "    for field in result_dict.keys():\n",
    "        print(\"   {}={}\".format(field,result_dict[field]))\n",
    "        # if this is a trading request structure, display it element by element as well\n",
    "        if field==\"request\":\n",
    "            traderequest_dict=result_dict[field]._asdict()\n",
    "            for tradereq_filed in traderequest_dict:\n",
    "                print(\"       traderequest: {}={}\".format(tradereq_filed,traderequest_dict[tradereq_filed]))\n",
    "    print(\"shutdown() and quit\")\n",
    "    mt5.shutdown()\n",
    "    quit()"
   ]
  },
  {
   "cell_type": "code",
   "execution_count": null,
   "id": "4980376a",
   "metadata": {},
   "outputs": [],
   "source": []
  }
 ],
 "metadata": {
  "interpreter": {
   "hash": "1cca9558bc5ad879ec93cc030b157d75f18267527c60932cecaace349eef54dd"
  },
  "kernelspec": {
   "display_name": "Python 3.9.7 ('base')",
   "language": "python",
   "name": "python3"
  },
  "language_info": {
   "codemirror_mode": {
    "name": "ipython",
    "version": 3
   },
   "file_extension": ".py",
   "mimetype": "text/x-python",
   "name": "python",
   "nbconvert_exporter": "python",
   "pygments_lexer": "ipython3",
   "version": "3.9.7"
  }
 },
 "nbformat": 4,
 "nbformat_minor": 5
}
